{
  "cells": [
    {
      "cell_type": "markdown",
      "metadata": {
        "id": "-sq7LWW1GyMr"
      },
      "source": [
        "# 8章　MNISTを使った数字認識"
      ]
    },
    {
      "cell_type": "code",
      "execution_count": 13,
      "metadata": {
        "id": "m4NAwf20QRbN"
      },
      "outputs": [
        {
          "name": "stdout",
          "output_type": "stream",
          "text": [
            "Requirement already satisfied: six>=1.5 in /opt/conda/lib/python3.8/site-packages (from python-dateutil>=2.7->matplotlib->japanize_matplotlib) (1.16.0)\n",
            "Requirement already satisfied: typing_extensions in /opt/conda/lib/python3.8/site-packages (from torch->torchviz) (4.3.0)\n",
            "Requirement already satisfied: torchinfo in /opt/conda/lib/python3.8/site-packages (1.7.0)\n"
          ]
        }
      ],
      "source": [
        "# 必要ライブラリの導入\n",
        "\n",
        "!pip install japanize_matplotlib | tail -n 1\n",
        "!pip install torchviz | tail -n 1\n",
        "!pip install torchinfo | tail -n 1"
      ]
    },
    {
      "cell_type": "code",
      "execution_count": 14,
      "metadata": {
        "id": "wIKc0rgJQRbQ"
      },
      "outputs": [],
      "source": [
        "# 必要ライブラリのインポート\n",
        "\n",
        "%matplotlib inline\n",
        "import numpy as np\n",
        "import matplotlib.pyplot as plt\n",
        "import japanize_matplotlib\n",
        "from IPython.display import display"
      ]
    },
    {
      "cell_type": "code",
      "execution_count": 15,
      "metadata": {
        "id": "R4AKptKEQRbQ"
      },
      "outputs": [],
      "source": [
        "# torch関連ライブラリのインポート\n",
        "\n",
        "import torch\n",
        "import torch.nn as nn\n",
        "import torch.optim as optim\n",
        "from torchinfo import summary\n",
        "from torchviz import make_dot"
      ]
    },
    {
      "cell_type": "code",
      "execution_count": 16,
      "metadata": {
        "id": "OaJvhUX1QRbR"
      },
      "outputs": [],
      "source": [
        "# warning表示off\n",
        "import warnings\n",
        "warnings.simplefilter('ignore')\n",
        "\n",
        "# デフォルトフォントサイズ変更\n",
        "plt.rcParams['font.size'] = 14\n",
        "\n",
        "# デフォルトグラフサイズ変更\n",
        "plt.rcParams['figure.figsize'] = (6,6)\n",
        "\n",
        "# デフォルトで方眼表示ON\n",
        "plt.rcParams['axes.grid'] = True\n",
        "\n",
        "# numpyの表示桁数設定\n",
        "np.set_printoptions(suppress=True, precision=5)"
      ]
    },
    {
      "cell_type": "markdown",
      "metadata": {
        "id": "-vlvZjd_y8fw"
      },
      "source": [
        "## 8.3 ReLU関数"
      ]
    },
    {
      "cell_type": "code",
      "execution_count": 17,
      "metadata": {
        "id": "Qr0e6fNJztAr"
      },
      "outputs": [
        {
          "data": {
            "image/png": "[encoded data removed]",
            "text/plain": [
              "<Figure size 432x432 with 1 Axes>"
            ]
          },
          "metadata": {
            "needs_background": "light"
          },
          "output_type": "display_data"
        }
      ],
      "source": [
        "# ReLU関数のグラフ\n",
        "\n",
        "relu = nn.ReLU()\n",
        "x_np = np.arange(-2, 2.1, 0.25)\n",
        "x = torch.tensor(x_np).float()\n",
        "y = relu(x)\n",
        "\n",
        "plt.plot(x.data, y.data)\n",
        "plt.title('ReLU関数')\n",
        "plt.show()"
      ]
    },
    {
      "cell_type": "markdown",
      "metadata": {
        "id": "JuXnWk6jtpfW"
      },
      "source": [
        "## 8.4 GPU利用"
      ]
    },
    {
      "cell_type": "markdown",
      "metadata": {
        "id": "G9dK3ibfzWDW"
      },
      "source": [
        "### GPUチェック"
      ]
    },
    {
      "cell_type": "code",
      "execution_count": 18,
      "metadata": {
        "id": "-vMUHy9RGyNB"
      },
      "outputs": [
        {
          "name": "stdout",
          "output_type": "stream",
          "text": [
            "cuda:0\n"
          ]
        }
      ],
      "source": [
        "# デバイスの割り当て\n",
        "device = torch.device(\"cuda:0\" if torch.cuda.is_available() else \"cpu\")\n",
        "print(device)"
      ]
    },
    {
      "cell_type": "code",
      "execution_count": 19,
      "metadata": {},
      "outputs": [
        {
          "data": {
            "text/plain": [
              "True"
            ]
          },
          "execution_count": 19,
          "metadata": {},
          "output_type": "execute_result"
        }
      ],
      "source": [
        "torch.cuda.is_available()"
      ]
    },
    {
      "cell_type": "code",
      "execution_count": 20,
      "metadata": {
        "id": "Z-koKiUTy8fx"
      },
      "outputs": [
        {
          "name": "stdout",
          "output_type": "stream",
          "text": [
            "[-2.   -1.75 -1.5  -1.25 -1.   -0.75 -0.5  -0.25  0.    0.25  0.5   0.75\n",
            "  1.    1.25  1.5   1.75  2.  ] 17\n",
            "[-1.   -0.75 -0.5  -0.25  0.    0.25  0.5   0.75  1.    1.25  1.5   1.75\n",
            "  2.    2.25  2.5   2.75  3.  ] 17\n",
            "tensor([ 2.0000,  1.3125,  0.7500,  0.3125, -0.0000, -0.1875, -0.2500, -0.1875,\n",
            "         0.0000,  0.3125,  0.7500,  1.3125,  2.0000,  2.8125,  3.7500,  4.8125,\n",
            "         6.0000])\n",
            "1.3125\n"
          ]
        }
      ],
      "source": [
        "# テスト用tensor変数x , y \n",
        "x_np = np.arange(-2.0, 2.1, 0.25)\n",
        "y_np = np.arange(-1.0, 3.1, 0.25)\n",
        "print(x_np, len(x_np))\n",
        "print(y_np, len(y_np))\n",
        "x = torch.tensor(x_np).float()\n",
        "y = torch.tensor(y_np).float()\n",
        "\n",
        "# xとyの間の演算\n",
        "z = x * y\n",
        "print(z)\n",
        "\n",
        "print(-1.75 * -0.75)"
      ]
    },
    {
      "cell_type": "code",
      "execution_count": 21,
      "metadata": {
        "id": "1-VBUQL135T3"
      },
      "outputs": [
        {
          "name": "stdout",
          "output_type": "stream",
          "text": [
            "x:  cuda:0\n",
            "y:  cpu\n"
          ]
        }
      ],
      "source": [
        "# 変数xをGPUに送る\n",
        "x = x.to(device)\n",
        "\n",
        "# 変数xとyの属性data, deviceの確認\n",
        "print('x: ', x.device)\n",
        "print('y: ', y.device)"
      ]
    },
    {
      "cell_type": "code",
      "execution_count": 22,
      "metadata": {
        "id": "ovOqHX2735yN"
      },
      "outputs": [],
      "source": [
        "# この状態でxとyの演算をすると。。。\n",
        "\n",
        "# z = x * y"
      ]
    },
    {
      "cell_type": "code",
      "execution_count": 23,
      "metadata": {
        "id": "qavPREnP359u"
      },
      "outputs": [
        {
          "name": "stdout",
          "output_type": "stream",
          "text": [
            "tensor([ 2.0000,  1.3125,  0.7500,  0.3125, -0.0000, -0.1875, -0.2500, -0.1875,\n",
            "         0.0000,  0.3125,  0.7500,  1.3125,  2.0000,  2.8125,  3.7500,  4.8125,\n",
            "         6.0000], device='cuda:0')\n"
          ]
        }
      ],
      "source": [
        "# yもGPUに送る\n",
        "y = y.to(device)\n",
        "\n",
        "# 今度は計算可能になる\n",
        "z = x * y\n",
        "print(z)"
      ]
    },
    {
      "cell_type": "markdown",
      "metadata": {
        "id": "7S2H468hORq2"
      },
      "source": [
        "## 8.8 データ準備1 (データセットによる読み込み)"
      ]
    },
    {
      "cell_type": "code",
      "execution_count": 24,
      "metadata": {
        "id": "nbjBR_ZAORq3"
      },
      "outputs": [],
      "source": [
        "# ライブラリインポート\n",
        "import torchvision.datasets as datasets\n",
        "\n",
        "# ダウンロード先ディレクトリ名\n",
        "data_root = './data'\n",
        "\n",
        "train_set0 = datasets.MNIST(\n",
        "    # 元データダウンロード先の指定\n",
        "    root = data_root,  \n",
        "    # 訓練データか検証データか\n",
        "    train = True,  \n",
        "    # 元データがない場合にダウンロードするか\n",
        "    download = True)"
      ]
    },
    {
      "cell_type": "code",
      "execution_count": 25,
      "metadata": {
        "id": "yZDvzf2nSc8n"
      },
      "outputs": [
        {
          "name": "stdout",
          "output_type": "stream",
          "text": [
            "./data/MNIST:\n",
            "total 4\n",
            "drwxr-xr-x 2 dev-user dev-user 4096 Sep 19 11:56 raw\n",
            "\n",
            "./data/MNIST/raw:\n",
            "total 65008\n",
            "-rw-r--r-- 1 dev-user dev-user  7840016 Sep 19 11:56 t10k-images-idx3-ubyte\n",
            "-rw-r--r-- 1 dev-user dev-user  1648877 Sep 19 11:56 t10k-images-idx3-ubyte.gz\n",
            "-rw-r--r-- 1 dev-user dev-user    10008 Sep 19 11:56 t10k-labels-idx1-ubyte\n",
            "-rw-r--r-- 1 dev-user dev-user     4542 Sep 19 11:56 t10k-labels-idx1-ubyte.gz\n",
            "-rw-r--r-- 1 dev-user dev-user 47040016 Sep 19 11:56 train-images-idx3-ubyte\n",
            "-rw-r--r-- 1 dev-user dev-user  9912422 Sep 19 11:56 train-images-idx3-ubyte.gz\n",
            "-rw-r--r-- 1 dev-user dev-user    60008 Sep 19 11:56 train-labels-idx1-ubyte\n",
            "-rw-r--r-- 1 dev-user dev-user    28881 Sep 19 11:56 train-labels-idx1-ubyte.gz\n"
          ]
        }
      ],
      "source": [
        "# ダウンロードしたファイルの確認\n",
        "\n",
        "!ls -lR ./data/MNIST"
      ]
    },
    {
      "cell_type": "code",
      "execution_count": 26,
      "metadata": {
        "id": "DTnvCClZh93k"
      },
      "outputs": [
        {
          "name": "stdout",
          "output_type": "stream",
          "text": [
            "データ件数:  60000\n",
            "入力データの型:  <class 'PIL.Image.Image'>\n",
            "正解データの型:  <class 'int'>\n"
          ]
        }
      ],
      "source": [
        "# データ件数の確認\n",
        "print('データ件数: ', len(train_set0))\n",
        "\n",
        "# 最初の要素の取得\n",
        "image, label = train_set0[0]\n",
        "\n",
        "# データ型の確認\n",
        "print('入力データの型: ', type(image))\n",
        "print('正解データの型: ', type(label))"
      ]
    },
    {
      "cell_type": "code",
      "execution_count": 27,
      "metadata": {
        "id": "zax7TjeCORq5"
      },
      "outputs": [
        {
          "data": {
            "image/png": "[encoded data removed]",
            "text/plain": [
              "<Figure size 144x216 with 1 Axes>"
            ]
          },
          "metadata": {
            "needs_background": "light"
          },
          "output_type": "display_data"
        }
      ],
      "source": [
        "# 入力データの画像表示\n",
        "\n",
        "plt.figure(figsize=(2,3))\n",
        "plt.title(f'{label}')\n",
        "plt.imshow(image, cmap='gray_r')\n",
        "plt.axis('off')\n",
        "plt.show()"
      ]
    },
    {
      "cell_type": "code",
      "execution_count": 28,
      "metadata": {
        "id": "cltigf4xh95z"
      },
      "outputs": [
        {
          "data": {
            "image/png": "[encoded data removed]",
            "text/plain": [
              "<Figure size 720x216 with 20 Axes>"
            ]
          },
          "metadata": {
            "needs_background": "light"
          },
          "output_type": "display_data"
        }
      ],
      "source": [
        "# 正解データ付きで、最初の20個をイメージ表示\n",
        "\n",
        "plt.figure(figsize=(10, 3))\n",
        "for i in range(20):\n",
        "    ax = plt.subplot(2, 10, i + 1)\n",
        "    \n",
        "    # image と labelの取得\n",
        "    image, label = train_set0[i]\n",
        "    \n",
        "    # イメージ表示\n",
        "    plt.imshow(image, cmap='gray_r')\n",
        "    ax.set_title(f'{label}')\n",
        "    ax.get_xaxis().set_visible(False)\n",
        "    ax.get_yaxis().set_visible(False)\n",
        "plt.show()"
      ]
    },
    {
      "cell_type": "markdown",
      "metadata": {
        "id": "H69fmQI0ORq6"
      },
      "source": [
        "## 8.9 データ準備2 (Transformsによるデータ前処理)"
      ]
    },
    {
      "cell_type": "markdown",
      "metadata": {
        "id": "8_LMC1gpORq6"
      },
      "source": [
        "### Step1 ToTensorの利用"
      ]
    },
    {
      "cell_type": "code",
      "execution_count": 29,
      "metadata": {
        "id": "1JBDhjnIORq6"
      },
      "outputs": [],
      "source": [
        "# ライブラリインポート\n",
        "import torchvision.transforms as transforms\n",
        "\n",
        "transform1 = transforms.Compose([\n",
        "    # データのTensor化\n",
        "    transforms.ToTensor(),\n",
        "])\n",
        "\n",
        "train_set1 = datasets.MNIST(\n",
        "    root=data_root,  train=True,  download=True,\n",
        "    transform = transform1)"
      ]
    },
    {
      "cell_type": "code",
      "execution_count": 30,
      "metadata": {
        "id": "fHERq6bDORq6"
      },
      "outputs": [
        {
          "name": "stdout",
          "output_type": "stream",
          "text": [
            "入力データの型:  <class 'torch.Tensor'>\n",
            "入力データのshape:  torch.Size([1, 28, 28])\n",
            "最小値:  tensor(0.)\n",
            "最大値:  tensor(1.)\n"
          ]
        }
      ],
      "source": [
        "# 変換結果の確認\n",
        "\n",
        "image, label = train_set1[0]\n",
        "print('入力データの型: ', type(image))\n",
        "print('入力データのshape: ', image.shape)\n",
        "print('最小値: ', image.data.min())\n",
        "print('最大値: ', image.data.max())"
      ]
    },
    {
      "cell_type": "markdown",
      "metadata": {
        "id": "Vc0HYDp_ORq7"
      },
      "source": [
        "### Step2 Normalizeの利用"
      ]
    },
    {
      "cell_type": "code",
      "execution_count": 31,
      "metadata": {
        "id": "EGCtROV8ORq7"
      },
      "outputs": [],
      "source": [
        "transform2 = transforms.Compose([\n",
        "    # データのTensor化\n",
        "    transforms.ToTensor(),\n",
        "    \n",
        "    # データの正規化\n",
        "    transforms.Normalize(0.5,  0.5),\n",
        "])\n",
        "\n",
        "train_set2 = datasets.MNIST(\n",
        "    root = data_root,  train = True,  download = True,\n",
        "    transform = transform2)"
      ]
    },
    {
      "cell_type": "code",
      "execution_count": 32,
      "metadata": {
        "id": "y0R6AO1BORq7"
      },
      "outputs": [
        {
          "name": "stdout",
          "output_type": "stream",
          "text": [
            "shape:  torch.Size([1, 28, 28])\n",
            "最小値:  tensor(-1.)\n",
            "最大値:  tensor(1.)\n"
          ]
        }
      ],
      "source": [
        "# 変換結果の確認\n",
        "\n",
        "image, label = train_set2[0]\n",
        "print('shape: ', image.shape)\n",
        "print('最小値: ', image.data.min())\n",
        "print('最大値: ', image.data.max())"
      ]
    },
    {
      "cell_type": "markdown",
      "metadata": {
        "id": "C3cZ9aT9ORq8"
      },
      "source": [
        "### Step3 Lambdaを利用して1階テンソル化"
      ]
    },
    {
      "cell_type": "code",
      "execution_count": 33,
      "metadata": {
        "id": "jsZ1B1MXORq8"
      },
      "outputs": [],
      "source": [
        "transform3 = transforms.Compose([\n",
        "    # データのTensor化\n",
        "    transforms.ToTensor(),\n",
        "    \n",
        "    # データの正規化\n",
        "    transforms.Normalize(0.5, 0.5),\n",
        "    \n",
        "    # Tensorの1階テンソル化\n",
        "    transforms.Lambda(lambda x: x.view(-1)),\n",
        "])\n",
        "\n",
        "train_set3 = datasets.MNIST(\n",
        "    root = data_root,  train = True,  \n",
        "    download=True, transform = transform3)"
      ]
    },
    {
      "cell_type": "code",
      "execution_count": 34,
      "metadata": {
        "id": "kQFnaPTnORq8"
      },
      "outputs": [
        {
          "name": "stdout",
          "output_type": "stream",
          "text": [
            "shape:  torch.Size([784])\n",
            "最小値:  tensor(-1.)\n",
            "最大値:  tensor(1.)\n"
          ]
        }
      ],
      "source": [
        "# 変換結果の確認\n",
        "\n",
        "image, label = train_set3[0]\n",
        "print('shape: ', image.shape)\n",
        "print('最小値: ', image.data.min())\n",
        "print('最大値: ', image.data.max())"
      ]
    },
    {
      "cell_type": "markdown",
      "metadata": {
        "id": "Lm2hP2TtORq9"
      },
      "source": [
        "### 最終的な実装"
      ]
    },
    {
      "cell_type": "code",
      "execution_count": 35,
      "metadata": {
        "id": "3LuXsts3ORq9"
      },
      "outputs": [],
      "source": [
        "# データ変換用関数 Transforms\n",
        "# (1) Imageをテンソル化\n",
        "# (2) [0, 1]の範囲の値を[-1, 1]の範囲にする\n",
        "# (3) データのshapeを[1, 28, 28]から[784]に変換\n",
        "\n",
        "transform = transforms.Compose([\n",
        "    # (1) データのテンソル化\n",
        "    transforms.ToTensor(),\n",
        "    \n",
        "    # (2) データの正規化\n",
        "    transforms.Normalize(0.5, 0.5),\n",
        "    \n",
        "    # (3) 1階テンソルに変換\n",
        "    transforms.Lambda(lambda x: x.view(-1)),\n",
        "])"
      ]
    },
    {
      "cell_type": "code",
      "execution_count": 36,
      "metadata": {
        "id": "3gEppo6VORq9"
      },
      "outputs": [],
      "source": [
        "# データ取得用関数 Dataset\n",
        "\n",
        "# 訓練用データセットの定義\n",
        "train_set = datasets.MNIST(\n",
        "    root = data_root, train = True,\n",
        "    download = True, transform = transform)\n",
        "\n",
        "# 検証データセットの定義\n",
        "test_set = datasets.MNIST(\n",
        "    root = data_root, train = False, \n",
        "    download = True, transform = transform)"
      ]
    },
    {
      "cell_type": "markdown",
      "metadata": {
        "id": "oE2YPjEFORq-"
      },
      "source": [
        "## 8.10 データ準備3 データローダーによるミニバッチ用データ生成)"
      ]
    },
    {
      "cell_type": "code",
      "execution_count": 37,
      "metadata": {
        "id": "c5Jog4MHORq-"
      },
      "outputs": [],
      "source": [
        "# ライブラリインポート\n",
        "from torch.utils.data import DataLoader\n",
        "\n",
        "# ミニバッチのサイズ指定\n",
        "batch_size = 500\n",
        "\n",
        "# 訓練用データローダー\n",
        "# 訓練用なので、シャッフルをかける\n",
        "train_loader = DataLoader(\n",
        "    train_set, batch_size = batch_size, \n",
        "    shuffle = True)\n",
        "\n",
        "# 検証用データローダー\n",
        "# 検証時にシャッフルは不要\n",
        "test_loader = DataLoader(\n",
        "    test_set,  batch_size = batch_size, \n",
        "    shuffle = False) "
      ]
    },
    {
      "cell_type": "code",
      "execution_count": 38,
      "metadata": {
        "id": "xpWvs4n9ORq-"
      },
      "outputs": [
        {
          "name": "stdout",
          "output_type": "stream",
          "text": [
            "120\n",
            "torch.Size([500, 784])\n",
            "torch.Size([500])\n"
          ]
        }
      ],
      "source": [
        "# 何組のデータが取得できるか\n",
        "print(len(train_loader))\n",
        "\n",
        "# DataLoaderから最初の1セットを取得する\n",
        "for images, labels in train_loader:\n",
        "    break\n",
        "\n",
        "print(images.shape)\n",
        "print(labels.shape)"
      ]
    },
    {
      "cell_type": "code",
      "execution_count": 39,
      "metadata": {
        "id": "uIk15hXpORq_"
      },
      "outputs": [
        {
          "data": {
            "image/png": "[encoded data removed]",
            "text/plain": [
              "<Figure size 720x216 with 20 Axes>"
            ]
          },
          "metadata": {
            "needs_background": "light"
          },
          "output_type": "display_data"
        }
      ],
      "source": [
        "# イメージ表示\n",
        "plt.figure(figsize=(10, 3))\n",
        "for i in range(20):\n",
        "    ax = plt.subplot(2, 10, i + 1)\n",
        "    \n",
        "    # numpyに変換\n",
        "    image = images[i].numpy()\n",
        "    label = labels[i]\n",
        "    \n",
        "    # imgの範囲を[0, 1]に戻す\n",
        "    image2 = (image + 1)/ 2\n",
        "    # イメージ表示\n",
        "    plt.imshow(image2.reshape(28, 28),cmap='gray_r')\n",
        "    ax.set_title(f'{label}')\n",
        "    ax.get_xaxis().set_visible(False)\n",
        "    ax.get_yaxis().set_visible(False)\n",
        "plt.show()"
      ]
    },
    {
      "cell_type": "markdown",
      "metadata": {
        "id": "C68aEOhrGyNA"
      },
      "source": [
        "全体で60000件ある訓練データが120個のグループに分割されて取得できていることがわかります。  \n",
        "今回はテスト用でシャッフルなしでデータを取得しましたが、訓練データは取得のたびにシャッフルがかかります。  \n",
        "つまり、ミニバッチ用のデータセットが自動的に取得できていることになります。"
      ]
    },
    {
      "cell_type": "markdown",
      "metadata": {
        "id": "ZBHL-ynpTx6X"
      },
      "source": [
        "## 8.11 モデル定義"
      ]
    },
    {
      "cell_type": "code",
      "execution_count": 40,
      "metadata": {
        "id": "uIXhfySWTx6Y"
      },
      "outputs": [
        {
          "name": "stdout",
          "output_type": "stream",
          "text": [
            "n_input: 784  n_hidden: 128 n_output: 10\n"
          ]
        }
      ],
      "source": [
        "# 入力次元数\n",
        "n_input = image.shape[0]\n",
        "\n",
        "# 出力次元数\n",
        "# 分類先クラス数　今回は10になる\n",
        "n_output = len(set(list(labels.data.numpy())))\n",
        "\n",
        "#   隠れ層のノード数\n",
        "n_hidden = 128\n",
        "\n",
        "# 結果確認\n",
        "print(f'n_input: {n_input}  n_hidden: {n_hidden} n_output: {n_output}')"
      ]
    },
    {
      "cell_type": "code",
      "execution_count": 41,
      "metadata": {
        "id": "GIHt22OFGyNC"
      },
      "outputs": [],
      "source": [
        "# モデルの定義\n",
        "# 784入力10出力1隠れ層のニューラルネットワークモデル\n",
        "\n",
        "class Net(nn.Module):\n",
        "    def __init__(self, n_input, n_output, n_hidden):\n",
        "        super().__init__()\n",
        "\n",
        "        # 隠れ層の定義 (隠れ層のノード数: n_hidden)\n",
        "        self.l1 = nn.Linear(n_input, n_hidden)\n",
        "\n",
        "        # 出力層の定義\n",
        "        self.l2 = nn.Linear(n_hidden, n_output)\n",
        "\n",
        "        # ReLU関数の定義\n",
        "        self.relu = nn.ReLU(inplace=True)\n",
        "   \n",
        "    def forward(self, x):\n",
        "        x1 = self.l1(x)\n",
        "        x2 = self.relu(x1)\n",
        "        x3 = self.l2(x2)\n",
        "        return x3"
      ]
    },
    {
      "cell_type": "code",
      "execution_count": 42,
      "metadata": {},
      "outputs": [
        {
          "data": {
            "text/plain": [
              "<torch._C.Generator at 0x7f37c732f7d0>"
            ]
          },
          "execution_count": 42,
          "metadata": {},
          "output_type": "execute_result"
        }
      ],
      "source": [
        "torch.manual_seed(123)"
      ]
    },
    {
      "cell_type": "code",
      "execution_count": 43,
      "metadata": {},
      "outputs": [],
      "source": [
        "!export CUDA_LAUNCH_BLOCKING=1"
      ]
    },
    {
      "cell_type": "code",
      "execution_count": 2,
      "metadata": {},
      "outputs": [
        {
          "name": "stdout",
          "output_type": "stream",
          "text": [
            "cuda:0\n"
          ]
        }
      ],
      "source": [
        "import torch\n",
        "\n",
        "# デバイスの割り当て\n",
        "device = torch.device(\"cuda:0\" if torch.cuda.is_available() else \"cpu\")\n",
        "print(device)\n"
      ]
    },
    {
      "cell_type": "code",
      "execution_count": 45,
      "metadata": {
        "id": "Q749IwhKGyNC"
      },
      "outputs": [],
      "source": [
        "# 乱数の固定化\n",
        "torch.manual_seed(123)\n",
        "torch.cuda.manual_seed(123)\n",
        "\n",
        "# モデルインスタンス生成\n",
        "net = Net(n_input, n_output, n_hidden)\n",
        "\n",
        "# モデルをGPU側に送る\n",
        "net = net.to(device)"
      ]
    },
    {
      "cell_type": "markdown",
      "metadata": {
        "id": "0V6v9PCpTx6b"
      },
      "source": [
        "### 最適化アルゴリズムと損失関数"
      ]
    },
    {
      "cell_type": "code",
      "execution_count": 46,
      "metadata": {
        "id": "VyIXY4i_GyNC"
      },
      "outputs": [],
      "source": [
        "# 学習率\n",
        "lr = 0.01\n",
        "\n",
        "# アルゴリズム: 勾配降下法\n",
        "optimizer = torch.optim.SGD(net.parameters(), lr=lr)\n",
        "\n",
        "# 損失関数： 交差エントロピー関数\n",
        "criterion = nn.CrossEntropyLoss()"
      ]
    },
    {
      "cell_type": "markdown",
      "metadata": {
        "id": "YdR3zTewTx6c"
      },
      "source": [
        "### モデル確認"
      ]
    },
    {
      "cell_type": "code",
      "execution_count": 47,
      "metadata": {
        "id": "fDwhdRWjMOmT"
      },
      "outputs": [
        {
          "name": "stdout",
          "output_type": "stream",
          "text": [
            "('l1.weight', Parameter containing:\n",
            "tensor([[-0.0146,  0.0012, -0.0177,  ...,  0.0277,  0.0200,  0.0315],\n",
            "        [ 0.0184, -0.0322,  0.0175,  ...,  0.0089, -0.0028, -0.0033],\n",
            "        [ 0.0092,  0.0261,  0.0075,  ...,  0.0061,  0.0267, -0.0258],\n",
            "        ...,\n",
            "        [ 0.0235, -0.0026, -0.0129,  ...,  0.0322, -0.0059, -0.0169],\n",
            "        [-0.0328, -0.0258,  0.0124,  ..., -0.0049,  0.0006,  0.0334],\n",
            "        [ 0.0187, -0.0076, -0.0202,  ...,  0.0325, -0.0159, -0.0240]],\n",
            "       device='cuda:0', requires_grad=True))\n",
            "('l1.bias', Parameter containing:\n",
            "tensor([ 0.0325, -0.0298,  0.0013,  0.0199,  0.0268, -0.0248, -0.0172, -0.0355,\n",
            "         0.0122, -0.0048,  0.0214,  0.0202, -0.0243,  0.0015, -0.0276,  0.0296,\n",
            "         0.0341, -0.0228,  0.0230,  0.0347, -0.0091, -0.0346,  0.0206, -0.0060,\n",
            "         0.0329,  0.0047,  0.0180,  0.0101,  0.0177, -0.0309,  0.0228, -0.0224,\n",
            "         0.0321,  0.0179,  0.0321,  0.0184,  0.0219, -0.0089,  0.0310, -0.0039,\n",
            "        -0.0074, -0.0317,  0.0192, -0.0021,  0.0190,  0.0038,  0.0334, -0.0027,\n",
            "        -0.0127,  0.0229, -0.0265,  0.0023, -0.0162, -0.0134, -0.0027,  0.0212,\n",
            "        -0.0205, -0.0144,  0.0121,  0.0001,  0.0086,  0.0033,  0.0123,  0.0213,\n",
            "        -0.0177,  0.0247, -0.0109, -0.0222,  0.0228, -0.0110, -0.0074, -0.0089,\n",
            "        -0.0205,  0.0323, -0.0207, -0.0205, -0.0028, -0.0341, -0.0304,  0.0144,\n",
            "         0.0072,  0.0326, -0.0342, -0.0329, -0.0032, -0.0200, -0.0029, -0.0098,\n",
            "         0.0220, -0.0160,  0.0099,  0.0033, -0.0289,  0.0110,  0.0199,  0.0131,\n",
            "        -0.0279,  0.0122,  0.0237,  0.0126, -0.0055, -0.0088, -0.0057, -0.0048,\n",
            "         0.0007, -0.0017, -0.0324,  0.0048, -0.0134,  0.0334,  0.0298, -0.0060,\n",
            "         0.0263,  0.0113, -0.0113,  0.0150,  0.0091, -0.0311, -0.0079,  0.0002,\n",
            "        -0.0282, -0.0016,  0.0304, -0.0237, -0.0157, -0.0255,  0.0006,  0.0100],\n",
            "       device='cuda:0', requires_grad=True))\n",
            "('l2.weight', Parameter containing:\n",
            "tensor([[ 0.0107,  0.0714,  0.0153,  ...,  0.0704,  0.0505, -0.0382],\n",
            "        [-0.0066,  0.0348,  0.0143,  ..., -0.0039, -0.0141,  0.0130],\n",
            "        [-0.0251, -0.0654,  0.0567,  ..., -0.0435,  0.0154,  0.0256],\n",
            "        ...,\n",
            "        [-0.0131,  0.0147, -0.0452,  ...,  0.0344, -0.0539,  0.0466],\n",
            "        [ 0.0771, -0.0510,  0.0769,  ..., -0.0257, -0.0351,  0.0670],\n",
            "        [ 0.0456,  0.0628, -0.0649,  ..., -0.0804,  0.0707,  0.0119]],\n",
            "       device='cuda:0', requires_grad=True))\n",
            "('l2.bias', Parameter containing:\n",
            "tensor([-0.0787, -0.0282, -0.0108,  0.0021, -0.0330, -0.0162, -0.0825,  0.0590,\n",
            "         0.0566, -0.0631], device='cuda:0', requires_grad=True))\n"
          ]
        }
      ],
      "source": [
        "# モデル内のパラメータの確認\n",
        "# l1.weight, l1.bias, l2.weight, l2.biasがあることがわかる\n",
        "\n",
        "for parameter in net.named_parameters():\n",
        "    print(parameter)"
      ]
    },
    {
      "cell_type": "code",
      "execution_count": 48,
      "metadata": {
        "id": "b56fYbaVGyND"
      },
      "outputs": [
        {
          "name": "stdout",
          "output_type": "stream",
          "text": [
            "Net(\n",
            "  (l1): Linear(in_features=784, out_features=128, bias=True)\n",
            "  (l2): Linear(in_features=128, out_features=10, bias=True)\n",
            "  (relu): ReLU(inplace=True)\n",
            ")\n"
          ]
        }
      ],
      "source": [
        "# モデルの概要表示\n",
        "\n",
        "print(net)"
      ]
    },
    {
      "cell_type": "code",
      "execution_count": 49,
      "metadata": {
        "id": "tl6x8W1vGyND"
      },
      "outputs": [
        {
          "data": {
            "text/plain": [
              "==========================================================================================\n",
              "Layer (type:depth-idx)                   Output Shape              Param #\n",
              "==========================================================================================\n",
              "Net                                      [10]                      --\n",
              "├─Linear: 1-1                            [128]                     100,480\n",
              "├─ReLU: 1-2                              [128]                     --\n",
              "├─Linear: 1-3                            [10]                      1,290\n",
              "==========================================================================================\n",
              "Total params: 101,770\n",
              "Trainable params: 101,770\n",
              "Non-trainable params: 0\n",
              "Total mult-adds (M): 12.87\n",
              "==========================================================================================\n",
              "Input size (MB): 0.00\n",
              "Forward/backward pass size (MB): 0.00\n",
              "Params size (MB): 0.41\n",
              "Estimated Total Size (MB): 0.41\n",
              "=========================================================================================="
            ]
          },
          "execution_count": 49,
          "metadata": {},
          "output_type": "execute_result"
        }
      ],
      "source": [
        "# モデルのサマリー表示\n",
        "\n",
        "summary(net, (784,))"
      ]
    },
    {
      "cell_type": "markdown",
      "metadata": {
        "id": "zodDP4VcuuQl"
      },
      "source": [
        "## 8.12 勾配降下法"
      ]
    },
    {
      "cell_type": "markdown",
      "metadata": {
        "id": "UnhTGUUiBYnV"
      },
      "source": [
        "### 予測計算"
      ]
    },
    {
      "cell_type": "code",
      "execution_count": 50,
      "metadata": {
        "id": "kE5l-chbGyND"
      },
      "outputs": [],
      "source": [
        "# 訓練データセット　最初の1項目を取得\n",
        "# データローダーから最初の1セットを取得する\n",
        "for images, labels in train_loader:\n",
        "    break "
      ]
    },
    {
      "cell_type": "code",
      "execution_count": 51,
      "metadata": {
        "id": "FQax9NwFJeWs"
      },
      "outputs": [],
      "source": [
        "# データローダーから取得したデータをGPUに送る\n",
        "inputs = images.to(device)\n",
        "labels = labels.to(device)"
      ]
    },
    {
      "cell_type": "code",
      "execution_count": 52,
      "metadata": {
        "id": "tZWIl2PUJl8B"
      },
      "outputs": [
        {
          "name": "stdout",
          "output_type": "stream",
          "text": [
            "tensor([[-0.3623, -0.1927, -0.0179,  ...,  0.1072,  0.1025, -0.0615],\n",
            "        [-0.4072, -0.1814,  0.0715,  ...,  0.1866,  0.1976,  0.1161],\n",
            "        [-0.3222, -0.0547, -0.2868,  ...,  0.1967, -0.0102,  0.1592],\n",
            "        ...,\n",
            "        [-0.2091, -0.1058,  0.2365,  ...,  0.1360,  0.0666,  0.0987],\n",
            "        [-0.2757, -0.2012,  0.1703,  ...,  0.1223,  0.2388,  0.0234],\n",
            "        [-0.3045, -0.2458,  0.1415,  ...,  0.1013,  0.0821, -0.1456]],\n",
            "       device='cuda:0', grad_fn=<AddmmBackward0>)\n"
          ]
        }
      ],
      "source": [
        "# 予測計算\n",
        "outputs = net(inputs)\n",
        "\n",
        "# 結果確認\n",
        "print(outputs)"
      ]
    },
    {
      "cell_type": "markdown",
      "metadata": {
        "id": "O7D1YeAxBsD_"
      },
      "source": [
        "### 損失関数"
      ]
    },
    {
      "cell_type": "markdown",
      "metadata": {
        "id": "5PbP_nUUDsJZ"
      },
      "source": [
        "#### 損失計算と計算グラフの可視化"
      ]
    },
    {
      "cell_type": "code",
      "execution_count": 53,
      "metadata": {
        "id": "g-2E8cA_d4dF"
      },
      "outputs": [
        {
          "name": "stdout",
          "output_type": "stream",
          "text": [
            "2.3328840732574463\n"
          ]
        },
        {
          "data": {
            "image/svg+xml": "<?xml version=\"1.0\" encoding=\"UTF-8\" standalone=\"no\"?>\n<!DOCTYPE svg PUBLIC \"-//W3C//DTD SVG 1.1//EN\"\n \"http://www.w3.org/Graphics/SVG/1.1/DTD/svg11.dtd\">\n<!-- Generated by graphviz version 6.0.1 (20220911.2005)\n -->\n<!-- Pages: 1 -->\n<svg width=\"308pt\" height=\"523pt\"\n viewBox=\"0.00 0.00 308.00 523.00\" xmlns=\"http://www.w3.org/2000/svg\" xmlns:xlink=\"http://www.w3.org/1999/xlink\">\n<g id=\"graph0\" class=\"graph\" transform=\"scale(1 1) rotate(0) translate(4 519)\">\n<polygon fill=\"white\" stroke=\"none\" points=\"-4,4 -4,-519 304,-519 304,4 -4,4\"/>\n<!-- 139871771365760 -->\n<g id=\"node1\" class=\"node\">\n<title>139871771365760</title>\n<polygon fill=\"#caff70\" stroke=\"black\" points=\"178,-31 124,-31 124,0 178,0 178,-31\"/>\n<text text-anchor=\"middle\" x=\"151\" y=\"-7\" font-family=\"monospace\" font-size=\"10.00\"> ()</text>\n</g>\n<!-- 139874110828016 -->\n<g id=\"node2\" class=\"node\">\n<title>139874110828016</title>\n<polygon fill=\"lightgrey\" stroke=\"black\" points=\"201.5,-86 100.5,-86 100.5,-67 201.5,-67 201.5,-86\"/>\n<text text-anchor=\"middle\" x=\"151\" y=\"-74\" font-family=\"monospace\" font-size=\"10.00\">NllLossBackward0</text>\n</g>\n<!-- 139874110828016&#45;&gt;139871771365760 -->\n<g id=\"edge15\" class=\"edge\">\n<title>139874110828016&#45;&gt;139871771365760</title>\n<path fill=\"none\" stroke=\"black\" d=\"M151,-66.79C151,-60.07 151,-50.4 151,-41.34\"/>\n<polygon fill=\"black\" stroke=\"black\" points=\"154.5,-41.19 151,-31.19 147.5,-41.19 154.5,-41.19\"/>\n</g>\n<!-- 139874110826192 -->\n<g id=\"node3\" class=\"node\">\n<title>139874110826192</title>\n<polygon fill=\"lightgrey\" stroke=\"black\" points=\"209,-141 93,-141 93,-122 209,-122 209,-141\"/>\n<text text-anchor=\"middle\" x=\"151\" y=\"-129\" font-family=\"monospace\" font-size=\"10.00\">LogSoftmaxBackward0</text>\n</g>\n<!-- 139874110826192&#45;&gt;139874110828016 -->\n<g id=\"edge1\" class=\"edge\">\n<title>139874110826192&#45;&gt;139874110828016</title>\n<path fill=\"none\" stroke=\"black\" d=\"M151,-121.75C151,-114.8 151,-104.85 151,-96.13\"/>\n<polygon fill=\"black\" stroke=\"black\" points=\"154.5,-96.09 151,-86.09 147.5,-96.09 154.5,-96.09\"/>\n</g>\n<!-- 139874110769472 -->\n<g id=\"node4\" class=\"node\">\n<title>139874110769472</title>\n<polygon fill=\"lightgrey\" stroke=\"black\" points=\"196,-196 106,-196 106,-177 196,-177 196,-196\"/>\n<text text-anchor=\"middle\" x=\"151\" y=\"-184\" font-family=\"monospace\" font-size=\"10.00\">AddmmBackward0</text>\n</g>\n<!-- 139874110769472&#45;&gt;139874110826192 -->\n<g id=\"edge2\" class=\"edge\">\n<title>139874110769472&#45;&gt;139874110826192</title>\n<path fill=\"none\" stroke=\"black\" d=\"M151,-176.75C151,-169.8 151,-159.85 151,-151.13\"/>\n<polygon fill=\"black\" stroke=\"black\" points=\"154.5,-151.09 151,-141.09 147.5,-151.09 154.5,-151.09\"/>\n</g>\n<!-- 139874110770720 -->\n<g id=\"node5\" class=\"node\">\n<title>139874110770720</title>\n<polygon fill=\"lightgrey\" stroke=\"black\" points=\"90,-251 0,-251 0,-232 90,-232 90,-251\"/>\n<text text-anchor=\"middle\" x=\"45\" y=\"-239\" font-family=\"monospace\" font-size=\"10.00\">AccumulateGrad</text>\n</g>\n<!-- 139874110770720&#45;&gt;139874110769472 -->\n<g id=\"edge3\" class=\"edge\">\n<title>139874110770720&#45;&gt;139874110769472</title>\n<path fill=\"none\" stroke=\"black\" d=\"M62.03,-231.98C78.93,-223.54 105.06,-210.47 124.64,-200.68\"/>\n<polygon fill=\"black\" stroke=\"black\" points=\"126.28,-203.77 133.66,-196.17 123.15,-197.51 126.28,-203.77\"/>\n</g>\n<!-- 139871771367200 -->\n<g id=\"node6\" class=\"node\">\n<title>139871771367200</title>\n<polygon fill=\"lightblue\" stroke=\"black\" points=\"72,-317 18,-317 18,-287 72,-287 72,-317\"/>\n<text text-anchor=\"middle\" x=\"45\" y=\"-305\" font-family=\"monospace\" font-size=\"10.00\">l2.bias</text>\n<text text-anchor=\"middle\" x=\"45\" y=\"-294\" font-family=\"monospace\" font-size=\"10.00\"> (10)</text>\n</g>\n<!-- 139871771367200&#45;&gt;139874110770720 -->\n<g id=\"edge4\" class=\"edge\">\n<title>139871771367200&#45;&gt;139874110770720</title>\n<path fill=\"none\" stroke=\"black\" d=\"M45,-286.84C45,-279.21 45,-269.7 45,-261.45\"/>\n<polygon fill=\"black\" stroke=\"black\" points=\"48.5,-261.27 45,-251.27 41.5,-261.27 48.5,-261.27\"/>\n</g>\n<!-- 139874110769424 -->\n<g id=\"node7\" class=\"node\">\n<title>139874110769424</title>\n<polygon fill=\"lightgrey\" stroke=\"black\" points=\"193.5,-251 108.5,-251 108.5,-232 193.5,-232 193.5,-251\"/>\n<text text-anchor=\"middle\" x=\"151\" y=\"-239\" font-family=\"monospace\" font-size=\"10.00\">ReluBackward0</text>\n</g>\n<!-- 139874110769424&#45;&gt;139874110769472 -->\n<g id=\"edge5\" class=\"edge\">\n<title>139874110769424&#45;&gt;139874110769472</title>\n<path fill=\"none\" stroke=\"black\" d=\"M151,-231.75C151,-224.8 151,-214.85 151,-206.13\"/>\n<polygon fill=\"black\" stroke=\"black\" points=\"154.5,-206.09 151,-196.09 147.5,-206.09 154.5,-206.09\"/>\n</g>\n<!-- 139873953020656 -->\n<g id=\"node8\" class=\"node\">\n<title>139873953020656</title>\n<polygon fill=\"lightgrey\" stroke=\"black\" points=\"192,-311.5 102,-311.5 102,-292.5 192,-292.5 192,-311.5\"/>\n<text text-anchor=\"middle\" x=\"147\" y=\"-299.5\" font-family=\"monospace\" font-size=\"10.00\">AddmmBackward0</text>\n</g>\n<!-- 139873953020656&#45;&gt;139874110769424 -->\n<g id=\"edge6\" class=\"edge\">\n<title>139873953020656&#45;&gt;139874110769424</title>\n<path fill=\"none\" stroke=\"black\" d=\"M147.59,-292.37C148.15,-284.25 149,-271.81 149.71,-261.39\"/>\n<polygon fill=\"black\" stroke=\"black\" points=\"153.22,-261.38 150.41,-251.17 146.23,-260.91 153.22,-261.38\"/>\n</g>\n<!-- 139873953020896 -->\n<g id=\"node9\" class=\"node\">\n<title>139873953020896</title>\n<polygon fill=\"lightgrey\" stroke=\"black\" points=\"105,-377.5 15,-377.5 15,-358.5 105,-358.5 105,-377.5\"/>\n<text text-anchor=\"middle\" x=\"60\" y=\"-365.5\" font-family=\"monospace\" font-size=\"10.00\">AccumulateGrad</text>\n</g>\n<!-- 139873953020896&#45;&gt;139873953020656 -->\n<g id=\"edge7\" class=\"edge\">\n<title>139873953020896&#45;&gt;139873953020656</title>\n<path fill=\"none\" stroke=\"black\" d=\"M71.73,-358.37C85.87,-347.97 109.86,-330.32 126.95,-317.75\"/>\n<polygon fill=\"black\" stroke=\"black\" points=\"129.19,-320.44 135.17,-311.7 125.05,-314.81 129.19,-320.44\"/>\n</g>\n<!-- 139871771339568 -->\n<g id=\"node10\" class=\"node\">\n<title>139871771339568</title>\n<polygon fill=\"lightblue\" stroke=\"black\" points=\"87,-449 33,-449 33,-419 87,-419 87,-449\"/>\n<text text-anchor=\"middle\" x=\"60\" y=\"-437\" font-family=\"monospace\" font-size=\"10.00\">l1.bias</text>\n<text text-anchor=\"middle\" x=\"60\" y=\"-426\" font-family=\"monospace\" font-size=\"10.00\"> (128)</text>\n</g>\n<!-- 139871771339568&#45;&gt;139873953020896 -->\n<g id=\"edge8\" class=\"edge\">\n<title>139871771339568&#45;&gt;139873953020896</title>\n<path fill=\"none\" stroke=\"black\" d=\"M60,-418.8C60,-409.7 60,-397.79 60,-387.9\"/>\n<polygon fill=\"black\" stroke=\"black\" points=\"63.5,-387.84 60,-377.84 56.5,-387.84 63.5,-387.84\"/>\n</g>\n<!-- 139873953019360 -->\n<g id=\"node11\" class=\"node\">\n<title>139873953019360</title>\n<polygon fill=\"lightgrey\" stroke=\"black\" points=\"192.5,-377.5 123.5,-377.5 123.5,-358.5 192.5,-358.5 192.5,-377.5\"/>\n<text text-anchor=\"middle\" x=\"158\" y=\"-365.5\" font-family=\"monospace\" font-size=\"10.00\">TBackward0</text>\n</g>\n<!-- 139873953019360&#45;&gt;139873953020656 -->\n<g id=\"edge9\" class=\"edge\">\n<title>139873953019360&#45;&gt;139873953020656</title>\n<path fill=\"none\" stroke=\"black\" d=\"M156.52,-358.37C154.92,-349.07 152.32,-333.98 150.25,-321.9\"/>\n<polygon fill=\"black\" stroke=\"black\" points=\"153.67,-321.17 148.53,-311.91 146.78,-322.35 153.67,-321.17\"/>\n</g>\n<!-- 139873953019504 -->\n<g id=\"node12\" class=\"node\">\n<title>139873953019504</title>\n<polygon fill=\"lightgrey\" stroke=\"black\" points=\"203,-443.5 113,-443.5 113,-424.5 203,-424.5 203,-443.5\"/>\n<text text-anchor=\"middle\" x=\"158\" y=\"-431.5\" font-family=\"monospace\" font-size=\"10.00\">AccumulateGrad</text>\n</g>\n<!-- 139873953019504&#45;&gt;139873953019360 -->\n<g id=\"edge10\" class=\"edge\">\n<title>139873953019504&#45;&gt;139873953019360</title>\n<path fill=\"none\" stroke=\"black\" d=\"M158,-424.37C158,-415.16 158,-400.29 158,-388.27\"/>\n<polygon fill=\"black\" stroke=\"black\" points=\"161.5,-387.91 158,-377.91 154.5,-387.91 161.5,-387.91\"/>\n</g>\n<!-- 139873953078464 -->\n<g id=\"node13\" class=\"node\">\n<title>139873953078464</title>\n<polygon fill=\"lightblue\" stroke=\"black\" points=\"195,-515 121,-515 121,-485 195,-485 195,-515\"/>\n<text text-anchor=\"middle\" x=\"158\" y=\"-503\" font-family=\"monospace\" font-size=\"10.00\">l1.weight</text>\n<text text-anchor=\"middle\" x=\"158\" y=\"-492\" font-family=\"monospace\" font-size=\"10.00\"> (128, 784)</text>\n</g>\n<!-- 139873953078464&#45;&gt;139873953019504 -->\n<g id=\"edge11\" class=\"edge\">\n<title>139873953078464&#45;&gt;139873953019504</title>\n<path fill=\"none\" stroke=\"black\" d=\"M158,-484.8C158,-475.7 158,-463.79 158,-453.9\"/>\n<polygon fill=\"black\" stroke=\"black\" points=\"161.5,-453.84 158,-443.84 154.5,-453.84 161.5,-453.84\"/>\n</g>\n<!-- 139874110769376 -->\n<g id=\"node14\" class=\"node\">\n<title>139874110769376</title>\n<polygon fill=\"lightgrey\" stroke=\"black\" points=\"286.5,-251 217.5,-251 217.5,-232 286.5,-232 286.5,-251\"/>\n<text text-anchor=\"middle\" x=\"252\" y=\"-239\" font-family=\"monospace\" font-size=\"10.00\">TBackward0</text>\n</g>\n<!-- 139874110769376&#45;&gt;139874110769472 -->\n<g id=\"edge12\" class=\"edge\">\n<title>139874110769376&#45;&gt;139874110769472</title>\n<path fill=\"none\" stroke=\"black\" d=\"M235.77,-231.98C219.82,-223.61 195.22,-210.7 176.62,-200.95\"/>\n<polygon fill=\"black\" stroke=\"black\" points=\"178,-197.72 167.52,-196.17 174.75,-203.92 178,-197.72\"/>\n</g>\n<!-- 139873953019936 -->\n<g id=\"node15\" class=\"node\">\n<title>139873953019936</title>\n<polygon fill=\"lightgrey\" stroke=\"black\" points=\"300,-311.5 210,-311.5 210,-292.5 300,-292.5 300,-311.5\"/>\n<text text-anchor=\"middle\" x=\"255\" y=\"-299.5\" font-family=\"monospace\" font-size=\"10.00\">AccumulateGrad</text>\n</g>\n<!-- 139873953019936&#45;&gt;139874110769376 -->\n<g id=\"edge13\" class=\"edge\">\n<title>139873953019936&#45;&gt;139874110769376</title>\n<path fill=\"none\" stroke=\"black\" d=\"M254.56,-292.37C254.14,-284.25 253.5,-271.81 252.97,-261.39\"/>\n<polygon fill=\"black\" stroke=\"black\" points=\"256.45,-260.97 252.44,-251.17 249.46,-261.33 256.45,-260.97\"/>\n</g>\n<!-- 139871770882512 -->\n<g id=\"node16\" class=\"node\">\n<title>139871770882512</title>\n<polygon fill=\"lightblue\" stroke=\"black\" points=\"289.5,-383 220.5,-383 220.5,-353 289.5,-353 289.5,-383\"/>\n<text text-anchor=\"middle\" x=\"255\" y=\"-371\" font-family=\"monospace\" font-size=\"10.00\">l2.weight</text>\n<text text-anchor=\"middle\" x=\"255\" y=\"-360\" font-family=\"monospace\" font-size=\"10.00\"> (10, 128)</text>\n</g>\n<!-- 139871770882512&#45;&gt;139873953019936 -->\n<g id=\"edge14\" class=\"edge\">\n<title>139871770882512&#45;&gt;139873953019936</title>\n<path fill=\"none\" stroke=\"black\" d=\"M255,-352.8C255,-343.7 255,-331.79 255,-321.9\"/>\n<polygon fill=\"black\" stroke=\"black\" points=\"258.5,-321.84 255,-311.84 251.5,-321.84 258.5,-321.84\"/>\n</g>\n</g>\n</svg>\n",
            "text/plain": [
              "<graphviz.graphs.Digraph at 0x7f36fab06a30>"
            ]
          },
          "metadata": {},
          "output_type": "display_data"
        }
      ],
      "source": [
        "#  損失計算\n",
        "loss = criterion(outputs, labels)\n",
        "\n",
        "# 損失値の取得\n",
        "print(loss.item())\n",
        "\n",
        "# 損失の計算グラフ可視化\n",
        "g = make_dot(loss, params=dict(net.named_parameters()))\n",
        "display(g)"
      ]
    },
    {
      "cell_type": "markdown",
      "metadata": {
        "id": "-ZKkOTDbByWr"
      },
      "source": [
        "### 勾配計算"
      ]
    },
    {
      "cell_type": "code",
      "execution_count": 54,
      "metadata": {
        "id": "uTvRimoEiHeZ"
      },
      "outputs": [],
      "source": [
        "# 勾配計算の実行\n",
        "loss.backward()"
      ]
    },
    {
      "cell_type": "code",
      "execution_count": 55,
      "metadata": {
        "id": "8xRXQnfsArTV"
      },
      "outputs": [
        {
          "name": "stdout",
          "output_type": "stream",
          "text": [
            "[[-0.00058 -0.00058 -0.00058 ... -0.00058 -0.00058 -0.00058]\n",
            " [ 0.00768  0.00768  0.00768 ...  0.00768  0.00768  0.00768]\n",
            " [-0.00179 -0.00179 -0.00179 ... -0.00179 -0.00179 -0.00179]\n",
            " ...\n",
            " [-0.00076 -0.00076 -0.00076 ... -0.00076 -0.00076 -0.00076]\n",
            " [ 0.0011   0.0011   0.0011  ...  0.0011   0.0011   0.0011 ]\n",
            " [-0.0001  -0.0001  -0.0001  ... -0.0001  -0.0001  -0.0001 ]]\n",
            "[ 0.00058 -0.00768  0.00179  0.00085 -0.00004  0.00004  0.00126 -0.00085\n",
            "  0.00254 -0.00164  0.00086 -0.00196  0.00059  0.00252 -0.00256  0.00081\n",
            "  0.00605 -0.00108 -0.00177  0.00799  0.00627  0.00256 -0.00358  0.00563\n",
            " -0.00059 -0.00379  0.00343  0.      -0.00257 -0.00319 -0.00055  0.00345\n",
            "  0.00175  0.00001  0.00007  0.00024  0.0047  -0.00124  0.00215  0.00183\n",
            "  0.00371 -0.00607  0.00109  0.00972 -0.0017  -0.00124 -0.00044 -0.00102\n",
            " -0.00306 -0.00029 -0.0008   0.00041  0.00009 -0.00159 -0.00205 -0.00007\n",
            " -0.00059 -0.00235 -0.00043  0.00292  0.00128 -0.00846  0.0013   0.00154\n",
            "  0.      -0.00058  0.00403 -0.00165 -0.0052   0.00032 -0.00308  0.00012\n",
            "  0.00094 -0.00165 -0.00686 -0.00281  0.00166 -0.00293  0.00115  0.00243\n",
            "  0.00111 -0.00201  0.00531 -0.00007  0.00698  0.00238  0.00298  0.00379\n",
            " -0.00015 -0.00165 -0.00061 -0.00214  0.00257  0.       0.0045   0.00374\n",
            "  0.00581 -0.00323 -0.      -0.00029 -0.00061  0.00005  0.00287  0.00163\n",
            "  0.00218 -0.00338 -0.00006  0.00067 -0.00149 -0.00345  0.00166 -0.00213\n",
            " -0.00223  0.0013  -0.00024  0.00354 -0.00273  0.00055 -0.00197  0.002\n",
            " -0.00344  0.0004   0.00058  0.00063 -0.00111  0.00076 -0.0011   0.00009]\n",
            "[[-0.01985 -0.00178 -0.01995 ... -0.00684 -0.00555 -0.00208]\n",
            " [ 0.00606 -0.01059  0.00437 ... -0.0123   0.00174  0.00093]\n",
            " [-0.00588  0.00612  0.00346 ...  0.00203  0.00115 -0.00076]\n",
            " ...\n",
            " [ 0.00671 -0.01372  0.00414 ...  0.00526 -0.00063  0.00194]\n",
            " [-0.00661 -0.00074  0.0034  ...  0.0073  -0.00207 -0.00361]\n",
            " [ 0.00878  0.0024  -0.00021 ... -0.00018  0.00185  0.0012 ]]\n",
            "[-0.05295 -0.03301  0.01248 -0.00498  0.02287  0.01628  0.01679  0.0102\n",
            "  0.0214  -0.00909]\n"
          ]
        }
      ],
      "source": [
        "# 勾配計算の結果\n",
        "w = net.to('cpu')\n",
        "print(w.l1.weight.grad.numpy())\n",
        "print(w.l1.bias.grad.numpy())\n",
        "print(w.l2.weight.grad.numpy())\n",
        "print(w.l2.bias.grad.numpy())"
      ]
    },
    {
      "cell_type": "markdown",
      "metadata": {
        "id": "PAN6zrWwB_1Q"
      },
      "source": [
        "### パラメータ修正"
      ]
    },
    {
      "cell_type": "code",
      "execution_count": 56,
      "metadata": {
        "id": "Q-fIWFp7iW8_"
      },
      "outputs": [],
      "source": [
        "# 勾配降下法の適用\n",
        "optimizer.step()"
      ]
    },
    {
      "cell_type": "code",
      "execution_count": 57,
      "metadata": {
        "id": "quuVCRNJij0M"
      },
      "outputs": [
        {
          "name": "stdout",
          "output_type": "stream",
          "text": [
            "Parameter containing:\n",
            "tensor([[-0.0146,  0.0012, -0.0177,  ...,  0.0278,  0.0200,  0.0316],\n",
            "        [ 0.0183, -0.0322,  0.0174,  ...,  0.0088, -0.0029, -0.0034],\n",
            "        [ 0.0092,  0.0261,  0.0075,  ...,  0.0061,  0.0267, -0.0258],\n",
            "        ...,\n",
            "        [ 0.0235, -0.0026, -0.0129,  ...,  0.0323, -0.0059, -0.0169],\n",
            "        [-0.0329, -0.0258,  0.0124,  ..., -0.0049,  0.0006,  0.0334],\n",
            "        [ 0.0187, -0.0076, -0.0202,  ...,  0.0325, -0.0159, -0.0240]],\n",
            "       requires_grad=True)\n",
            "Parameter containing:\n",
            "tensor([ 3.2476e-02, -2.9682e-02,  1.2742e-03,  1.9874e-02,  2.6836e-02,\n",
            "        -2.4759e-02, -1.7200e-02, -3.5517e-02,  1.2199e-02, -4.7449e-03,\n",
            "         2.1379e-02,  2.0187e-02, -2.4297e-02,  1.4928e-03, -2.7613e-02,\n",
            "         2.9617e-02,  3.4051e-02, -2.2777e-02,  2.2983e-02,  3.4580e-02,\n",
            "        -9.1870e-03, -3.4619e-02,  2.0599e-02, -6.0632e-03,  3.2937e-02,\n",
            "         4.7784e-03,  1.7949e-02,  1.0102e-02,  1.7700e-02, -3.0853e-02,\n",
            "         2.2817e-02, -2.2391e-02,  3.2049e-02,  1.7890e-02,  3.2113e-02,\n",
            "         1.8418e-02,  2.1852e-02, -8.8598e-03,  3.0939e-02, -3.9572e-03,\n",
            "        -7.4435e-03, -3.1608e-02,  1.9150e-02, -2.2176e-03,  1.9040e-02,\n",
            "         3.7815e-03,  3.3376e-02, -2.7366e-03, -1.2678e-02,  2.2926e-02,\n",
            "        -2.6499e-02,  2.2709e-03, -1.6189e-02, -1.3415e-02, -2.7006e-03,\n",
            "         2.1242e-02, -2.0511e-02, -1.4376e-02,  1.2089e-02,  9.8029e-05,\n",
            "         8.5776e-03,  3.3507e-03,  1.2323e-02,  2.1314e-02, -1.7690e-02,\n",
            "         2.4736e-02, -1.0986e-02, -2.2139e-02,  2.2898e-02, -1.1038e-02,\n",
            "        -7.4188e-03, -8.9315e-03, -2.0528e-02,  3.2279e-02, -2.0665e-02,\n",
            "        -2.0434e-02, -2.7932e-03, -3.4027e-02, -3.0391e-02,  1.4364e-02,\n",
            "         7.1700e-03,  3.2612e-02, -3.4300e-02, -3.2920e-02, -3.2781e-03,\n",
            "        -2.0019e-02, -2.9709e-03, -9.8261e-03,  2.1964e-02, -1.5987e-02,\n",
            "         9.8720e-03,  3.2919e-03, -2.8945e-02,  1.0965e-02,  1.9866e-02,\n",
            "         1.3074e-02, -2.7974e-02,  1.2213e-02,  2.3668e-02,  1.2602e-02,\n",
            "        -5.4937e-03, -8.7514e-03, -5.7194e-03, -4.8609e-03,  6.6892e-04,\n",
            "        -1.7088e-03, -3.2382e-02,  4.8300e-03, -1.3428e-02,  3.3444e-02,\n",
            "         2.9813e-02, -5.9374e-03,  2.6309e-02,  1.1309e-02, -1.1252e-02,\n",
            "         1.4970e-02,  9.1236e-03, -3.1057e-02, -7.8487e-03,  1.3640e-04,\n",
            "        -2.8136e-02, -1.6511e-03,  3.0365e-02, -2.3754e-02, -1.5655e-02,\n",
            "        -2.5556e-02,  6.5686e-04,  9.9645e-03], requires_grad=True)\n"
          ]
        }
      ],
      "source": [
        "# パラメータ値の表示\n",
        "print(net.l1.weight)\n",
        "print(net.l1.bias)"
      ]
    },
    {
      "cell_type": "markdown",
      "metadata": {
        "id": "1fuqiacmvNJq"
      },
      "source": [
        "### 繰り返し計算"
      ]
    },
    {
      "cell_type": "code",
      "execution_count": 58,
      "metadata": {
        "id": "F_xGv4kci7XG"
      },
      "outputs": [],
      "source": [
        "# 乱数の固定化\n",
        "torch.manual_seed(123)\n",
        "torch.cuda.manual_seed(123)\n",
        "torch.backends.cudnn.deterministic = True\n",
        "torch.use_deterministic_algorithms = True\n",
        "\n",
        "# 学習率\n",
        "lr = 0.01\n",
        "\n",
        "# モデルインスタンス生成\n",
        "net = Net(n_input, n_output, n_hidden).to(device)\n",
        "\n",
        "# 損失関数： 交差エントロピー関数\n",
        "criterion = nn.CrossEntropyLoss()\n",
        "\n",
        "# 最適化関数: 勾配降下法\n",
        "optimizer = optim.SGD(net.parameters(), lr=lr)\n",
        "\n",
        "# 繰り返し回数\n",
        "num_epochs = 100\n",
        "\n",
        "# 評価結果記録用\n",
        "history = np.zeros((0,5))"
      ]
    },
    {
      "cell_type": "code",
      "execution_count": 59,
      "metadata": {
        "id": "k8e4FfOLfFV4"
      },
      "outputs": [
        {
          "data": {
            "application/json": {
              "ascii": false,
              "bar_format": null,
              "colour": null,
              "elapsed": 0.009309768676757812,
              "initial": 0,
              "n": 0,
              "ncols": null,
              "nrows": null,
              "postfix": null,
              "prefix": "",
              "rate": null,
              "total": 120,
              "unit": "it",
              "unit_divisor": 1000,
              "unit_scale": false
            },
            "application/vnd.jupyter.widget-view+json": {
              "model_id": "0082f090508a4b61aadd9175048bd1e1",
              "version_major": 2,
              "version_minor": 0
            },
            "text/plain": [
              "  0%|          | 0/120 [00:00<?, ?it/s]"
            ]
          },
          "metadata": {},
          "output_type": "display_data"
        },
        {
          "name": "stdout",
          "output_type": "stream",
          "text": [
            "Epoch [1/100], loss: 1.82931 acc: 0.56957 val_loss: 1.32625, val_acc: 0.74640\n"
          ]
        },
        {
          "data": {
            "application/json": {
              "ascii": false,
              "bar_format": null,
              "colour": null,
              "elapsed": 0.009466886520385742,
              "initial": 0,
              "n": 0,
              "ncols": null,
              "nrows": null,
              "postfix": null,
              "prefix": "",
              "rate": null,
              "total": 120,
              "unit": "it",
              "unit_divisor": 1000,
              "unit_scale": false
            },
            "application/vnd.jupyter.widget-view+json": {
              "model_id": "7a5da924442442568536dfac96ca619f",
              "version_major": 2,
              "version_minor": 0
            },
            "text/plain": [
              "  0%|          | 0/120 [00:00<?, ?it/s]"
            ]
          },
          "metadata": {},
          "output_type": "display_data"
        },
        {
          "name": "stdout",
          "output_type": "stream",
          "text": [
            "Epoch [2/100], loss: 1.03887 acc: 0.79535 val_loss: 0.79660, val_acc: 0.83180\n"
          ]
        },
        {
          "data": {
            "application/json": {
              "ascii": false,
              "bar_format": null,
              "colour": null,
              "elapsed": 0.008797645568847656,
              "initial": 0,
              "n": 0,
              "ncols": null,
              "nrows": null,
              "postfix": null,
              "prefix": "",
              "rate": null,
              "total": 120,
              "unit": "it",
              "unit_divisor": 1000,
              "unit_scale": false
            },
            "application/vnd.jupyter.widget-view+json": {
              "model_id": "dcb188e01bd74ae49a940897857a8549",
              "version_major": 2,
              "version_minor": 0
            },
            "text/plain": [
              "  0%|          | 0/120 [00:00<?, ?it/s]"
            ]
          },
          "metadata": {},
          "output_type": "display_data"
        },
        {
          "name": "stdout",
          "output_type": "stream",
          "text": [
            "Epoch [3/100], loss: 0.70808 acc: 0.84105 val_loss: 0.60256, val_acc: 0.85850\n"
          ]
        },
        {
          "data": {
            "application/json": {
              "ascii": false,
              "bar_format": null,
              "colour": null,
              "elapsed": 0.009216547012329102,
              "initial": 0,
              "n": 0,
              "ncols": null,
              "nrows": null,
              "postfix": null,
              "prefix": "",
              "rate": null,
              "total": 120,
              "unit": "it",
              "unit_divisor": 1000,
              "unit_scale": false
            },
            "application/vnd.jupyter.widget-view+json": {
              "model_id": "3345fd74eca24e97ad1d977b61a45c22",
              "version_major": 2,
              "version_minor": 0
            },
            "text/plain": [
              "  0%|          | 0/120 [00:00<?, ?it/s]"
            ]
          },
          "metadata": {},
          "output_type": "display_data"
        },
        {
          "name": "stdout",
          "output_type": "stream",
          "text": [
            "Epoch [4/100], loss: 0.57299 acc: 0.86062 val_loss: 0.51191, val_acc: 0.87140\n"
          ]
        },
        {
          "data": {
            "application/json": {
              "ascii": false,
              "bar_format": null,
              "colour": null,
              "elapsed": 0.00965571403503418,
              "initial": 0,
              "n": 0,
              "ncols": null,
              "nrows": null,
              "postfix": null,
              "prefix": "",
              "rate": null,
              "total": 120,
              "unit": "it",
              "unit_divisor": 1000,
              "unit_scale": false
            },
            "application/vnd.jupyter.widget-view+json": {
              "model_id": "d716efba989e4324addb743488563f59",
              "version_major": 2,
              "version_minor": 0
            },
            "text/plain": [
              "  0%|          | 0/120 [00:00<?, ?it/s]"
            ]
          },
          "metadata": {},
          "output_type": "display_data"
        },
        {
          "name": "stdout",
          "output_type": "stream",
          "text": [
            "Epoch [5/100], loss: 0.50222 acc: 0.87100 val_loss: 0.45826, val_acc: 0.87920\n"
          ]
        },
        {
          "data": {
            "application/json": {
              "ascii": false,
              "bar_format": null,
              "colour": null,
              "elapsed": 0.00913548469543457,
              "initial": 0,
              "n": 0,
              "ncols": null,
              "nrows": null,
              "postfix": null,
              "prefix": "",
              "rate": null,
              "total": 120,
              "unit": "it",
              "unit_divisor": 1000,
              "unit_scale": false
            },
            "application/vnd.jupyter.widget-view+json": {
              "model_id": "531498a8538140e0bca17583a76b2432",
              "version_major": 2,
              "version_minor": 0
            },
            "text/plain": [
              "  0%|          | 0/120 [00:00<?, ?it/s]"
            ]
          },
          "metadata": {},
          "output_type": "display_data"
        },
        {
          "name": "stdout",
          "output_type": "stream",
          "text": [
            "Epoch [6/100], loss: 0.45883 acc: 0.87877 val_loss: 0.42421, val_acc: 0.88650\n"
          ]
        },
        {
          "data": {
            "application/json": {
              "ascii": false,
              "bar_format": null,
              "colour": null,
              "elapsed": 0.008511066436767578,
              "initial": 0,
              "n": 0,
              "ncols": null,
              "nrows": null,
              "postfix": null,
              "prefix": "",
              "rate": null,
              "total": 120,
              "unit": "it",
              "unit_divisor": 1000,
              "unit_scale": false
            },
            "application/vnd.jupyter.widget-view+json": {
              "model_id": "4433649565f641a38ef3f30b89e1a491",
              "version_major": 2,
              "version_minor": 0
            },
            "text/plain": [
              "  0%|          | 0/120 [00:00<?, ?it/s]"
            ]
          },
          "metadata": {},
          "output_type": "display_data"
        },
        {
          "name": "stdout",
          "output_type": "stream",
          "text": [
            "Epoch [7/100], loss: 0.42938 acc: 0.88327 val_loss: 0.40076, val_acc: 0.88970\n"
          ]
        },
        {
          "data": {
            "application/json": {
              "ascii": false,
              "bar_format": null,
              "colour": null,
              "elapsed": 0.008501529693603516,
              "initial": 0,
              "n": 0,
              "ncols": null,
              "nrows": null,
              "postfix": null,
              "prefix": "",
              "rate": null,
              "total": 120,
              "unit": "it",
              "unit_divisor": 1000,
              "unit_scale": false
            },
            "application/vnd.jupyter.widget-view+json": {
              "model_id": "5db7fb75417842f9914e16616c6afd2f",
              "version_major": 2,
              "version_minor": 0
            },
            "text/plain": [
              "  0%|          | 0/120 [00:00<?, ?it/s]"
            ]
          },
          "metadata": {},
          "output_type": "display_data"
        },
        {
          "name": "stdout",
          "output_type": "stream",
          "text": [
            "Epoch [8/100], loss: 0.40813 acc: 0.88742 val_loss: 0.38285, val_acc: 0.89370\n"
          ]
        },
        {
          "data": {
            "application/json": {
              "ascii": false,
              "bar_format": null,
              "colour": null,
              "elapsed": 0.008294820785522461,
              "initial": 0,
              "n": 0,
              "ncols": null,
              "nrows": null,
              "postfix": null,
              "prefix": "",
              "rate": null,
              "total": 120,
              "unit": "it",
              "unit_divisor": 1000,
              "unit_scale": false
            },
            "application/vnd.jupyter.widget-view+json": {
              "model_id": "3364baa3fc434e7d9fdc5c0c8519184f",
              "version_major": 2,
              "version_minor": 0
            },
            "text/plain": [
              "  0%|          | 0/120 [00:00<?, ?it/s]"
            ]
          },
          "metadata": {},
          "output_type": "display_data"
        },
        {
          "name": "stdout",
          "output_type": "stream",
          "text": [
            "Epoch [9/100], loss: 0.39176 acc: 0.89063 val_loss: 0.36857, val_acc: 0.89670\n"
          ]
        },
        {
          "data": {
            "application/json": {
              "ascii": false,
              "bar_format": null,
              "colour": null,
              "elapsed": 0.008399486541748047,
              "initial": 0,
              "n": 0,
              "ncols": null,
              "nrows": null,
              "postfix": null,
              "prefix": "",
              "rate": null,
              "total": 120,
              "unit": "it",
              "unit_divisor": 1000,
              "unit_scale": false
            },
            "application/vnd.jupyter.widget-view+json": {
              "model_id": "70bf693b93c04d22b7a7c741d9bdfd83",
              "version_major": 2,
              "version_minor": 0
            },
            "text/plain": [
              "  0%|          | 0/120 [00:00<?, ?it/s]"
            ]
          },
          "metadata": {},
          "output_type": "display_data"
        },
        {
          "name": "stdout",
          "output_type": "stream",
          "text": [
            "Epoch [10/100], loss: 0.37875 acc: 0.89313 val_loss: 0.35741, val_acc: 0.89930\n"
          ]
        },
        {
          "data": {
            "application/json": {
              "ascii": false,
              "bar_format": null,
              "colour": null,
              "elapsed": 0.00909566879272461,
              "initial": 0,
              "n": 0,
              "ncols": null,
              "nrows": null,
              "postfix": null,
              "prefix": "",
              "rate": null,
              "total": 120,
              "unit": "it",
              "unit_divisor": 1000,
              "unit_scale": false
            },
            "application/vnd.jupyter.widget-view+json": {
              "model_id": "4ea7e69730fc4eddafcef6b8fa94102f",
              "version_major": 2,
              "version_minor": 0
            },
            "text/plain": [
              "  0%|          | 0/120 [00:00<?, ?it/s]"
            ]
          },
          "metadata": {},
          "output_type": "display_data"
        },
        {
          "name": "stdout",
          "output_type": "stream",
          "text": [
            "Epoch [11/100], loss: 0.36812 acc: 0.89592 val_loss: 0.34867, val_acc: 0.90160\n"
          ]
        },
        {
          "data": {
            "application/json": {
              "ascii": false,
              "bar_format": null,
              "colour": null,
              "elapsed": 0.008462190628051758,
              "initial": 0,
              "n": 0,
              "ncols": null,
              "nrows": null,
              "postfix": null,
              "prefix": "",
              "rate": null,
              "total": 120,
              "unit": "it",
              "unit_divisor": 1000,
              "unit_scale": false
            },
            "application/vnd.jupyter.widget-view+json": {
              "model_id": "4091f481d0e14fb49b2da01ff08b20af",
              "version_major": 2,
              "version_minor": 0
            },
            "text/plain": [
              "  0%|          | 0/120 [00:00<?, ?it/s]"
            ]
          },
          "metadata": {},
          "output_type": "display_data"
        },
        {
          "name": "stdout",
          "output_type": "stream",
          "text": [
            "Epoch [12/100], loss: 0.35909 acc: 0.89787 val_loss: 0.34089, val_acc: 0.90210\n"
          ]
        },
        {
          "data": {
            "application/json": {
              "ascii": false,
              "bar_format": null,
              "colour": null,
              "elapsed": 0.008107900619506836,
              "initial": 0,
              "n": 0,
              "ncols": null,
              "nrows": null,
              "postfix": null,
              "prefix": "",
              "rate": null,
              "total": 120,
              "unit": "it",
              "unit_divisor": 1000,
              "unit_scale": false
            },
            "application/vnd.jupyter.widget-view+json": {
              "model_id": "005cf24b8605452f9de89b01ae8e46cb",
              "version_major": 2,
              "version_minor": 0
            },
            "text/plain": [
              "  0%|          | 0/120 [00:00<?, ?it/s]"
            ]
          },
          "metadata": {},
          "output_type": "display_data"
        },
        {
          "name": "stdout",
          "output_type": "stream",
          "text": [
            "Epoch [13/100], loss: 0.35147 acc: 0.89978 val_loss: 0.33335, val_acc: 0.90490\n"
          ]
        },
        {
          "data": {
            "application/json": {
              "ascii": false,
              "bar_format": null,
              "colour": null,
              "elapsed": 0.008550643920898438,
              "initial": 0,
              "n": 0,
              "ncols": null,
              "nrows": null,
              "postfix": null,
              "prefix": "",
              "rate": null,
              "total": 120,
              "unit": "it",
              "unit_divisor": 1000,
              "unit_scale": false
            },
            "application/vnd.jupyter.widget-view+json": {
              "model_id": "d0fde7029fc04aba9864ceff52b5a55c",
              "version_major": 2,
              "version_minor": 0
            },
            "text/plain": [
              "  0%|          | 0/120 [00:00<?, ?it/s]"
            ]
          },
          "metadata": {},
          "output_type": "display_data"
        },
        {
          "name": "stdout",
          "output_type": "stream",
          "text": [
            "Epoch [14/100], loss: 0.34476 acc: 0.90132 val_loss: 0.32806, val_acc: 0.90570\n"
          ]
        },
        {
          "data": {
            "application/json": {
              "ascii": false,
              "bar_format": null,
              "colour": null,
              "elapsed": 0.008894920349121094,
              "initial": 0,
              "n": 0,
              "ncols": null,
              "nrows": null,
              "postfix": null,
              "prefix": "",
              "rate": null,
              "total": 120,
              "unit": "it",
              "unit_divisor": 1000,
              "unit_scale": false
            },
            "application/vnd.jupyter.widget-view+json": {
              "model_id": "38c6437a2fd24c0eb0bf5b64ea201a13",
              "version_major": 2,
              "version_minor": 0
            },
            "text/plain": [
              "  0%|          | 0/120 [00:00<?, ?it/s]"
            ]
          },
          "metadata": {},
          "output_type": "display_data"
        },
        {
          "name": "stdout",
          "output_type": "stream",
          "text": [
            "Epoch [15/100], loss: 0.33860 acc: 0.90310 val_loss: 0.32334, val_acc: 0.90710\n"
          ]
        },
        {
          "data": {
            "application/json": {
              "ascii": false,
              "bar_format": null,
              "colour": null,
              "elapsed": 0.009020328521728516,
              "initial": 0,
              "n": 0,
              "ncols": null,
              "nrows": null,
              "postfix": null,
              "prefix": "",
              "rate": null,
              "total": 120,
              "unit": "it",
              "unit_divisor": 1000,
              "unit_scale": false
            },
            "application/vnd.jupyter.widget-view+json": {
              "model_id": "882adb82d9834b15833660f5fdbe079b",
              "version_major": 2,
              "version_minor": 0
            },
            "text/plain": [
              "  0%|          | 0/120 [00:00<?, ?it/s]"
            ]
          },
          "metadata": {},
          "output_type": "display_data"
        },
        {
          "name": "stdout",
          "output_type": "stream",
          "text": [
            "Epoch [16/100], loss: 0.33333 acc: 0.90410 val_loss: 0.31806, val_acc: 0.90790\n"
          ]
        },
        {
          "data": {
            "application/json": {
              "ascii": false,
              "bar_format": null,
              "colour": null,
              "elapsed": 0.008773088455200195,
              "initial": 0,
              "n": 0,
              "ncols": null,
              "nrows": null,
              "postfix": null,
              "prefix": "",
              "rate": null,
              "total": 120,
              "unit": "it",
              "unit_divisor": 1000,
              "unit_scale": false
            },
            "application/vnd.jupyter.widget-view+json": {
              "model_id": "28c016b5a7f94ede9d83e021d4e77ff7",
              "version_major": 2,
              "version_minor": 0
            },
            "text/plain": [
              "  0%|          | 0/120 [00:00<?, ?it/s]"
            ]
          },
          "metadata": {},
          "output_type": "display_data"
        },
        {
          "name": "stdout",
          "output_type": "stream",
          "text": [
            "Epoch [17/100], loss: 0.32843 acc: 0.90518 val_loss: 0.31445, val_acc: 0.90930\n"
          ]
        },
        {
          "data": {
            "application/json": {
              "ascii": false,
              "bar_format": null,
              "colour": null,
              "elapsed": 0.008658409118652344,
              "initial": 0,
              "n": 0,
              "ncols": null,
              "nrows": null,
              "postfix": null,
              "prefix": "",
              "rate": null,
              "total": 120,
              "unit": "it",
              "unit_divisor": 1000,
              "unit_scale": false
            },
            "application/vnd.jupyter.widget-view+json": {
              "model_id": "58ef5ab622814c2d8cb71db1f2cc7a31",
              "version_major": 2,
              "version_minor": 0
            },
            "text/plain": [
              "  0%|          | 0/120 [00:00<?, ?it/s]"
            ]
          },
          "metadata": {},
          "output_type": "display_data"
        },
        {
          "name": "stdout",
          "output_type": "stream",
          "text": [
            "Epoch [18/100], loss: 0.32380 acc: 0.90700 val_loss: 0.31076, val_acc: 0.91090\n"
          ]
        },
        {
          "data": {
            "application/json": {
              "ascii": false,
              "bar_format": null,
              "colour": null,
              "elapsed": 0.00894474983215332,
              "initial": 0,
              "n": 0,
              "ncols": null,
              "nrows": null,
              "postfix": null,
              "prefix": "",
              "rate": null,
              "total": 120,
              "unit": "it",
              "unit_divisor": 1000,
              "unit_scale": false
            },
            "application/vnd.jupyter.widget-view+json": {
              "model_id": "bac0af29f324487e9aa275e5fc0e4718",
              "version_major": 2,
              "version_minor": 0
            },
            "text/plain": [
              "  0%|          | 0/120 [00:00<?, ?it/s]"
            ]
          },
          "metadata": {},
          "output_type": "display_data"
        },
        {
          "name": "stdout",
          "output_type": "stream",
          "text": [
            "Epoch [19/100], loss: 0.31950 acc: 0.90810 val_loss: 0.30586, val_acc: 0.91190\n"
          ]
        },
        {
          "data": {
            "application/json": {
              "ascii": false,
              "bar_format": null,
              "colour": null,
              "elapsed": 0.008491992950439453,
              "initial": 0,
              "n": 0,
              "ncols": null,
              "nrows": null,
              "postfix": null,
              "prefix": "",
              "rate": null,
              "total": 120,
              "unit": "it",
              "unit_divisor": 1000,
              "unit_scale": false
            },
            "application/vnd.jupyter.widget-view+json": {
              "model_id": "ac1f5bf382a644e3b74cbe49064d33a5",
              "version_major": 2,
              "version_minor": 0
            },
            "text/plain": [
              "  0%|          | 0/120 [00:00<?, ?it/s]"
            ]
          },
          "metadata": {},
          "output_type": "display_data"
        },
        {
          "name": "stdout",
          "output_type": "stream",
          "text": [
            "Epoch [20/100], loss: 0.31587 acc: 0.90898 val_loss: 0.30281, val_acc: 0.91230\n"
          ]
        },
        {
          "data": {
            "application/json": {
              "ascii": false,
              "bar_format": null,
              "colour": null,
              "elapsed": 0.008697509765625,
              "initial": 0,
              "n": 0,
              "ncols": null,
              "nrows": null,
              "postfix": null,
              "prefix": "",
              "rate": null,
              "total": 120,
              "unit": "it",
              "unit_divisor": 1000,
              "unit_scale": false
            },
            "application/vnd.jupyter.widget-view+json": {
              "model_id": "4cb4831ea53d4a609f3979c1b8ce22c9",
              "version_major": 2,
              "version_minor": 0
            },
            "text/plain": [
              "  0%|          | 0/120 [00:00<?, ?it/s]"
            ]
          },
          "metadata": {},
          "output_type": "display_data"
        },
        {
          "name": "stdout",
          "output_type": "stream",
          "text": [
            "Epoch [21/100], loss: 0.31199 acc: 0.91032 val_loss: 0.29965, val_acc: 0.91520\n"
          ]
        },
        {
          "data": {
            "application/json": {
              "ascii": false,
              "bar_format": null,
              "colour": null,
              "elapsed": 0.007934093475341797,
              "initial": 0,
              "n": 0,
              "ncols": null,
              "nrows": null,
              "postfix": null,
              "prefix": "",
              "rate": null,
              "total": 120,
              "unit": "it",
              "unit_divisor": 1000,
              "unit_scale": false
            },
            "application/vnd.jupyter.widget-view+json": {
              "model_id": "0b355043326d4cf8b45928d4dac29496",
              "version_major": 2,
              "version_minor": 0
            },
            "text/plain": [
              "  0%|          | 0/120 [00:00<?, ?it/s]"
            ]
          },
          "metadata": {},
          "output_type": "display_data"
        },
        {
          "name": "stdout",
          "output_type": "stream",
          "text": [
            "Epoch [22/100], loss: 0.30842 acc: 0.91098 val_loss: 0.29713, val_acc: 0.91430\n"
          ]
        },
        {
          "data": {
            "application/json": {
              "ascii": false,
              "bar_format": null,
              "colour": null,
              "elapsed": 0.009114980697631836,
              "initial": 0,
              "n": 0,
              "ncols": null,
              "nrows": null,
              "postfix": null,
              "prefix": "",
              "rate": null,
              "total": 120,
              "unit": "it",
              "unit_divisor": 1000,
              "unit_scale": false
            },
            "application/vnd.jupyter.widget-view+json": {
              "model_id": "583533d127d64003981011c41a650f66",
              "version_major": 2,
              "version_minor": 0
            },
            "text/plain": [
              "  0%|          | 0/120 [00:00<?, ?it/s]"
            ]
          },
          "metadata": {},
          "output_type": "display_data"
        },
        {
          "name": "stdout",
          "output_type": "stream",
          "text": [
            "Epoch [23/100], loss: 0.30507 acc: 0.91193 val_loss: 0.29433, val_acc: 0.91560\n"
          ]
        },
        {
          "data": {
            "application/json": {
              "ascii": false,
              "bar_format": null,
              "colour": null,
              "elapsed": 0.008831501007080078,
              "initial": 0,
              "n": 0,
              "ncols": null,
              "nrows": null,
              "postfix": null,
              "prefix": "",
              "rate": null,
              "total": 120,
              "unit": "it",
              "unit_divisor": 1000,
              "unit_scale": false
            },
            "application/vnd.jupyter.widget-view+json": {
              "model_id": "b790db390b7144f19c7c4e8e3991217a",
              "version_major": 2,
              "version_minor": 0
            },
            "text/plain": [
              "  0%|          | 0/120 [00:00<?, ?it/s]"
            ]
          },
          "metadata": {},
          "output_type": "display_data"
        },
        {
          "name": "stdout",
          "output_type": "stream",
          "text": [
            "Epoch [24/100], loss: 0.30190 acc: 0.91320 val_loss: 0.29123, val_acc: 0.91780\n"
          ]
        },
        {
          "data": {
            "application/json": {
              "ascii": false,
              "bar_format": null,
              "colour": null,
              "elapsed": 0.008481264114379883,
              "initial": 0,
              "n": 0,
              "ncols": null,
              "nrows": null,
              "postfix": null,
              "prefix": "",
              "rate": null,
              "total": 120,
              "unit": "it",
              "unit_divisor": 1000,
              "unit_scale": false
            },
            "application/vnd.jupyter.widget-view+json": {
              "model_id": "8febab004b9c46c4a2cc8daa28650bb7",
              "version_major": 2,
              "version_minor": 0
            },
            "text/plain": [
              "  0%|          | 0/120 [00:00<?, ?it/s]"
            ]
          },
          "metadata": {},
          "output_type": "display_data"
        },
        {
          "name": "stdout",
          "output_type": "stream",
          "text": [
            "Epoch [25/100], loss: 0.29883 acc: 0.91403 val_loss: 0.28884, val_acc: 0.91700\n"
          ]
        },
        {
          "data": {
            "application/json": {
              "ascii": false,
              "bar_format": null,
              "colour": null,
              "elapsed": 0.008774757385253906,
              "initial": 0,
              "n": 0,
              "ncols": null,
              "nrows": null,
              "postfix": null,
              "prefix": "",
              "rate": null,
              "total": 120,
              "unit": "it",
              "unit_divisor": 1000,
              "unit_scale": false
            },
            "application/vnd.jupyter.widget-view+json": {
              "model_id": "be0e4d4eebac4bf58c50edbdecb03e8a",
              "version_major": 2,
              "version_minor": 0
            },
            "text/plain": [
              "  0%|          | 0/120 [00:00<?, ?it/s]"
            ]
          },
          "metadata": {},
          "output_type": "display_data"
        },
        {
          "name": "stdout",
          "output_type": "stream",
          "text": [
            "Epoch [26/100], loss: 0.29597 acc: 0.91495 val_loss: 0.28646, val_acc: 0.91820\n"
          ]
        },
        {
          "data": {
            "application/json": {
              "ascii": false,
              "bar_format": null,
              "colour": null,
              "elapsed": 0.008805036544799805,
              "initial": 0,
              "n": 0,
              "ncols": null,
              "nrows": null,
              "postfix": null,
              "prefix": "",
              "rate": null,
              "total": 120,
              "unit": "it",
              "unit_divisor": 1000,
              "unit_scale": false
            },
            "application/vnd.jupyter.widget-view+json": {
              "model_id": "f89e4d094ec94b039c7893949c4b276f",
              "version_major": 2,
              "version_minor": 0
            },
            "text/plain": [
              "  0%|          | 0/120 [00:00<?, ?it/s]"
            ]
          },
          "metadata": {},
          "output_type": "display_data"
        },
        {
          "name": "stdout",
          "output_type": "stream",
          "text": [
            "Epoch [27/100], loss: 0.29311 acc: 0.91660 val_loss: 0.28365, val_acc: 0.91960\n"
          ]
        },
        {
          "data": {
            "application/json": {
              "ascii": false,
              "bar_format": null,
              "colour": null,
              "elapsed": 0.00821542739868164,
              "initial": 0,
              "n": 0,
              "ncols": null,
              "nrows": null,
              "postfix": null,
              "prefix": "",
              "rate": null,
              "total": 120,
              "unit": "it",
              "unit_divisor": 1000,
              "unit_scale": false
            },
            "application/vnd.jupyter.widget-view+json": {
              "model_id": "72f15f99637140c58e75198bdf0467f2",
              "version_major": 2,
              "version_minor": 0
            },
            "text/plain": [
              "  0%|          | 0/120 [00:00<?, ?it/s]"
            ]
          },
          "metadata": {},
          "output_type": "display_data"
        },
        {
          "name": "stdout",
          "output_type": "stream",
          "text": [
            "Epoch [28/100], loss: 0.29026 acc: 0.91695 val_loss: 0.28186, val_acc: 0.92000\n"
          ]
        },
        {
          "data": {
            "application/json": {
              "ascii": false,
              "bar_format": null,
              "colour": null,
              "elapsed": 0.00979924201965332,
              "initial": 0,
              "n": 0,
              "ncols": null,
              "nrows": null,
              "postfix": null,
              "prefix": "",
              "rate": null,
              "total": 120,
              "unit": "it",
              "unit_divisor": 1000,
              "unit_scale": false
            },
            "application/vnd.jupyter.widget-view+json": {
              "model_id": "0a74ffb946674838ba1e3fcd106c1759",
              "version_major": 2,
              "version_minor": 0
            },
            "text/plain": [
              "  0%|          | 0/120 [00:00<?, ?it/s]"
            ]
          },
          "metadata": {},
          "output_type": "display_data"
        },
        {
          "name": "stdout",
          "output_type": "stream",
          "text": [
            "Epoch [29/100], loss: 0.28765 acc: 0.91803 val_loss: 0.28043, val_acc: 0.91960\n"
          ]
        },
        {
          "data": {
            "application/json": {
              "ascii": false,
              "bar_format": null,
              "colour": null,
              "elapsed": 0.008761405944824219,
              "initial": 0,
              "n": 0,
              "ncols": null,
              "nrows": null,
              "postfix": null,
              "prefix": "",
              "rate": null,
              "total": 120,
              "unit": "it",
              "unit_divisor": 1000,
              "unit_scale": false
            },
            "application/vnd.jupyter.widget-view+json": {
              "model_id": "843fc744d6be42c2affa35c7cd403a9d",
              "version_major": 2,
              "version_minor": 0
            },
            "text/plain": [
              "  0%|          | 0/120 [00:00<?, ?it/s]"
            ]
          },
          "metadata": {},
          "output_type": "display_data"
        },
        {
          "name": "stdout",
          "output_type": "stream",
          "text": [
            "Epoch [30/100], loss: 0.28510 acc: 0.91862 val_loss: 0.27748, val_acc: 0.92110\n"
          ]
        },
        {
          "data": {
            "application/json": {
              "ascii": false,
              "bar_format": null,
              "colour": null,
              "elapsed": 0.00934147834777832,
              "initial": 0,
              "n": 0,
              "ncols": null,
              "nrows": null,
              "postfix": null,
              "prefix": "",
              "rate": null,
              "total": 120,
              "unit": "it",
              "unit_divisor": 1000,
              "unit_scale": false
            },
            "application/vnd.jupyter.widget-view+json": {
              "model_id": "780d359d17d240d880dc627ca6b29602",
              "version_major": 2,
              "version_minor": 0
            },
            "text/plain": [
              "  0%|          | 0/120 [00:00<?, ?it/s]"
            ]
          },
          "metadata": {},
          "output_type": "display_data"
        },
        {
          "name": "stdout",
          "output_type": "stream",
          "text": [
            "Epoch [31/100], loss: 0.28233 acc: 0.91955 val_loss: 0.27486, val_acc: 0.92190\n"
          ]
        },
        {
          "data": {
            "application/json": {
              "ascii": false,
              "bar_format": null,
              "colour": null,
              "elapsed": 0.008890390396118164,
              "initial": 0,
              "n": 0,
              "ncols": null,
              "nrows": null,
              "postfix": null,
              "prefix": "",
              "rate": null,
              "total": 120,
              "unit": "it",
              "unit_divisor": 1000,
              "unit_scale": false
            },
            "application/vnd.jupyter.widget-view+json": {
              "model_id": "0d1fda7cebc847a796b3439af2284443",
              "version_major": 2,
              "version_minor": 0
            },
            "text/plain": [
              "  0%|          | 0/120 [00:00<?, ?it/s]"
            ]
          },
          "metadata": {},
          "output_type": "display_data"
        },
        {
          "name": "stdout",
          "output_type": "stream",
          "text": [
            "Epoch [32/100], loss: 0.27988 acc: 0.92047 val_loss: 0.27256, val_acc: 0.92120\n"
          ]
        },
        {
          "data": {
            "application/json": {
              "ascii": false,
              "bar_format": null,
              "colour": null,
              "elapsed": 0.008420705795288086,
              "initial": 0,
              "n": 0,
              "ncols": null,
              "nrows": null,
              "postfix": null,
              "prefix": "",
              "rate": null,
              "total": 120,
              "unit": "it",
              "unit_divisor": 1000,
              "unit_scale": false
            },
            "application/vnd.jupyter.widget-view+json": {
              "model_id": "3637f8f6ea334d6c945b0f5d616a3fb3",
              "version_major": 2,
              "version_minor": 0
            },
            "text/plain": [
              "  0%|          | 0/120 [00:00<?, ?it/s]"
            ]
          },
          "metadata": {},
          "output_type": "display_data"
        },
        {
          "name": "stdout",
          "output_type": "stream",
          "text": [
            "Epoch [33/100], loss: 0.27762 acc: 0.92072 val_loss: 0.27011, val_acc: 0.92200\n"
          ]
        },
        {
          "data": {
            "application/json": {
              "ascii": false,
              "bar_format": null,
              "colour": null,
              "elapsed": 0.008399486541748047,
              "initial": 0,
              "n": 0,
              "ncols": null,
              "nrows": null,
              "postfix": null,
              "prefix": "",
              "rate": null,
              "total": 120,
              "unit": "it",
              "unit_divisor": 1000,
              "unit_scale": false
            },
            "application/vnd.jupyter.widget-view+json": {
              "model_id": "40b3f749ea8c4e7183cd63536da3337e",
              "version_major": 2,
              "version_minor": 0
            },
            "text/plain": [
              "  0%|          | 0/120 [00:00<?, ?it/s]"
            ]
          },
          "metadata": {},
          "output_type": "display_data"
        },
        {
          "name": "stdout",
          "output_type": "stream",
          "text": [
            "Epoch [34/100], loss: 0.27513 acc: 0.92108 val_loss: 0.26898, val_acc: 0.92370\n"
          ]
        },
        {
          "data": {
            "application/json": {
              "ascii": false,
              "bar_format": null,
              "colour": null,
              "elapsed": 0.009197711944580078,
              "initial": 0,
              "n": 0,
              "ncols": null,
              "nrows": null,
              "postfix": null,
              "prefix": "",
              "rate": null,
              "total": 120,
              "unit": "it",
              "unit_divisor": 1000,
              "unit_scale": false
            },
            "application/vnd.jupyter.widget-view+json": {
              "model_id": "db2aa2dd19f94e6c878565c2373795c7",
              "version_major": 2,
              "version_minor": 0
            },
            "text/plain": [
              "  0%|          | 0/120 [00:00<?, ?it/s]"
            ]
          },
          "metadata": {},
          "output_type": "display_data"
        },
        {
          "name": "stdout",
          "output_type": "stream",
          "text": [
            "Epoch [35/100], loss: 0.27277 acc: 0.92240 val_loss: 0.26669, val_acc: 0.92440\n"
          ]
        },
        {
          "data": {
            "application/json": {
              "ascii": false,
              "bar_format": null,
              "colour": null,
              "elapsed": 0.008893966674804688,
              "initial": 0,
              "n": 0,
              "ncols": null,
              "nrows": null,
              "postfix": null,
              "prefix": "",
              "rate": null,
              "total": 120,
              "unit": "it",
              "unit_divisor": 1000,
              "unit_scale": false
            },
            "application/vnd.jupyter.widget-view+json": {
              "model_id": "b7c49b8df0004adcb812881bb69dd76d",
              "version_major": 2,
              "version_minor": 0
            },
            "text/plain": [
              "  0%|          | 0/120 [00:00<?, ?it/s]"
            ]
          },
          "metadata": {},
          "output_type": "display_data"
        },
        {
          "name": "stdout",
          "output_type": "stream",
          "text": [
            "Epoch [36/100], loss: 0.27047 acc: 0.92278 val_loss: 0.26464, val_acc: 0.92360\n"
          ]
        },
        {
          "data": {
            "application/json": {
              "ascii": false,
              "bar_format": null,
              "colour": null,
              "elapsed": 0.008809566497802734,
              "initial": 0,
              "n": 0,
              "ncols": null,
              "nrows": null,
              "postfix": null,
              "prefix": "",
              "rate": null,
              "total": 120,
              "unit": "it",
              "unit_divisor": 1000,
              "unit_scale": false
            },
            "application/vnd.jupyter.widget-view+json": {
              "model_id": "cef1b07cde654c409531cdb5e96951b1",
              "version_major": 2,
              "version_minor": 0
            },
            "text/plain": [
              "  0%|          | 0/120 [00:00<?, ?it/s]"
            ]
          },
          "metadata": {},
          "output_type": "display_data"
        },
        {
          "name": "stdout",
          "output_type": "stream",
          "text": [
            "Epoch [37/100], loss: 0.26827 acc: 0.92355 val_loss: 0.26281, val_acc: 0.92440\n"
          ]
        },
        {
          "data": {
            "application/json": {
              "ascii": false,
              "bar_format": null,
              "colour": null,
              "elapsed": 0.008733987808227539,
              "initial": 0,
              "n": 0,
              "ncols": null,
              "nrows": null,
              "postfix": null,
              "prefix": "",
              "rate": null,
              "total": 120,
              "unit": "it",
              "unit_divisor": 1000,
              "unit_scale": false
            },
            "application/vnd.jupyter.widget-view+json": {
              "model_id": "033dc6caacfd4ad7916f3a802fa2ff01",
              "version_major": 2,
              "version_minor": 0
            },
            "text/plain": [
              "  0%|          | 0/120 [00:00<?, ?it/s]"
            ]
          },
          "metadata": {},
          "output_type": "display_data"
        },
        {
          "name": "stdout",
          "output_type": "stream",
          "text": [
            "Epoch [38/100], loss: 0.26596 acc: 0.92407 val_loss: 0.26077, val_acc: 0.92550\n"
          ]
        },
        {
          "data": {
            "application/json": {
              "ascii": false,
              "bar_format": null,
              "colour": null,
              "elapsed": 0.009078741073608398,
              "initial": 0,
              "n": 0,
              "ncols": null,
              "nrows": null,
              "postfix": null,
              "prefix": "",
              "rate": null,
              "total": 120,
              "unit": "it",
              "unit_divisor": 1000,
              "unit_scale": false
            },
            "application/vnd.jupyter.widget-view+json": {
              "model_id": "7ca794d968494884badbb5f6b3279cc4",
              "version_major": 2,
              "version_minor": 0
            },
            "text/plain": [
              "  0%|          | 0/120 [00:00<?, ?it/s]"
            ]
          },
          "metadata": {},
          "output_type": "display_data"
        },
        {
          "name": "stdout",
          "output_type": "stream",
          "text": [
            "Epoch [39/100], loss: 0.26356 acc: 0.92450 val_loss: 0.25920, val_acc: 0.92580\n"
          ]
        },
        {
          "data": {
            "application/json": {
              "ascii": false,
              "bar_format": null,
              "colour": null,
              "elapsed": 0.00870656967163086,
              "initial": 0,
              "n": 0,
              "ncols": null,
              "nrows": null,
              "postfix": null,
              "prefix": "",
              "rate": null,
              "total": 120,
              "unit": "it",
              "unit_divisor": 1000,
              "unit_scale": false
            },
            "application/vnd.jupyter.widget-view+json": {
              "model_id": "51cc549f61b8460db1b9cb1e2525ed6e",
              "version_major": 2,
              "version_minor": 0
            },
            "text/plain": [
              "  0%|          | 0/120 [00:00<?, ?it/s]"
            ]
          },
          "metadata": {},
          "output_type": "display_data"
        },
        {
          "name": "stdout",
          "output_type": "stream",
          "text": [
            "Epoch [40/100], loss: 0.26156 acc: 0.92567 val_loss: 0.25722, val_acc: 0.92660\n"
          ]
        },
        {
          "data": {
            "application/json": {
              "ascii": false,
              "bar_format": null,
              "colour": null,
              "elapsed": 0.008267402648925781,
              "initial": 0,
              "n": 0,
              "ncols": null,
              "nrows": null,
              "postfix": null,
              "prefix": "",
              "rate": null,
              "total": 120,
              "unit": "it",
              "unit_divisor": 1000,
              "unit_scale": false
            },
            "application/vnd.jupyter.widget-view+json": {
              "model_id": "2618323069174c5d93e6595ec878fd33",
              "version_major": 2,
              "version_minor": 0
            },
            "text/plain": [
              "  0%|          | 0/120 [00:00<?, ?it/s]"
            ]
          },
          "metadata": {},
          "output_type": "display_data"
        },
        {
          "name": "stdout",
          "output_type": "stream",
          "text": [
            "Epoch [41/100], loss: 0.25918 acc: 0.92600 val_loss: 0.25561, val_acc: 0.92640\n"
          ]
        },
        {
          "data": {
            "application/json": {
              "ascii": false,
              "bar_format": null,
              "colour": null,
              "elapsed": 0.009499549865722656,
              "initial": 0,
              "n": 0,
              "ncols": null,
              "nrows": null,
              "postfix": null,
              "prefix": "",
              "rate": null,
              "total": 120,
              "unit": "it",
              "unit_divisor": 1000,
              "unit_scale": false
            },
            "application/vnd.jupyter.widget-view+json": {
              "model_id": "c4d7d2398a1347368497afaecceadfe4",
              "version_major": 2,
              "version_minor": 0
            },
            "text/plain": [
              "  0%|          | 0/120 [00:00<?, ?it/s]"
            ]
          },
          "metadata": {},
          "output_type": "display_data"
        },
        {
          "name": "stdout",
          "output_type": "stream",
          "text": [
            "Epoch [42/100], loss: 0.25714 acc: 0.92693 val_loss: 0.25286, val_acc: 0.92720\n"
          ]
        },
        {
          "data": {
            "application/json": {
              "ascii": false,
              "bar_format": null,
              "colour": null,
              "elapsed": 0.009156942367553711,
              "initial": 0,
              "n": 0,
              "ncols": null,
              "nrows": null,
              "postfix": null,
              "prefix": "",
              "rate": null,
              "total": 120,
              "unit": "it",
              "unit_divisor": 1000,
              "unit_scale": false
            },
            "application/vnd.jupyter.widget-view+json": {
              "model_id": "0f025d1ea9d6478b96c4429cbba563a6",
              "version_major": 2,
              "version_minor": 0
            },
            "text/plain": [
              "  0%|          | 0/120 [00:00<?, ?it/s]"
            ]
          },
          "metadata": {},
          "output_type": "display_data"
        },
        {
          "name": "stdout",
          "output_type": "stream",
          "text": [
            "Epoch [43/100], loss: 0.25495 acc: 0.92760 val_loss: 0.25102, val_acc: 0.92920\n"
          ]
        },
        {
          "data": {
            "application/json": {
              "ascii": false,
              "bar_format": null,
              "colour": null,
              "elapsed": 0.008848905563354492,
              "initial": 0,
              "n": 0,
              "ncols": null,
              "nrows": null,
              "postfix": null,
              "prefix": "",
              "rate": null,
              "total": 120,
              "unit": "it",
              "unit_divisor": 1000,
              "unit_scale": false
            },
            "application/vnd.jupyter.widget-view+json": {
              "model_id": "e0ad9a7419794b7d90a274cd2f791ec3",
              "version_major": 2,
              "version_minor": 0
            },
            "text/plain": [
              "  0%|          | 0/120 [00:00<?, ?it/s]"
            ]
          },
          "metadata": {},
          "output_type": "display_data"
        },
        {
          "name": "stdout",
          "output_type": "stream",
          "text": [
            "Epoch [44/100], loss: 0.25291 acc: 0.92768 val_loss: 0.24996, val_acc: 0.92790\n"
          ]
        },
        {
          "data": {
            "application/json": {
              "ascii": false,
              "bar_format": null,
              "colour": null,
              "elapsed": 0.00876307487487793,
              "initial": 0,
              "n": 0,
              "ncols": null,
              "nrows": null,
              "postfix": null,
              "prefix": "",
              "rate": null,
              "total": 120,
              "unit": "it",
              "unit_divisor": 1000,
              "unit_scale": false
            },
            "application/vnd.jupyter.widget-view+json": {
              "model_id": "578e5884784e412eaa5e983f2216a461",
              "version_major": 2,
              "version_minor": 0
            },
            "text/plain": [
              "  0%|          | 0/120 [00:00<?, ?it/s]"
            ]
          },
          "metadata": {},
          "output_type": "display_data"
        },
        {
          "name": "stdout",
          "output_type": "stream",
          "text": [
            "Epoch [45/100], loss: 0.25095 acc: 0.92842 val_loss: 0.24745, val_acc: 0.92920\n"
          ]
        },
        {
          "data": {
            "application/json": {
              "ascii": false,
              "bar_format": null,
              "colour": null,
              "elapsed": 0.008553743362426758,
              "initial": 0,
              "n": 0,
              "ncols": null,
              "nrows": null,
              "postfix": null,
              "prefix": "",
              "rate": null,
              "total": 120,
              "unit": "it",
              "unit_divisor": 1000,
              "unit_scale": false
            },
            "application/vnd.jupyter.widget-view+json": {
              "model_id": "e00e066fd48e47beba4f02874a84c255",
              "version_major": 2,
              "version_minor": 0
            },
            "text/plain": [
              "  0%|          | 0/120 [00:00<?, ?it/s]"
            ]
          },
          "metadata": {},
          "output_type": "display_data"
        },
        {
          "name": "stdout",
          "output_type": "stream",
          "text": [
            "Epoch [46/100], loss: 0.24866 acc: 0.92933 val_loss: 0.24639, val_acc: 0.93060\n"
          ]
        },
        {
          "data": {
            "application/json": {
              "ascii": false,
              "bar_format": null,
              "colour": null,
              "elapsed": 0.008706331253051758,
              "initial": 0,
              "n": 0,
              "ncols": null,
              "nrows": null,
              "postfix": null,
              "prefix": "",
              "rate": null,
              "total": 120,
              "unit": "it",
              "unit_divisor": 1000,
              "unit_scale": false
            },
            "application/vnd.jupyter.widget-view+json": {
              "model_id": "78151955c864403195ea708e74697154",
              "version_major": 2,
              "version_minor": 0
            },
            "text/plain": [
              "  0%|          | 0/120 [00:00<?, ?it/s]"
            ]
          },
          "metadata": {},
          "output_type": "display_data"
        },
        {
          "name": "stdout",
          "output_type": "stream",
          "text": [
            "Epoch [47/100], loss: 0.24663 acc: 0.92967 val_loss: 0.24406, val_acc: 0.93090\n"
          ]
        },
        {
          "data": {
            "application/json": {
              "ascii": false,
              "bar_format": null,
              "colour": null,
              "elapsed": 0.007994413375854492,
              "initial": 0,
              "n": 0,
              "ncols": null,
              "nrows": null,
              "postfix": null,
              "prefix": "",
              "rate": null,
              "total": 120,
              "unit": "it",
              "unit_divisor": 1000,
              "unit_scale": false
            },
            "application/vnd.jupyter.widget-view+json": {
              "model_id": "6dac5d1f84e14430b5d01f5196362a4e",
              "version_major": 2,
              "version_minor": 0
            },
            "text/plain": [
              "  0%|          | 0/120 [00:00<?, ?it/s]"
            ]
          },
          "metadata": {},
          "output_type": "display_data"
        },
        {
          "name": "stdout",
          "output_type": "stream",
          "text": [
            "Epoch [48/100], loss: 0.24463 acc: 0.93043 val_loss: 0.24267, val_acc: 0.93050\n"
          ]
        },
        {
          "data": {
            "application/json": {
              "ascii": false,
              "bar_format": null,
              "colour": null,
              "elapsed": 0.008291244506835938,
              "initial": 0,
              "n": 0,
              "ncols": null,
              "nrows": null,
              "postfix": null,
              "prefix": "",
              "rate": null,
              "total": 120,
              "unit": "it",
              "unit_divisor": 1000,
              "unit_scale": false
            },
            "application/vnd.jupyter.widget-view+json": {
              "model_id": "3138abb046994aaa8c800ad536676b47",
              "version_major": 2,
              "version_minor": 0
            },
            "text/plain": [
              "  0%|          | 0/120 [00:00<?, ?it/s]"
            ]
          },
          "metadata": {},
          "output_type": "display_data"
        },
        {
          "name": "stdout",
          "output_type": "stream",
          "text": [
            "Epoch [49/100], loss: 0.24266 acc: 0.93063 val_loss: 0.24014, val_acc: 0.93220\n"
          ]
        },
        {
          "data": {
            "application/json": {
              "ascii": false,
              "bar_format": null,
              "colour": null,
              "elapsed": 0.008942604064941406,
              "initial": 0,
              "n": 0,
              "ncols": null,
              "nrows": null,
              "postfix": null,
              "prefix": "",
              "rate": null,
              "total": 120,
              "unit": "it",
              "unit_divisor": 1000,
              "unit_scale": false
            },
            "application/vnd.jupyter.widget-view+json": {
              "model_id": "4b9c458ce05c469ca8d1f8c9148eaf73",
              "version_major": 2,
              "version_minor": 0
            },
            "text/plain": [
              "  0%|          | 0/120 [00:00<?, ?it/s]"
            ]
          },
          "metadata": {},
          "output_type": "display_data"
        },
        {
          "name": "stdout",
          "output_type": "stream",
          "text": [
            "Epoch [50/100], loss: 0.24069 acc: 0.93138 val_loss: 0.23931, val_acc: 0.93270\n"
          ]
        },
        {
          "data": {
            "application/json": {
              "ascii": false,
              "bar_format": null,
              "colour": null,
              "elapsed": 0.008596658706665039,
              "initial": 0,
              "n": 0,
              "ncols": null,
              "nrows": null,
              "postfix": null,
              "prefix": "",
              "rate": null,
              "total": 120,
              "unit": "it",
              "unit_divisor": 1000,
              "unit_scale": false
            },
            "application/vnd.jupyter.widget-view+json": {
              "model_id": "6f71b973399d46719509de89ab100355",
              "version_major": 2,
              "version_minor": 0
            },
            "text/plain": [
              "  0%|          | 0/120 [00:00<?, ?it/s]"
            ]
          },
          "metadata": {},
          "output_type": "display_data"
        },
        {
          "name": "stdout",
          "output_type": "stream",
          "text": [
            "Epoch [51/100], loss: 0.23871 acc: 0.93213 val_loss: 0.23711, val_acc: 0.93300\n"
          ]
        },
        {
          "data": {
            "application/json": {
              "ascii": false,
              "bar_format": null,
              "colour": null,
              "elapsed": 0.009382247924804688,
              "initial": 0,
              "n": 0,
              "ncols": null,
              "nrows": null,
              "postfix": null,
              "prefix": "",
              "rate": null,
              "total": 120,
              "unit": "it",
              "unit_divisor": 1000,
              "unit_scale": false
            },
            "application/vnd.jupyter.widget-view+json": {
              "model_id": "b95009cfe8e84c339a1b05e7e14efe2e",
              "version_major": 2,
              "version_minor": 0
            },
            "text/plain": [
              "  0%|          | 0/120 [00:00<?, ?it/s]"
            ]
          },
          "metadata": {},
          "output_type": "display_data"
        },
        {
          "name": "stdout",
          "output_type": "stream",
          "text": [
            "Epoch [52/100], loss: 0.23680 acc: 0.93225 val_loss: 0.23569, val_acc: 0.93290\n"
          ]
        },
        {
          "data": {
            "application/json": {
              "ascii": false,
              "bar_format": null,
              "colour": null,
              "elapsed": 0.008924007415771484,
              "initial": 0,
              "n": 0,
              "ncols": null,
              "nrows": null,
              "postfix": null,
              "prefix": "",
              "rate": null,
              "total": 120,
              "unit": "it",
              "unit_divisor": 1000,
              "unit_scale": false
            },
            "application/vnd.jupyter.widget-view+json": {
              "model_id": "ad693398a4c740f9aa72090bb7dd6f42",
              "version_major": 2,
              "version_minor": 0
            },
            "text/plain": [
              "  0%|          | 0/120 [00:00<?, ?it/s]"
            ]
          },
          "metadata": {},
          "output_type": "display_data"
        },
        {
          "name": "stdout",
          "output_type": "stream",
          "text": [
            "Epoch [53/100], loss: 0.23485 acc: 0.93350 val_loss: 0.23362, val_acc: 0.93330\n"
          ]
        },
        {
          "data": {
            "application/json": {
              "ascii": false,
              "bar_format": null,
              "colour": null,
              "elapsed": 0.008755207061767578,
              "initial": 0,
              "n": 0,
              "ncols": null,
              "nrows": null,
              "postfix": null,
              "prefix": "",
              "rate": null,
              "total": 120,
              "unit": "it",
              "unit_divisor": 1000,
              "unit_scale": false
            },
            "application/vnd.jupyter.widget-view+json": {
              "model_id": "9413a4c8226846deba1342d4c3838693",
              "version_major": 2,
              "version_minor": 0
            },
            "text/plain": [
              "  0%|          | 0/120 [00:00<?, ?it/s]"
            ]
          },
          "metadata": {},
          "output_type": "display_data"
        },
        {
          "name": "stdout",
          "output_type": "stream",
          "text": [
            "Epoch [54/100], loss: 0.23294 acc: 0.93452 val_loss: 0.23177, val_acc: 0.93440\n"
          ]
        },
        {
          "data": {
            "application/json": {
              "ascii": false,
              "bar_format": null,
              "colour": null,
              "elapsed": 0.008597612380981445,
              "initial": 0,
              "n": 0,
              "ncols": null,
              "nrows": null,
              "postfix": null,
              "prefix": "",
              "rate": null,
              "total": 120,
              "unit": "it",
              "unit_divisor": 1000,
              "unit_scale": false
            },
            "application/vnd.jupyter.widget-view+json": {
              "model_id": "3b7ead4516e14c8984b0b927d93d9ad9",
              "version_major": 2,
              "version_minor": 0
            },
            "text/plain": [
              "  0%|          | 0/120 [00:00<?, ?it/s]"
            ]
          },
          "metadata": {},
          "output_type": "display_data"
        },
        {
          "name": "stdout",
          "output_type": "stream",
          "text": [
            "Epoch [55/100], loss: 0.23100 acc: 0.93477 val_loss: 0.22988, val_acc: 0.93450\n"
          ]
        },
        {
          "data": {
            "application/json": {
              "ascii": false,
              "bar_format": null,
              "colour": null,
              "elapsed": 0.008831024169921875,
              "initial": 0,
              "n": 0,
              "ncols": null,
              "nrows": null,
              "postfix": null,
              "prefix": "",
              "rate": null,
              "total": 120,
              "unit": "it",
              "unit_divisor": 1000,
              "unit_scale": false
            },
            "application/vnd.jupyter.widget-view+json": {
              "model_id": "b56ef8e539e44d8e96d7208808b2f8b2",
              "version_major": 2,
              "version_minor": 0
            },
            "text/plain": [
              "  0%|          | 0/120 [00:00<?, ?it/s]"
            ]
          },
          "metadata": {},
          "output_type": "display_data"
        },
        {
          "name": "stdout",
          "output_type": "stream",
          "text": [
            "Epoch [56/100], loss: 0.22908 acc: 0.93518 val_loss: 0.22864, val_acc: 0.93460\n"
          ]
        },
        {
          "data": {
            "application/json": {
              "ascii": false,
              "bar_format": null,
              "colour": null,
              "elapsed": 0.009069204330444336,
              "initial": 0,
              "n": 0,
              "ncols": null,
              "nrows": null,
              "postfix": null,
              "prefix": "",
              "rate": null,
              "total": 120,
              "unit": "it",
              "unit_divisor": 1000,
              "unit_scale": false
            },
            "application/vnd.jupyter.widget-view+json": {
              "model_id": "23fcdd3c7d3a4219b35d0ff2445162ee",
              "version_major": 2,
              "version_minor": 0
            },
            "text/plain": [
              "  0%|          | 0/120 [00:00<?, ?it/s]"
            ]
          },
          "metadata": {},
          "output_type": "display_data"
        },
        {
          "name": "stdout",
          "output_type": "stream",
          "text": [
            "Epoch [57/100], loss: 0.22728 acc: 0.93567 val_loss: 0.22641, val_acc: 0.93580\n"
          ]
        },
        {
          "data": {
            "application/json": {
              "ascii": false,
              "bar_format": null,
              "colour": null,
              "elapsed": 0.008866310119628906,
              "initial": 0,
              "n": 0,
              "ncols": null,
              "nrows": null,
              "postfix": null,
              "prefix": "",
              "rate": null,
              "total": 120,
              "unit": "it",
              "unit_divisor": 1000,
              "unit_scale": false
            },
            "application/vnd.jupyter.widget-view+json": {
              "model_id": "d9b493d59d5e4adfab5a3734a102967e",
              "version_major": 2,
              "version_minor": 0
            },
            "text/plain": [
              "  0%|          | 0/120 [00:00<?, ?it/s]"
            ]
          },
          "metadata": {},
          "output_type": "display_data"
        },
        {
          "name": "stdout",
          "output_type": "stream",
          "text": [
            "Epoch [58/100], loss: 0.22536 acc: 0.93647 val_loss: 0.22547, val_acc: 0.93570\n"
          ]
        },
        {
          "data": {
            "application/json": {
              "ascii": false,
              "bar_format": null,
              "colour": null,
              "elapsed": 0.008623123168945312,
              "initial": 0,
              "n": 0,
              "ncols": null,
              "nrows": null,
              "postfix": null,
              "prefix": "",
              "rate": null,
              "total": 120,
              "unit": "it",
              "unit_divisor": 1000,
              "unit_scale": false
            },
            "application/vnd.jupyter.widget-view+json": {
              "model_id": "a0d1b1967b664279b7b640c0250aa5f1",
              "version_major": 2,
              "version_minor": 0
            },
            "text/plain": [
              "  0%|          | 0/120 [00:00<?, ?it/s]"
            ]
          },
          "metadata": {},
          "output_type": "display_data"
        },
        {
          "name": "stdout",
          "output_type": "stream",
          "text": [
            "Epoch [59/100], loss: 0.22366 acc: 0.93695 val_loss: 0.22321, val_acc: 0.93590\n"
          ]
        },
        {
          "data": {
            "application/json": {
              "ascii": false,
              "bar_format": null,
              "colour": null,
              "elapsed": 0.00860142707824707,
              "initial": 0,
              "n": 0,
              "ncols": null,
              "nrows": null,
              "postfix": null,
              "prefix": "",
              "rate": null,
              "total": 120,
              "unit": "it",
              "unit_divisor": 1000,
              "unit_scale": false
            },
            "application/vnd.jupyter.widget-view+json": {
              "model_id": "4f9389906b6a4492871cef1d02c352f2",
              "version_major": 2,
              "version_minor": 0
            },
            "text/plain": [
              "  0%|          | 0/120 [00:00<?, ?it/s]"
            ]
          },
          "metadata": {},
          "output_type": "display_data"
        },
        {
          "name": "stdout",
          "output_type": "stream",
          "text": [
            "Epoch [60/100], loss: 0.22189 acc: 0.93752 val_loss: 0.22189, val_acc: 0.93640\n"
          ]
        },
        {
          "data": {
            "application/json": {
              "ascii": false,
              "bar_format": null,
              "colour": null,
              "elapsed": 0.008786201477050781,
              "initial": 0,
              "n": 0,
              "ncols": null,
              "nrows": null,
              "postfix": null,
              "prefix": "",
              "rate": null,
              "total": 120,
              "unit": "it",
              "unit_divisor": 1000,
              "unit_scale": false
            },
            "application/vnd.jupyter.widget-view+json": {
              "model_id": "a8107c752754459180e6220523e5034a",
              "version_major": 2,
              "version_minor": 0
            },
            "text/plain": [
              "  0%|          | 0/120 [00:00<?, ?it/s]"
            ]
          },
          "metadata": {},
          "output_type": "display_data"
        },
        {
          "name": "stdout",
          "output_type": "stream",
          "text": [
            "Epoch [61/100], loss: 0.22017 acc: 0.93803 val_loss: 0.22010, val_acc: 0.93700\n"
          ]
        },
        {
          "data": {
            "application/json": {
              "ascii": false,
              "bar_format": null,
              "colour": null,
              "elapsed": 0.008837699890136719,
              "initial": 0,
              "n": 0,
              "ncols": null,
              "nrows": null,
              "postfix": null,
              "prefix": "",
              "rate": null,
              "total": 120,
              "unit": "it",
              "unit_divisor": 1000,
              "unit_scale": false
            },
            "application/vnd.jupyter.widget-view+json": {
              "model_id": "3c0e4372a95f43f59d6d1e68fc468ea0",
              "version_major": 2,
              "version_minor": 0
            },
            "text/plain": [
              "  0%|          | 0/120 [00:00<?, ?it/s]"
            ]
          },
          "metadata": {},
          "output_type": "display_data"
        },
        {
          "name": "stdout",
          "output_type": "stream",
          "text": [
            "Epoch [62/100], loss: 0.21844 acc: 0.93842 val_loss: 0.21883, val_acc: 0.93780\n"
          ]
        },
        {
          "data": {
            "application/json": {
              "ascii": false,
              "bar_format": null,
              "colour": null,
              "elapsed": 0.008510828018188477,
              "initial": 0,
              "n": 0,
              "ncols": null,
              "nrows": null,
              "postfix": null,
              "prefix": "",
              "rate": null,
              "total": 120,
              "unit": "it",
              "unit_divisor": 1000,
              "unit_scale": false
            },
            "application/vnd.jupyter.widget-view+json": {
              "model_id": "dc079538a94144b7bb7cae911707626a",
              "version_major": 2,
              "version_minor": 0
            },
            "text/plain": [
              "  0%|          | 0/120 [00:00<?, ?it/s]"
            ]
          },
          "metadata": {},
          "output_type": "display_data"
        },
        {
          "name": "stdout",
          "output_type": "stream",
          "text": [
            "Epoch [63/100], loss: 0.21652 acc: 0.93898 val_loss: 0.21654, val_acc: 0.93700\n"
          ]
        },
        {
          "data": {
            "application/json": {
              "ascii": false,
              "bar_format": null,
              "colour": null,
              "elapsed": 0.008599519729614258,
              "initial": 0,
              "n": 0,
              "ncols": null,
              "nrows": null,
              "postfix": null,
              "prefix": "",
              "rate": null,
              "total": 120,
              "unit": "it",
              "unit_divisor": 1000,
              "unit_scale": false
            },
            "application/vnd.jupyter.widget-view+json": {
              "model_id": "e7b3c90b56024446b128298551d00fd7",
              "version_major": 2,
              "version_minor": 0
            },
            "text/plain": [
              "  0%|          | 0/120 [00:00<?, ?it/s]"
            ]
          },
          "metadata": {},
          "output_type": "display_data"
        },
        {
          "name": "stdout",
          "output_type": "stream",
          "text": [
            "Epoch [64/100], loss: 0.21484 acc: 0.93970 val_loss: 0.21575, val_acc: 0.93900\n"
          ]
        },
        {
          "data": {
            "application/json": {
              "ascii": false,
              "bar_format": null,
              "colour": null,
              "elapsed": 0.008203983306884766,
              "initial": 0,
              "n": 0,
              "ncols": null,
              "nrows": null,
              "postfix": null,
              "prefix": "",
              "rate": null,
              "total": 120,
              "unit": "it",
              "unit_divisor": 1000,
              "unit_scale": false
            },
            "application/vnd.jupyter.widget-view+json": {
              "model_id": "88256c5127ec4a289661765052f21533",
              "version_major": 2,
              "version_minor": 0
            },
            "text/plain": [
              "  0%|          | 0/120 [00:00<?, ?it/s]"
            ]
          },
          "metadata": {},
          "output_type": "display_data"
        },
        {
          "name": "stdout",
          "output_type": "stream",
          "text": [
            "Epoch [65/100], loss: 0.21320 acc: 0.94013 val_loss: 0.21332, val_acc: 0.93830\n"
          ]
        },
        {
          "data": {
            "application/json": {
              "ascii": false,
              "bar_format": null,
              "colour": null,
              "elapsed": 0.008333683013916016,
              "initial": 0,
              "n": 0,
              "ncols": null,
              "nrows": null,
              "postfix": null,
              "prefix": "",
              "rate": null,
              "total": 120,
              "unit": "it",
              "unit_divisor": 1000,
              "unit_scale": false
            },
            "application/vnd.jupyter.widget-view+json": {
              "model_id": "1ea731b3428c4a93911d9cf987999f19",
              "version_major": 2,
              "version_minor": 0
            },
            "text/plain": [
              "  0%|          | 0/120 [00:00<?, ?it/s]"
            ]
          },
          "metadata": {},
          "output_type": "display_data"
        },
        {
          "name": "stdout",
          "output_type": "stream",
          "text": [
            "Epoch [66/100], loss: 0.21151 acc: 0.94045 val_loss: 0.21213, val_acc: 0.93890\n"
          ]
        },
        {
          "data": {
            "application/json": {
              "ascii": false,
              "bar_format": null,
              "colour": null,
              "elapsed": 0.008817434310913086,
              "initial": 0,
              "n": 0,
              "ncols": null,
              "nrows": null,
              "postfix": null,
              "prefix": "",
              "rate": null,
              "total": 120,
              "unit": "it",
              "unit_divisor": 1000,
              "unit_scale": false
            },
            "application/vnd.jupyter.widget-view+json": {
              "model_id": "9b59858530d64228a4469f274764219d",
              "version_major": 2,
              "version_minor": 0
            },
            "text/plain": [
              "  0%|          | 0/120 [00:00<?, ?it/s]"
            ]
          },
          "metadata": {},
          "output_type": "display_data"
        },
        {
          "name": "stdout",
          "output_type": "stream",
          "text": [
            "Epoch [67/100], loss: 0.20995 acc: 0.94110 val_loss: 0.21140, val_acc: 0.93960\n"
          ]
        },
        {
          "data": {
            "application/json": {
              "ascii": false,
              "bar_format": null,
              "colour": null,
              "elapsed": 0.008563995361328125,
              "initial": 0,
              "n": 0,
              "ncols": null,
              "nrows": null,
              "postfix": null,
              "prefix": "",
              "rate": null,
              "total": 120,
              "unit": "it",
              "unit_divisor": 1000,
              "unit_scale": false
            },
            "application/vnd.jupyter.widget-view+json": {
              "model_id": "cc54e0d5b44c4596aa27fb08abb10b01",
              "version_major": 2,
              "version_minor": 0
            },
            "text/plain": [
              "  0%|          | 0/120 [00:00<?, ?it/s]"
            ]
          },
          "metadata": {},
          "output_type": "display_data"
        },
        {
          "name": "stdout",
          "output_type": "stream",
          "text": [
            "Epoch [68/100], loss: 0.20824 acc: 0.94150 val_loss: 0.20921, val_acc: 0.93990\n"
          ]
        },
        {
          "data": {
            "application/json": {
              "ascii": false,
              "bar_format": null,
              "colour": null,
              "elapsed": 0.009019613265991211,
              "initial": 0,
              "n": 0,
              "ncols": null,
              "nrows": null,
              "postfix": null,
              "prefix": "",
              "rate": null,
              "total": 120,
              "unit": "it",
              "unit_divisor": 1000,
              "unit_scale": false
            },
            "application/vnd.jupyter.widget-view+json": {
              "model_id": "d06e7f0450da49e98fd058c284ce0762",
              "version_major": 2,
              "version_minor": 0
            },
            "text/plain": [
              "  0%|          | 0/120 [00:00<?, ?it/s]"
            ]
          },
          "metadata": {},
          "output_type": "display_data"
        },
        {
          "name": "stdout",
          "output_type": "stream",
          "text": [
            "Epoch [69/100], loss: 0.20672 acc: 0.94208 val_loss: 0.20713, val_acc: 0.94010\n"
          ]
        },
        {
          "data": {
            "application/json": {
              "ascii": false,
              "bar_format": null,
              "colour": null,
              "elapsed": 0.008361101150512695,
              "initial": 0,
              "n": 0,
              "ncols": null,
              "nrows": null,
              "postfix": null,
              "prefix": "",
              "rate": null,
              "total": 120,
              "unit": "it",
              "unit_divisor": 1000,
              "unit_scale": false
            },
            "application/vnd.jupyter.widget-view+json": {
              "model_id": "dcc7ba6f719b4646a5ab0fe38a75a5e9",
              "version_major": 2,
              "version_minor": 0
            },
            "text/plain": [
              "  0%|          | 0/120 [00:00<?, ?it/s]"
            ]
          },
          "metadata": {},
          "output_type": "display_data"
        },
        {
          "name": "stdout",
          "output_type": "stream",
          "text": [
            "Epoch [70/100], loss: 0.20499 acc: 0.94240 val_loss: 0.20680, val_acc: 0.93970\n"
          ]
        },
        {
          "data": {
            "application/json": {
              "ascii": false,
              "bar_format": null,
              "colour": null,
              "elapsed": 0.00906229019165039,
              "initial": 0,
              "n": 0,
              "ncols": null,
              "nrows": null,
              "postfix": null,
              "prefix": "",
              "rate": null,
              "total": 120,
              "unit": "it",
              "unit_divisor": 1000,
              "unit_scale": false
            },
            "application/vnd.jupyter.widget-view+json": {
              "model_id": "12aff7281f0846f5afaa6a6666e1f054",
              "version_major": 2,
              "version_minor": 0
            },
            "text/plain": [
              "  0%|          | 0/120 [00:00<?, ?it/s]"
            ]
          },
          "metadata": {},
          "output_type": "display_data"
        },
        {
          "name": "stdout",
          "output_type": "stream",
          "text": [
            "Epoch [71/100], loss: 0.20352 acc: 0.94292 val_loss: 0.20482, val_acc: 0.94080\n"
          ]
        },
        {
          "data": {
            "application/json": {
              "ascii": false,
              "bar_format": null,
              "colour": null,
              "elapsed": 0.008692264556884766,
              "initial": 0,
              "n": 0,
              "ncols": null,
              "nrows": null,
              "postfix": null,
              "prefix": "",
              "rate": null,
              "total": 120,
              "unit": "it",
              "unit_divisor": 1000,
              "unit_scale": false
            },
            "application/vnd.jupyter.widget-view+json": {
              "model_id": "9090c12ef32448d5b688a85233197e45",
              "version_major": 2,
              "version_minor": 0
            },
            "text/plain": [
              "  0%|          | 0/120 [00:00<?, ?it/s]"
            ]
          },
          "metadata": {},
          "output_type": "display_data"
        },
        {
          "name": "stdout",
          "output_type": "stream",
          "text": [
            "Epoch [72/100], loss: 0.20197 acc: 0.94350 val_loss: 0.20376, val_acc: 0.94120\n"
          ]
        },
        {
          "data": {
            "application/json": {
              "ascii": false,
              "bar_format": null,
              "colour": null,
              "elapsed": 0.008889913558959961,
              "initial": 0,
              "n": 0,
              "ncols": null,
              "nrows": null,
              "postfix": null,
              "prefix": "",
              "rate": null,
              "total": 120,
              "unit": "it",
              "unit_divisor": 1000,
              "unit_scale": false
            },
            "application/vnd.jupyter.widget-view+json": {
              "model_id": "cb7b541bc8634d37b5b75c4eb119a0f4",
              "version_major": 2,
              "version_minor": 0
            },
            "text/plain": [
              "  0%|          | 0/120 [00:00<?, ?it/s]"
            ]
          },
          "metadata": {},
          "output_type": "display_data"
        },
        {
          "name": "stdout",
          "output_type": "stream",
          "text": [
            "Epoch [73/100], loss: 0.20052 acc: 0.94380 val_loss: 0.20208, val_acc: 0.94120\n"
          ]
        },
        {
          "data": {
            "application/json": {
              "ascii": false,
              "bar_format": null,
              "colour": null,
              "elapsed": 0.008903026580810547,
              "initial": 0,
              "n": 0,
              "ncols": null,
              "nrows": null,
              "postfix": null,
              "prefix": "",
              "rate": null,
              "total": 120,
              "unit": "it",
              "unit_divisor": 1000,
              "unit_scale": false
            },
            "application/vnd.jupyter.widget-view+json": {
              "model_id": "70d81c60cdd648df957947c26eebe081",
              "version_major": 2,
              "version_minor": 0
            },
            "text/plain": [
              "  0%|          | 0/120 [00:00<?, ?it/s]"
            ]
          },
          "metadata": {},
          "output_type": "display_data"
        },
        {
          "name": "stdout",
          "output_type": "stream",
          "text": [
            "Epoch [74/100], loss: 0.19891 acc: 0.94423 val_loss: 0.20084, val_acc: 0.94230\n"
          ]
        },
        {
          "data": {
            "application/json": {
              "ascii": false,
              "bar_format": null,
              "colour": null,
              "elapsed": 0.009261846542358398,
              "initial": 0,
              "n": 0,
              "ncols": null,
              "nrows": null,
              "postfix": null,
              "prefix": "",
              "rate": null,
              "total": 120,
              "unit": "it",
              "unit_divisor": 1000,
              "unit_scale": false
            },
            "application/vnd.jupyter.widget-view+json": {
              "model_id": "5e8a779cd50b4dfa90268a7c2071392e",
              "version_major": 2,
              "version_minor": 0
            },
            "text/plain": [
              "  0%|          | 0/120 [00:00<?, ?it/s]"
            ]
          },
          "metadata": {},
          "output_type": "display_data"
        },
        {
          "name": "stdout",
          "output_type": "stream",
          "text": [
            "Epoch [75/100], loss: 0.19753 acc: 0.94455 val_loss: 0.19892, val_acc: 0.94270\n"
          ]
        },
        {
          "data": {
            "application/json": {
              "ascii": false,
              "bar_format": null,
              "colour": null,
              "elapsed": 0.00867152214050293,
              "initial": 0,
              "n": 0,
              "ncols": null,
              "nrows": null,
              "postfix": null,
              "prefix": "",
              "rate": null,
              "total": 120,
              "unit": "it",
              "unit_divisor": 1000,
              "unit_scale": false
            },
            "application/vnd.jupyter.widget-view+json": {
              "model_id": "b1a3ba6a24fb4683b9d8271f62adec9f",
              "version_major": 2,
              "version_minor": 0
            },
            "text/plain": [
              "  0%|          | 0/120 [00:00<?, ?it/s]"
            ]
          },
          "metadata": {},
          "output_type": "display_data"
        },
        {
          "name": "stdout",
          "output_type": "stream",
          "text": [
            "Epoch [76/100], loss: 0.19586 acc: 0.94513 val_loss: 0.19790, val_acc: 0.94300\n"
          ]
        },
        {
          "data": {
            "application/json": {
              "ascii": false,
              "bar_format": null,
              "colour": null,
              "elapsed": 0.00838017463684082,
              "initial": 0,
              "n": 0,
              "ncols": null,
              "nrows": null,
              "postfix": null,
              "prefix": "",
              "rate": null,
              "total": 120,
              "unit": "it",
              "unit_divisor": 1000,
              "unit_scale": false
            },
            "application/vnd.jupyter.widget-view+json": {
              "model_id": "c3c70327c4b84ce1bd5f8ed14da34334",
              "version_major": 2,
              "version_minor": 0
            },
            "text/plain": [
              "  0%|          | 0/120 [00:00<?, ?it/s]"
            ]
          },
          "metadata": {},
          "output_type": "display_data"
        },
        {
          "name": "stdout",
          "output_type": "stream",
          "text": [
            "Epoch [77/100], loss: 0.19453 acc: 0.94537 val_loss: 0.19668, val_acc: 0.94330\n"
          ]
        },
        {
          "data": {
            "application/json": {
              "ascii": false,
              "bar_format": null,
              "colour": null,
              "elapsed": 0.009086370468139648,
              "initial": 0,
              "n": 0,
              "ncols": null,
              "nrows": null,
              "postfix": null,
              "prefix": "",
              "rate": null,
              "total": 120,
              "unit": "it",
              "unit_divisor": 1000,
              "unit_scale": false
            },
            "application/vnd.jupyter.widget-view+json": {
              "model_id": "5fb13ea1299847ec9a0f5aad172bbc15",
              "version_major": 2,
              "version_minor": 0
            },
            "text/plain": [
              "  0%|          | 0/120 [00:00<?, ?it/s]"
            ]
          },
          "metadata": {},
          "output_type": "display_data"
        },
        {
          "name": "stdout",
          "output_type": "stream",
          "text": [
            "Epoch [78/100], loss: 0.19311 acc: 0.94570 val_loss: 0.19517, val_acc: 0.94430\n"
          ]
        },
        {
          "data": {
            "application/json": {
              "ascii": false,
              "bar_format": null,
              "colour": null,
              "elapsed": 0.008817911148071289,
              "initial": 0,
              "n": 0,
              "ncols": null,
              "nrows": null,
              "postfix": null,
              "prefix": "",
              "rate": null,
              "total": 120,
              "unit": "it",
              "unit_divisor": 1000,
              "unit_scale": false
            },
            "application/vnd.jupyter.widget-view+json": {
              "model_id": "f1f3ff39101545d39558291c6dd3b0a3",
              "version_major": 2,
              "version_minor": 0
            },
            "text/plain": [
              "  0%|          | 0/120 [00:00<?, ?it/s]"
            ]
          },
          "metadata": {},
          "output_type": "display_data"
        },
        {
          "name": "stdout",
          "output_type": "stream",
          "text": [
            "Epoch [79/100], loss: 0.19162 acc: 0.94623 val_loss: 0.19403, val_acc: 0.94420\n"
          ]
        },
        {
          "data": {
            "application/json": {
              "ascii": false,
              "bar_format": null,
              "colour": null,
              "elapsed": 0.009190797805786133,
              "initial": 0,
              "n": 0,
              "ncols": null,
              "nrows": null,
              "postfix": null,
              "prefix": "",
              "rate": null,
              "total": 120,
              "unit": "it",
              "unit_divisor": 1000,
              "unit_scale": false
            },
            "application/vnd.jupyter.widget-view+json": {
              "model_id": "25e81d67a5fc4f76b7b8ff60e21e8931",
              "version_major": 2,
              "version_minor": 0
            },
            "text/plain": [
              "  0%|          | 0/120 [00:00<?, ?it/s]"
            ]
          },
          "metadata": {},
          "output_type": "display_data"
        },
        {
          "name": "stdout",
          "output_type": "stream",
          "text": [
            "Epoch [80/100], loss: 0.19039 acc: 0.94638 val_loss: 0.19303, val_acc: 0.94360\n"
          ]
        },
        {
          "data": {
            "application/json": {
              "ascii": false,
              "bar_format": null,
              "colour": null,
              "elapsed": 0.008516550064086914,
              "initial": 0,
              "n": 0,
              "ncols": null,
              "nrows": null,
              "postfix": null,
              "prefix": "",
              "rate": null,
              "total": 120,
              "unit": "it",
              "unit_divisor": 1000,
              "unit_scale": false
            },
            "application/vnd.jupyter.widget-view+json": {
              "model_id": "66b68e9f2de14c91b0852948cb3123cd",
              "version_major": 2,
              "version_minor": 0
            },
            "text/plain": [
              "  0%|          | 0/120 [00:00<?, ?it/s]"
            ]
          },
          "metadata": {},
          "output_type": "display_data"
        },
        {
          "name": "stdout",
          "output_type": "stream",
          "text": [
            "Epoch [81/100], loss: 0.18890 acc: 0.94717 val_loss: 0.19188, val_acc: 0.94340\n"
          ]
        },
        {
          "data": {
            "application/json": {
              "ascii": false,
              "bar_format": null,
              "colour": null,
              "elapsed": 0.009246826171875,
              "initial": 0,
              "n": 0,
              "ncols": null,
              "nrows": null,
              "postfix": null,
              "prefix": "",
              "rate": null,
              "total": 120,
              "unit": "it",
              "unit_divisor": 1000,
              "unit_scale": false
            },
            "application/vnd.jupyter.widget-view+json": {
              "model_id": "5f29c06c93424839bf98c3e7fcc42365",
              "version_major": 2,
              "version_minor": 0
            },
            "text/plain": [
              "  0%|          | 0/120 [00:00<?, ?it/s]"
            ]
          },
          "metadata": {},
          "output_type": "display_data"
        },
        {
          "name": "stdout",
          "output_type": "stream",
          "text": [
            "Epoch [82/100], loss: 0.18763 acc: 0.94740 val_loss: 0.19037, val_acc: 0.94460\n"
          ]
        },
        {
          "data": {
            "application/json": {
              "ascii": false,
              "bar_format": null,
              "colour": null,
              "elapsed": 0.008902311325073242,
              "initial": 0,
              "n": 0,
              "ncols": null,
              "nrows": null,
              "postfix": null,
              "prefix": "",
              "rate": null,
              "total": 120,
              "unit": "it",
              "unit_divisor": 1000,
              "unit_scale": false
            },
            "application/vnd.jupyter.widget-view+json": {
              "model_id": "e0ccfa72006243e78a1316e7a4cb5560",
              "version_major": 2,
              "version_minor": 0
            },
            "text/plain": [
              "  0%|          | 0/120 [00:00<?, ?it/s]"
            ]
          },
          "metadata": {},
          "output_type": "display_data"
        },
        {
          "name": "stdout",
          "output_type": "stream",
          "text": [
            "Epoch [83/100], loss: 0.18619 acc: 0.94797 val_loss: 0.18891, val_acc: 0.94570\n"
          ]
        },
        {
          "data": {
            "application/json": {
              "ascii": false,
              "bar_format": null,
              "colour": null,
              "elapsed": 0.008556842803955078,
              "initial": 0,
              "n": 0,
              "ncols": null,
              "nrows": null,
              "postfix": null,
              "prefix": "",
              "rate": null,
              "total": 120,
              "unit": "it",
              "unit_divisor": 1000,
              "unit_scale": false
            },
            "application/vnd.jupyter.widget-view+json": {
              "model_id": "9fd5eddac594491f83dc926f71b605f5",
              "version_major": 2,
              "version_minor": 0
            },
            "text/plain": [
              "  0%|          | 0/120 [00:00<?, ?it/s]"
            ]
          },
          "metadata": {},
          "output_type": "display_data"
        },
        {
          "name": "stdout",
          "output_type": "stream",
          "text": [
            "Epoch [84/100], loss: 0.18486 acc: 0.94810 val_loss: 0.18785, val_acc: 0.94480\n"
          ]
        },
        {
          "data": {
            "application/json": {
              "ascii": false,
              "bar_format": null,
              "colour": null,
              "elapsed": 0.009241580963134766,
              "initial": 0,
              "n": 0,
              "ncols": null,
              "nrows": null,
              "postfix": null,
              "prefix": "",
              "rate": null,
              "total": 120,
              "unit": "it",
              "unit_divisor": 1000,
              "unit_scale": false
            },
            "application/vnd.jupyter.widget-view+json": {
              "model_id": "0a3cff5fb6d24dba98668446213619b3",
              "version_major": 2,
              "version_minor": 0
            },
            "text/plain": [
              "  0%|          | 0/120 [00:00<?, ?it/s]"
            ]
          },
          "metadata": {},
          "output_type": "display_data"
        },
        {
          "name": "stdout",
          "output_type": "stream",
          "text": [
            "Epoch [85/100], loss: 0.18357 acc: 0.94820 val_loss: 0.18689, val_acc: 0.94600\n"
          ]
        },
        {
          "data": {
            "application/json": {
              "ascii": false,
              "bar_format": null,
              "colour": null,
              "elapsed": 0.009590864181518555,
              "initial": 0,
              "n": 0,
              "ncols": null,
              "nrows": null,
              "postfix": null,
              "prefix": "",
              "rate": null,
              "total": 120,
              "unit": "it",
              "unit_divisor": 1000,
              "unit_scale": false
            },
            "application/vnd.jupyter.widget-view+json": {
              "model_id": "52afd92d29aa4b51b697bf4860cfef0e",
              "version_major": 2,
              "version_minor": 0
            },
            "text/plain": [
              "  0%|          | 0/120 [00:00<?, ?it/s]"
            ]
          },
          "metadata": {},
          "output_type": "display_data"
        },
        {
          "name": "stdout",
          "output_type": "stream",
          "text": [
            "Epoch [86/100], loss: 0.18228 acc: 0.94885 val_loss: 0.18556, val_acc: 0.94630\n"
          ]
        },
        {
          "data": {
            "application/json": {
              "ascii": false,
              "bar_format": null,
              "colour": null,
              "elapsed": 0.008486509323120117,
              "initial": 0,
              "n": 0,
              "ncols": null,
              "nrows": null,
              "postfix": null,
              "prefix": "",
              "rate": null,
              "total": 120,
              "unit": "it",
              "unit_divisor": 1000,
              "unit_scale": false
            },
            "application/vnd.jupyter.widget-view+json": {
              "model_id": "1b1333f02ada4697a990fe885a1eb0b2",
              "version_major": 2,
              "version_minor": 0
            },
            "text/plain": [
              "  0%|          | 0/120 [00:00<?, ?it/s]"
            ]
          },
          "metadata": {},
          "output_type": "display_data"
        },
        {
          "name": "stdout",
          "output_type": "stream",
          "text": [
            "Epoch [87/100], loss: 0.18100 acc: 0.94955 val_loss: 0.18462, val_acc: 0.94570\n"
          ]
        },
        {
          "data": {
            "application/json": {
              "ascii": false,
              "bar_format": null,
              "colour": null,
              "elapsed": 0.008904457092285156,
              "initial": 0,
              "n": 0,
              "ncols": null,
              "nrows": null,
              "postfix": null,
              "prefix": "",
              "rate": null,
              "total": 120,
              "unit": "it",
              "unit_divisor": 1000,
              "unit_scale": false
            },
            "application/vnd.jupyter.widget-view+json": {
              "model_id": "84ae8804f0be4deaa65be7bef139c28e",
              "version_major": 2,
              "version_minor": 0
            },
            "text/plain": [
              "  0%|          | 0/120 [00:00<?, ?it/s]"
            ]
          },
          "metadata": {},
          "output_type": "display_data"
        },
        {
          "name": "stdout",
          "output_type": "stream",
          "text": [
            "Epoch [88/100], loss: 0.17975 acc: 0.94977 val_loss: 0.18366, val_acc: 0.94700\n"
          ]
        },
        {
          "data": {
            "application/json": {
              "ascii": false,
              "bar_format": null,
              "colour": null,
              "elapsed": 0.00967550277709961,
              "initial": 0,
              "n": 0,
              "ncols": null,
              "nrows": null,
              "postfix": null,
              "prefix": "",
              "rate": null,
              "total": 120,
              "unit": "it",
              "unit_divisor": 1000,
              "unit_scale": false
            },
            "application/vnd.jupyter.widget-view+json": {
              "model_id": "4bbd3eb89c0946cc81db74a816b41a0d",
              "version_major": 2,
              "version_minor": 0
            },
            "text/plain": [
              "  0%|          | 0/120 [00:00<?, ?it/s]"
            ]
          },
          "metadata": {},
          "output_type": "display_data"
        },
        {
          "name": "stdout",
          "output_type": "stream",
          "text": [
            "Epoch [89/100], loss: 0.17846 acc: 0.95022 val_loss: 0.18183, val_acc: 0.94680\n"
          ]
        },
        {
          "data": {
            "application/json": {
              "ascii": false,
              "bar_format": null,
              "colour": null,
              "elapsed": 0.008500099182128906,
              "initial": 0,
              "n": 0,
              "ncols": null,
              "nrows": null,
              "postfix": null,
              "prefix": "",
              "rate": null,
              "total": 120,
              "unit": "it",
              "unit_divisor": 1000,
              "unit_scale": false
            },
            "application/vnd.jupyter.widget-view+json": {
              "model_id": "ba120e11904142ceb6c8b6870f24b8c7",
              "version_major": 2,
              "version_minor": 0
            },
            "text/plain": [
              "  0%|          | 0/120 [00:00<?, ?it/s]"
            ]
          },
          "metadata": {},
          "output_type": "display_data"
        },
        {
          "name": "stdout",
          "output_type": "stream",
          "text": [
            "Epoch [90/100], loss: 0.17737 acc: 0.95040 val_loss: 0.18089, val_acc: 0.94740\n"
          ]
        },
        {
          "data": {
            "application/json": {
              "ascii": false,
              "bar_format": null,
              "colour": null,
              "elapsed": 0.00831460952758789,
              "initial": 0,
              "n": 0,
              "ncols": null,
              "nrows": null,
              "postfix": null,
              "prefix": "",
              "rate": null,
              "total": 120,
              "unit": "it",
              "unit_divisor": 1000,
              "unit_scale": false
            },
            "application/vnd.jupyter.widget-view+json": {
              "model_id": "a6ca96937faa4be694fd08504bb0a1fd",
              "version_major": 2,
              "version_minor": 0
            },
            "text/plain": [
              "  0%|          | 0/120 [00:00<?, ?it/s]"
            ]
          },
          "metadata": {},
          "output_type": "display_data"
        },
        {
          "name": "stdout",
          "output_type": "stream",
          "text": [
            "Epoch [91/100], loss: 0.17611 acc: 0.95098 val_loss: 0.17952, val_acc: 0.94800\n"
          ]
        },
        {
          "data": {
            "application/json": {
              "ascii": false,
              "bar_format": null,
              "colour": null,
              "elapsed": 0.00837087631225586,
              "initial": 0,
              "n": 0,
              "ncols": null,
              "nrows": null,
              "postfix": null,
              "prefix": "",
              "rate": null,
              "total": 120,
              "unit": "it",
              "unit_divisor": 1000,
              "unit_scale": false
            },
            "application/vnd.jupyter.widget-view+json": {
              "model_id": "d99fefc699a44bf28d58a9007b31c188",
              "version_major": 2,
              "version_minor": 0
            },
            "text/plain": [
              "  0%|          | 0/120 [00:00<?, ?it/s]"
            ]
          },
          "metadata": {},
          "output_type": "display_data"
        },
        {
          "name": "stdout",
          "output_type": "stream",
          "text": [
            "Epoch [92/100], loss: 0.17488 acc: 0.95117 val_loss: 0.17918, val_acc: 0.94790\n"
          ]
        },
        {
          "data": {
            "application/json": {
              "ascii": false,
              "bar_format": null,
              "colour": null,
              "elapsed": 0.00879216194152832,
              "initial": 0,
              "n": 0,
              "ncols": null,
              "nrows": null,
              "postfix": null,
              "prefix": "",
              "rate": null,
              "total": 120,
              "unit": "it",
              "unit_divisor": 1000,
              "unit_scale": false
            },
            "application/vnd.jupyter.widget-view+json": {
              "model_id": "bf267b58873e456b9977e35444e4aa34",
              "version_major": 2,
              "version_minor": 0
            },
            "text/plain": [
              "  0%|          | 0/120 [00:00<?, ?it/s]"
            ]
          },
          "metadata": {},
          "output_type": "display_data"
        },
        {
          "name": "stdout",
          "output_type": "stream",
          "text": [
            "Epoch [93/100], loss: 0.17382 acc: 0.95145 val_loss: 0.17743, val_acc: 0.94810\n"
          ]
        },
        {
          "data": {
            "application/json": {
              "ascii": false,
              "bar_format": null,
              "colour": null,
              "elapsed": 0.008391141891479492,
              "initial": 0,
              "n": 0,
              "ncols": null,
              "nrows": null,
              "postfix": null,
              "prefix": "",
              "rate": null,
              "total": 120,
              "unit": "it",
              "unit_divisor": 1000,
              "unit_scale": false
            },
            "application/vnd.jupyter.widget-view+json": {
              "model_id": "8cc4305ddeb343fe9001f205afc98261",
              "version_major": 2,
              "version_minor": 0
            },
            "text/plain": [
              "  0%|          | 0/120 [00:00<?, ?it/s]"
            ]
          },
          "metadata": {},
          "output_type": "display_data"
        },
        {
          "name": "stdout",
          "output_type": "stream",
          "text": [
            "Epoch [94/100], loss: 0.17264 acc: 0.95170 val_loss: 0.17633, val_acc: 0.94790\n"
          ]
        },
        {
          "data": {
            "application/json": {
              "ascii": false,
              "bar_format": null,
              "colour": null,
              "elapsed": 0.008773088455200195,
              "initial": 0,
              "n": 0,
              "ncols": null,
              "nrows": null,
              "postfix": null,
              "prefix": "",
              "rate": null,
              "total": 120,
              "unit": "it",
              "unit_divisor": 1000,
              "unit_scale": false
            },
            "application/vnd.jupyter.widget-view+json": {
              "model_id": "9e61e1c5462a4beba17dabe9ca22aef3",
              "version_major": 2,
              "version_minor": 0
            },
            "text/plain": [
              "  0%|          | 0/120 [00:00<?, ?it/s]"
            ]
          },
          "metadata": {},
          "output_type": "display_data"
        },
        {
          "name": "stdout",
          "output_type": "stream",
          "text": [
            "Epoch [95/100], loss: 0.17143 acc: 0.95218 val_loss: 0.17555, val_acc: 0.94900\n"
          ]
        },
        {
          "data": {
            "application/json": {
              "ascii": false,
              "bar_format": null,
              "colour": null,
              "elapsed": 0.008092880249023438,
              "initial": 0,
              "n": 0,
              "ncols": null,
              "nrows": null,
              "postfix": null,
              "prefix": "",
              "rate": null,
              "total": 120,
              "unit": "it",
              "unit_divisor": 1000,
              "unit_scale": false
            },
            "application/vnd.jupyter.widget-view+json": {
              "model_id": "5acf1b44621043208badb0bdcc16a506",
              "version_major": 2,
              "version_minor": 0
            },
            "text/plain": [
              "  0%|          | 0/120 [00:00<?, ?it/s]"
            ]
          },
          "metadata": {},
          "output_type": "display_data"
        },
        {
          "name": "stdout",
          "output_type": "stream",
          "text": [
            "Epoch [96/100], loss: 0.17035 acc: 0.95275 val_loss: 0.17469, val_acc: 0.94820\n"
          ]
        },
        {
          "data": {
            "application/json": {
              "ascii": false,
              "bar_format": null,
              "colour": null,
              "elapsed": 0.00895237922668457,
              "initial": 0,
              "n": 0,
              "ncols": null,
              "nrows": null,
              "postfix": null,
              "prefix": "",
              "rate": null,
              "total": 120,
              "unit": "it",
              "unit_divisor": 1000,
              "unit_scale": false
            },
            "application/vnd.jupyter.widget-view+json": {
              "model_id": "21b95ab52aa94925945e5226a075985e",
              "version_major": 2,
              "version_minor": 0
            },
            "text/plain": [
              "  0%|          | 0/120 [00:00<?, ?it/s]"
            ]
          },
          "metadata": {},
          "output_type": "display_data"
        },
        {
          "name": "stdout",
          "output_type": "stream",
          "text": [
            "Epoch [97/100], loss: 0.16914 acc: 0.95275 val_loss: 0.17387, val_acc: 0.94830\n"
          ]
        },
        {
          "data": {
            "application/json": {
              "ascii": false,
              "bar_format": null,
              "colour": null,
              "elapsed": 0.008940458297729492,
              "initial": 0,
              "n": 0,
              "ncols": null,
              "nrows": null,
              "postfix": null,
              "prefix": "",
              "rate": null,
              "total": 120,
              "unit": "it",
              "unit_divisor": 1000,
              "unit_scale": false
            },
            "application/vnd.jupyter.widget-view+json": {
              "model_id": "3b6c1dcbd4d2472388f10cd1161fa41b",
              "version_major": 2,
              "version_minor": 0
            },
            "text/plain": [
              "  0%|          | 0/120 [00:00<?, ?it/s]"
            ]
          },
          "metadata": {},
          "output_type": "display_data"
        },
        {
          "name": "stdout",
          "output_type": "stream",
          "text": [
            "Epoch [98/100], loss: 0.16810 acc: 0.95328 val_loss: 0.17412, val_acc: 0.94810\n"
          ]
        },
        {
          "data": {
            "application/json": {
              "ascii": false,
              "bar_format": null,
              "colour": null,
              "elapsed": 0.008950948715209961,
              "initial": 0,
              "n": 0,
              "ncols": null,
              "nrows": null,
              "postfix": null,
              "prefix": "",
              "rate": null,
              "total": 120,
              "unit": "it",
              "unit_divisor": 1000,
              "unit_scale": false
            },
            "application/vnd.jupyter.widget-view+json": {
              "model_id": "5e39daee429a4e7d926a938ca970428f",
              "version_major": 2,
              "version_minor": 0
            },
            "text/plain": [
              "  0%|          | 0/120 [00:00<?, ?it/s]"
            ]
          },
          "metadata": {},
          "output_type": "display_data"
        },
        {
          "name": "stdout",
          "output_type": "stream",
          "text": [
            "Epoch [99/100], loss: 0.16696 acc: 0.95360 val_loss: 0.17145, val_acc: 0.94840\n"
          ]
        },
        {
          "data": {
            "application/json": {
              "ascii": false,
              "bar_format": null,
              "colour": null,
              "elapsed": 0.009171247482299805,
              "initial": 0,
              "n": 0,
              "ncols": null,
              "nrows": null,
              "postfix": null,
              "prefix": "",
              "rate": null,
              "total": 120,
              "unit": "it",
              "unit_divisor": 1000,
              "unit_scale": false
            },
            "application/vnd.jupyter.widget-view+json": {
              "model_id": "de951f5d4b234aaf98535e1add37381a",
              "version_major": 2,
              "version_minor": 0
            },
            "text/plain": [
              "  0%|          | 0/120 [00:00<?, ?it/s]"
            ]
          },
          "metadata": {},
          "output_type": "display_data"
        },
        {
          "name": "stdout",
          "output_type": "stream",
          "text": [
            "Epoch [100/100], loss: 0.16582 acc: 0.95405 val_loss: 0.17067, val_acc: 0.94970\n"
          ]
        }
      ],
      "source": [
        "# tqdmライブラリのインポート\n",
        "from tqdm.notebook import tqdm\n",
        "\n",
        "# 繰り返し計算メインループ\n",
        "\n",
        "for epoch in range(num_epochs):\n",
        "    train_acc, train_loss = 0, 0\n",
        "    val_acc, val_loss = 0, 0\n",
        "    n_train, n_test = 0, 0\n",
        "\n",
        "    # 訓練フェーズ\n",
        "    for inputs, labels in tqdm(train_loader):\n",
        "        n_train += len(labels)\n",
        "\n",
        "        # GPUヘ転送\n",
        "        inputs = inputs.to(device)\n",
        "        labels = labels.to(device)\n",
        "    \n",
        "        #勾配の初期化\n",
        "        optimizer.zero_grad()\n",
        "\n",
        "        # 予測計算\n",
        "        outputs = net(inputs)\n",
        "\n",
        "        # 損失計算\n",
        "        loss = criterion(outputs, labels)\n",
        "\n",
        "        # 勾配計算\n",
        "        loss.backward()\n",
        "    \n",
        "        # パラメータ修正\n",
        "        optimizer.step()\n",
        "\n",
        "        # 予測ラベル導出\n",
        "        predicted = torch.max(outputs, 1)[1]\n",
        "\n",
        "        # 損失と精度の計算\n",
        "        train_loss += loss.item()\n",
        "        train_acc += (predicted == labels).sum().item() \n",
        "\n",
        "    #予測フェーズ\n",
        "    for inputs_test, labels_test in test_loader:\n",
        "        n_test += len(labels_test)\n",
        "\n",
        "        inputs_test = inputs_test.to(device)\n",
        "        labels_test = labels_test.to(device)\n",
        "\n",
        "            \n",
        "        # 予測計算\n",
        "        outputs_test = net(inputs_test)\n",
        "\n",
        "        # 損失計算\n",
        "        loss_test = criterion(outputs_test, labels_test)\n",
        "\n",
        "        #予測ラベル導出\n",
        "        predicted_test = torch.max(outputs_test, 1)[1]\n",
        "\n",
        "        # 損失と精度の計算\n",
        "        val_loss +=  loss_test.item()\n",
        "        val_acc +=  (predicted_test == labels_test).sum().item()\n",
        "\n",
        "    # 評価値の算出・記録\n",
        "    train_acc = train_acc / n_train\n",
        "    val_acc = val_acc / n_test\n",
        "    train_loss = train_loss * batch_size / n_train\n",
        "    val_loss = val_loss * batch_size / n_test\n",
        "    print (f'Epoch [{epoch+1}/{num_epochs}], loss: {train_loss:.5f} acc: {train_acc:.5f} val_loss: {val_loss:.5f}, val_acc: {val_acc:.5f}')\n",
        "    item = np.array([epoch+1 , train_loss, train_acc, val_loss, val_acc])\n",
        "    history = np.vstack((history, item))"
      ]
    },
    {
      "cell_type": "markdown",
      "metadata": {
        "id": "3YpNqlm2vZC0"
      },
      "source": [
        "## 8.13 結果確認"
      ]
    },
    {
      "cell_type": "code",
      "execution_count": 1,
      "metadata": {
        "id": "2NQJM_UBli5m"
      },
      "outputs": [
        {
          "ename": "NameError",
          "evalue": "name 'history' is not defined",
          "output_type": "error",
          "traceback": [
            "\u001b[0;31m---------------------------------------------------------------------------\u001b[0m",
            "\u001b[0;31mNameError\u001b[0m                                 Traceback (most recent call last)",
            "\u001b[1;32mセル71 を /workspaces/pytorch_deeplearning_programming/notebook/ch08_dl.ipynb\u001b[0m in \u001b[0;36m<cell line: 3>\u001b[0;34m()\u001b[0m\n\u001b[1;32m      <a href='vscode-notebook-cell://dev-container%2B2f686f6d652f72656e79612f446576656c6f702f7079746f7263682f7079746f7263685f646565706c6561726e696e675f70726f6772616d6d696e67/workspaces/pytorch_deeplearning_programming/notebook/ch08_dl.ipynb#Y130sdnNjb2RlLXJlbW90ZQ%3D%3D?line=0'>1</a>\u001b[0m \u001b[39m#損失と精度の確認\u001b[39;00m\n\u001b[0;32m----> <a href='vscode-notebook-cell://dev-container%2B2f686f6d652f72656e79612f446576656c6f702f7079746f7263682f7079746f7263685f646565706c6561726e696e675f70726f6772616d6d696e67/workspaces/pytorch_deeplearning_programming/notebook/ch08_dl.ipynb#Y130sdnNjb2RlLXJlbW90ZQ%3D%3D?line=2'>3</a>\u001b[0m \u001b[39mprint\u001b[39m(\u001b[39mf\u001b[39m\u001b[39m'\u001b[39m\u001b[39m初期状態: 損失: \u001b[39m\u001b[39m{\u001b[39;00mhistory[\u001b[39m0\u001b[39m,\u001b[39m3\u001b[39m]\u001b[39m:\u001b[39;00m\u001b[39m.5f\u001b[39m\u001b[39m}\u001b[39;00m\u001b[39m 精度: \u001b[39m\u001b[39m{\u001b[39;00mhistory[\u001b[39m0\u001b[39m,\u001b[39m4\u001b[39m]\u001b[39m:\u001b[39;00m\u001b[39m.5f\u001b[39m\u001b[39m}\u001b[39;00m\u001b[39m'\u001b[39m )\n\u001b[1;32m      <a href='vscode-notebook-cell://dev-container%2B2f686f6d652f72656e79612f446576656c6f702f7079746f7263682f7079746f7263685f646565706c6561726e696e675f70726f6772616d6d696e67/workspaces/pytorch_deeplearning_programming/notebook/ch08_dl.ipynb#Y130sdnNjb2RlLXJlbW90ZQ%3D%3D?line=3'>4</a>\u001b[0m \u001b[39mprint\u001b[39m(\u001b[39mf\u001b[39m\u001b[39m'\u001b[39m\u001b[39m最終状態: 損失: \u001b[39m\u001b[39m{\u001b[39;00mhistory[\u001b[39m-\u001b[39m\u001b[39m1\u001b[39m,\u001b[39m3\u001b[39m]\u001b[39m:\u001b[39;00m\u001b[39m.5f\u001b[39m\u001b[39m}\u001b[39;00m\u001b[39m 精度: \u001b[39m\u001b[39m{\u001b[39;00mhistory[\u001b[39m-\u001b[39m\u001b[39m1\u001b[39m,\u001b[39m4\u001b[39m]\u001b[39m:\u001b[39;00m\u001b[39m.5f\u001b[39m\u001b[39m}\u001b[39;00m\u001b[39m'\u001b[39m )\n",
            "\u001b[0;31mNameError\u001b[0m: name 'history' is not defined"
          ]
        }
      ],
      "source": [
        "#損失と精度の確認\n",
        "\n",
        "print(f'初期状態: 損失: {history[0,3]:.5f} 精度: {history[0,4]:.5f}' )\n",
        "print(f'最終状態: 損失: {history[-1,3]:.5f} 精度: {history[-1,4]:.5f}' )"
      ]
    },
    {
      "cell_type": "code",
      "execution_count": null,
      "metadata": {
        "id": "phCQdH7No5Z_"
      },
      "outputs": [
        {
          "data": {
            "image/png": "[encoded data removed]",
            "text/plain": [
              "<Figure size 648x576 with 1 Axes>"
            ]
          },
          "metadata": {
            "needs_background": "light"
          },
          "output_type": "display_data"
        }
      ],
      "source": [
        "# 学習曲線の表示 (損失)\n",
        "\n",
        "plt.rcParams['figure.figsize'] = (9,8)\n",
        "plt.plot(history[:,0], history[:,1], 'b', label='訓練')\n",
        "plt.plot(history[:,0], history[:,3], 'k', label='検証')\n",
        "plt.xlabel('繰り返し回数')\n",
        "plt.ylabel('損失')\n",
        "plt.title('学習曲線(損失)')\n",
        "plt.legend()\n",
        "plt.show()"
      ]
    },
    {
      "cell_type": "code",
      "execution_count": null,
      "metadata": {
        "id": "v3I8Jw0ticf2"
      },
      "outputs": [
        {
          "data": {
            "image/png": "[encoded data removed]",
            "text/plain": [
              "<Figure size 648x576 with 1 Axes>"
            ]
          },
          "metadata": {
            "needs_background": "light"
          },
          "output_type": "display_data"
        }
      ],
      "source": [
        "# 学習曲線の表示 (精度)\n",
        "\n",
        "plt.rcParams['figure.figsize'] = (9,8)\n",
        "plt.plot(history[:,0], history[:,2], 'b', label='訓練')\n",
        "plt.plot(history[:,0], history[:,4], 'k', label='検証')\n",
        "plt.xlabel('繰り返し回数')\n",
        "plt.ylabel('精度')\n",
        "plt.title('学習曲線(精度)')\n",
        "plt.legend()\n",
        "plt.show()"
      ]
    },
    {
      "cell_type": "markdown",
      "metadata": {
        "id": "jHbKGRzI9XWn"
      },
      "source": [
        "### イメージ表示で確認"
      ]
    },
    {
      "cell_type": "code",
      "execution_count": null,
      "metadata": {
        "id": "oVuuBxXWHNvE"
      },
      "outputs": [],
      "source": [
        "# DataLoaderから最初の1セットを取得する\n",
        "for images, labels in test_loader:\n",
        "    break\n",
        "\n",
        "# 予測結果の取得\n",
        "inputs = images.to(device)\n",
        "labels = labels.to(device)\n",
        "outputs = net(inputs)\n",
        "predicted = torch.max(outputs, 1)[1]"
      ]
    },
    {
      "cell_type": "code",
      "execution_count": null,
      "metadata": {
        "id": "CN5MGTud7bsf"
      },
      "outputs": [
        {
          "data": {
            "image/png": "[encoded data removed]",
            "text/plain": [
              "<Figure size 720x576 with 50 Axes>"
            ]
          },
          "metadata": {
            "needs_background": "light"
          },
          "output_type": "display_data"
        }
      ],
      "source": [
        "# 最初の50件でイメージを「正解値:予測値」と表示\n",
        "\n",
        "plt.figure(figsize=(10, 8))\n",
        "for i in range(50):\n",
        "  ax = plt.subplot(5, 10, i + 1)\n",
        "    \n",
        "  # numpyに変換\n",
        "  image = images[i]\n",
        "  label = labels[i]\n",
        "  pred = predicted[i]\n",
        "  if (pred == label):\n",
        "    c = 'k'\n",
        "  else:\n",
        "    c = 'b'\n",
        "    \n",
        "  # imgの範囲を[0, 1]に戻す\n",
        "  image2 = (image + 1)/ 2\n",
        "    \n",
        "  # イメージ表示\n",
        "  plt.imshow(image2.reshape(28, 28),cmap='gray_r')\n",
        "  ax.set_title(f'{label}:{pred}', c=c)\n",
        "  ax.get_xaxis().set_visible(False)\n",
        "  ax.get_yaxis().set_visible(False)\n",
        "plt.show()\n"
      ]
    },
    {
      "cell_type": "markdown",
      "metadata": {
        "id": "lYQlrBNW4b0R"
      },
      "source": [
        "## 8.14 隠れ層の2層化"
      ]
    },
    {
      "cell_type": "code",
      "execution_count": null,
      "metadata": {
        "id": "WKI_YKqevw16"
      },
      "outputs": [],
      "source": [
        "# モデルの定義\n",
        "# 784入力10出力2隠れ層のニューラルネットワークモデル\n",
        "\n",
        "class Net2(nn.Module):\n",
        "    def __init__(self, n_input, n_output, n_hidden):\n",
        "        super().__init__()\n",
        "        \n",
        "        # 隠れ層1の定義 (隠れ層のノード数: n_hidden)\n",
        "        self.l1 = nn.Linear(n_input, n_hidden)\n",
        "\n",
        "        # 隠れ層2の定義 (隠れ層のノード数: n_hidden)\n",
        "        self.l2 = nn.Linear(n_hidden, n_hidden)\n",
        "\n",
        "        # 出力層の定義\n",
        "        self.l3 = nn.Linear(n_hidden, n_output)\n",
        "\n",
        "        # ReLU関数の定義\n",
        "        self.relu = nn.ReLU(inplace=True)\n",
        "\n",
        "    def forward(self, x):\n",
        "        x1 = self.l1(x)\n",
        "        x2 = self.relu(x1)\n",
        "        x3 = self.l2(x2)\n",
        "        x4 = self.relu(x3)\n",
        "        x5 = self.l3(x4)\n",
        "        return x5"
      ]
    },
    {
      "cell_type": "code",
      "execution_count": null,
      "metadata": {
        "id": "4iZ_1fHl59Js"
      },
      "outputs": [],
      "source": [
        "# 乱数の固定化\n",
        "torch.manual_seed(123)\n",
        "torch.cuda.manual_seed(123)\n",
        "\n",
        "# モデルインスタンス生成\n",
        "net = Net2(n_input, n_output, n_hidden).to(device)\n",
        "\n",
        "# 損失関数： 交差エントロピー関数\n",
        "criterion = nn.CrossEntropyLoss()\n",
        "\n",
        "# 最適化関数: 勾配降下法\n",
        "optimizer = torch.optim.SGD(net.parameters(), lr=lr)"
      ]
    },
    {
      "cell_type": "code",
      "execution_count": null,
      "metadata": {
        "id": "D6iqjM5P5EW5"
      },
      "outputs": [
        {
          "name": "stdout",
          "output_type": "stream",
          "text": [
            "Net2(\n",
            "  (l1): Linear(in_features=784, out_features=128, bias=True)\n",
            "  (l2): Linear(in_features=128, out_features=128, bias=True)\n",
            "  (l3): Linear(in_features=128, out_features=10, bias=True)\n",
            "  (relu): ReLU(inplace=True)\n",
            ")\n"
          ]
        }
      ],
      "source": [
        "# モデルの概要表示\n",
        "\n",
        "print(net)"
      ]
    },
    {
      "cell_type": "code",
      "execution_count": null,
      "metadata": {
        "id": "rL5pmOzi5T0i"
      },
      "outputs": [
        {
          "data": {
            "text/plain": [
              "==========================================================================================\n",
              "Layer (type:depth-idx)                   Output Shape              Param #\n",
              "==========================================================================================\n",
              "Net2                                     [10]                      --\n",
              "├─Linear: 1-1                            [128]                     100,480\n",
              "├─ReLU: 1-2                              [128]                     --\n",
              "├─Linear: 1-3                            [128]                     16,512\n",
              "├─ReLU: 1-4                              [128]                     --\n",
              "├─Linear: 1-5                            [10]                      1,290\n",
              "==========================================================================================\n",
              "Total params: 118,282\n",
              "Trainable params: 118,282\n",
              "Non-trainable params: 0\n",
              "Total mult-adds (M): 14.99\n",
              "==========================================================================================\n",
              "Input size (MB): 0.00\n",
              "Forward/backward pass size (MB): 0.00\n",
              "Params size (MB): 0.47\n",
              "Estimated Total Size (MB): 0.48\n",
              "=========================================================================================="
            ]
          },
          "execution_count": 57,
          "metadata": {},
          "output_type": "execute_result"
        }
      ],
      "source": [
        "# モデルのサマリー表示\n",
        "\n",
        "summary(net, (784,))"
      ]
    },
    {
      "cell_type": "code",
      "execution_count": null,
      "metadata": {
        "id": "tuznoi_AgBQ0"
      },
      "outputs": [],
      "source": [
        "# DataLoaderから最初の1セットを取得する\n",
        "for images, labels in test_loader:\n",
        "    break\n",
        "\n",
        "# 予測結果の取得\n",
        "inputs = images.to(device)\n",
        "labels = labels.to(device)"
      ]
    },
    {
      "cell_type": "code",
      "execution_count": null,
      "metadata": {
        "id": "ANTVr2Wz5bbU"
      },
      "outputs": [
        {
          "data": {
            "image/svg+xml": "<?xml version=\"1.0\" encoding=\"UTF-8\" standalone=\"no\"?>\n<!DOCTYPE svg PUBLIC \"-//W3C//DTD SVG 1.1//EN\"\n \"http://www.w3.org/Graphics/SVG/1.1/DTD/svg11.dtd\">\n<!-- Generated by graphviz version 6.0.1 (20220911.2005)\n -->\n<!-- Pages: 1 -->\n<svg width=\"376pt\" height=\"655pt\"\n viewBox=\"0.00 0.00 375.50 655.00\" xmlns=\"http://www.w3.org/2000/svg\" xmlns:xlink=\"http://www.w3.org/1999/xlink\">\n<g id=\"graph0\" class=\"graph\" transform=\"scale(1 1) rotate(0) translate(4 651)\">\n<polygon fill=\"white\" stroke=\"none\" points=\"-4,4 -4,-651 371.5,-651 371.5,4 -4,4\"/>\n<!-- 139945552272896 -->\n<g id=\"node1\" class=\"node\">\n<title>139945552272896</title>\n<polygon fill=\"#caff70\" stroke=\"black\" points=\"219,-31 165,-31 165,0 219,0 219,-31\"/>\n<text text-anchor=\"middle\" x=\"192\" y=\"-7\" font-family=\"monospace\" font-size=\"10.00\"> ()</text>\n</g>\n<!-- 139945691275520 -->\n<g id=\"node2\" class=\"node\">\n<title>139945691275520</title>\n<polygon fill=\"lightgrey\" stroke=\"black\" points=\"242.5,-86 141.5,-86 141.5,-67 242.5,-67 242.5,-86\"/>\n<text text-anchor=\"middle\" x=\"192\" y=\"-74\" font-family=\"monospace\" font-size=\"10.00\">NllLossBackward0</text>\n</g>\n<!-- 139945691275520&#45;&gt;139945552272896 -->\n<g id=\"edge22\" class=\"edge\">\n<title>139945691275520&#45;&gt;139945552272896</title>\n<path fill=\"none\" stroke=\"black\" d=\"M192,-66.79C192,-60.07 192,-50.4 192,-41.34\"/>\n<polygon fill=\"black\" stroke=\"black\" points=\"195.5,-41.19 192,-31.19 188.5,-41.19 195.5,-41.19\"/>\n</g>\n<!-- 139945691279168 -->\n<g id=\"node3\" class=\"node\">\n<title>139945691279168</title>\n<polygon fill=\"lightgrey\" stroke=\"black\" points=\"250,-141 134,-141 134,-122 250,-122 250,-141\"/>\n<text text-anchor=\"middle\" x=\"192\" y=\"-129\" font-family=\"monospace\" font-size=\"10.00\">LogSoftmaxBackward0</text>\n</g>\n<!-- 139945691279168&#45;&gt;139945691275520 -->\n<g id=\"edge1\" class=\"edge\">\n<title>139945691279168&#45;&gt;139945691275520</title>\n<path fill=\"none\" stroke=\"black\" d=\"M192,-121.75C192,-114.8 192,-104.85 192,-96.13\"/>\n<polygon fill=\"black\" stroke=\"black\" points=\"195.5,-96.09 192,-86.09 188.5,-96.09 195.5,-96.09\"/>\n</g>\n<!-- 139945552960624 -->\n<g id=\"node4\" class=\"node\">\n<title>139945552960624</title>\n<polygon fill=\"lightgrey\" stroke=\"black\" points=\"237,-196 147,-196 147,-177 237,-177 237,-196\"/>\n<text text-anchor=\"middle\" x=\"192\" y=\"-184\" font-family=\"monospace\" font-size=\"10.00\">AddmmBackward0</text>\n</g>\n<!-- 139945552960624&#45;&gt;139945691279168 -->\n<g id=\"edge2\" class=\"edge\">\n<title>139945552960624&#45;&gt;139945691279168</title>\n<path fill=\"none\" stroke=\"black\" d=\"M192,-176.75C192,-169.8 192,-159.85 192,-151.13\"/>\n<polygon fill=\"black\" stroke=\"black\" points=\"195.5,-151.09 192,-141.09 188.5,-151.09 195.5,-151.09\"/>\n</g>\n<!-- 139945552958176 -->\n<g id=\"node5\" class=\"node\">\n<title>139945552958176</title>\n<polygon fill=\"lightgrey\" stroke=\"black\" points=\"131,-251 41,-251 41,-232 131,-232 131,-251\"/>\n<text text-anchor=\"middle\" x=\"86\" y=\"-239\" font-family=\"monospace\" font-size=\"10.00\">AccumulateGrad</text>\n</g>\n<!-- 139945552958176&#45;&gt;139945552960624 -->\n<g id=\"edge3\" class=\"edge\">\n<title>139945552958176&#45;&gt;139945552960624</title>\n<path fill=\"none\" stroke=\"black\" d=\"M103.03,-231.98C119.93,-223.54 146.06,-210.47 165.64,-200.68\"/>\n<polygon fill=\"black\" stroke=\"black\" points=\"167.28,-203.77 174.66,-196.17 164.15,-197.51 167.28,-203.77\"/>\n</g>\n<!-- 139945552471040 -->\n<g id=\"node6\" class=\"node\">\n<title>139945552471040</title>\n<polygon fill=\"lightblue\" stroke=\"black\" points=\"113,-317 59,-317 59,-287 113,-287 113,-317\"/>\n<text text-anchor=\"middle\" x=\"86\" y=\"-305\" font-family=\"monospace\" font-size=\"10.00\">l3.bias</text>\n<text text-anchor=\"middle\" x=\"86\" y=\"-294\" font-family=\"monospace\" font-size=\"10.00\"> (10)</text>\n</g>\n<!-- 139945552471040&#45;&gt;139945552958176 -->\n<g id=\"edge4\" class=\"edge\">\n<title>139945552471040&#45;&gt;139945552958176</title>\n<path fill=\"none\" stroke=\"black\" d=\"M86,-286.84C86,-279.21 86,-269.7 86,-261.45\"/>\n<polygon fill=\"black\" stroke=\"black\" points=\"89.5,-261.27 86,-251.27 82.5,-261.27 89.5,-261.27\"/>\n</g>\n<!-- 139945552959328 -->\n<g id=\"node7\" class=\"node\">\n<title>139945552959328</title>\n<polygon fill=\"lightgrey\" stroke=\"black\" points=\"234.5,-251 149.5,-251 149.5,-232 234.5,-232 234.5,-251\"/>\n<text text-anchor=\"middle\" x=\"192\" y=\"-239\" font-family=\"monospace\" font-size=\"10.00\">ReluBackward0</text>\n</g>\n<!-- 139945552959328&#45;&gt;139945552960624 -->\n<g id=\"edge5\" class=\"edge\">\n<title>139945552959328&#45;&gt;139945552960624</title>\n<path fill=\"none\" stroke=\"black\" d=\"M192,-231.75C192,-224.8 192,-214.85 192,-206.13\"/>\n<polygon fill=\"black\" stroke=\"black\" points=\"195.5,-206.09 192,-196.09 188.5,-206.09 195.5,-206.09\"/>\n</g>\n<!-- 139945552957984 -->\n<g id=\"node8\" class=\"node\">\n<title>139945552957984</title>\n<polygon fill=\"lightgrey\" stroke=\"black\" points=\"233,-311.5 143,-311.5 143,-292.5 233,-292.5 233,-311.5\"/>\n<text text-anchor=\"middle\" x=\"188\" y=\"-299.5\" font-family=\"monospace\" font-size=\"10.00\">AddmmBackward0</text>\n</g>\n<!-- 139945552957984&#45;&gt;139945552959328 -->\n<g id=\"edge6\" class=\"edge\">\n<title>139945552957984&#45;&gt;139945552959328</title>\n<path fill=\"none\" stroke=\"black\" d=\"M188.59,-292.37C189.15,-284.25 190,-271.81 190.71,-261.39\"/>\n<polygon fill=\"black\" stroke=\"black\" points=\"194.22,-261.38 191.41,-251.17 187.23,-260.91 194.22,-261.38\"/>\n</g>\n<!-- 139945552960096 -->\n<g id=\"node9\" class=\"node\">\n<title>139945552960096</title>\n<polygon fill=\"lightgrey\" stroke=\"black\" points=\"90,-377.5 0,-377.5 0,-358.5 90,-358.5 90,-377.5\"/>\n<text text-anchor=\"middle\" x=\"45\" y=\"-365.5\" font-family=\"monospace\" font-size=\"10.00\">AccumulateGrad</text>\n</g>\n<!-- 139945552960096&#45;&gt;139945552957984 -->\n<g id=\"edge7\" class=\"edge\">\n<title>139945552960096&#45;&gt;139945552957984</title>\n<path fill=\"none\" stroke=\"black\" d=\"M64.29,-358.37C88.7,-347.44 130.97,-328.52 159.21,-315.88\"/>\n<polygon fill=\"black\" stroke=\"black\" points=\"160.87,-318.98 168.56,-311.7 158.01,-312.59 160.87,-318.98\"/>\n</g>\n<!-- 139945691666848 -->\n<g id=\"node10\" class=\"node\">\n<title>139945691666848</title>\n<polygon fill=\"lightblue\" stroke=\"black\" points=\"72,-449 18,-449 18,-419 72,-419 72,-449\"/>\n<text text-anchor=\"middle\" x=\"45\" y=\"-437\" font-family=\"monospace\" font-size=\"10.00\">l2.bias</text>\n<text text-anchor=\"middle\" x=\"45\" y=\"-426\" font-family=\"monospace\" font-size=\"10.00\"> (128)</text>\n</g>\n<!-- 139945691666848&#45;&gt;139945552960096 -->\n<g id=\"edge8\" class=\"edge\">\n<title>139945691666848&#45;&gt;139945552960096</title>\n<path fill=\"none\" stroke=\"black\" d=\"M45,-418.8C45,-409.7 45,-397.79 45,-387.9\"/>\n<polygon fill=\"black\" stroke=\"black\" points=\"48.5,-387.84 45,-377.84 41.5,-387.84 48.5,-387.84\"/>\n</g>\n<!-- 139945552957792 -->\n<g id=\"node11\" class=\"node\">\n<title>139945552957792</title>\n<polygon fill=\"lightgrey\" stroke=\"black\" points=\"193.5,-377.5 108.5,-377.5 108.5,-358.5 193.5,-358.5 193.5,-377.5\"/>\n<text text-anchor=\"middle\" x=\"151\" y=\"-365.5\" font-family=\"monospace\" font-size=\"10.00\">ReluBackward0</text>\n</g>\n<!-- 139945552957792&#45;&gt;139945552957984 -->\n<g id=\"edge9\" class=\"edge\">\n<title>139945552957792&#45;&gt;139945552957984</title>\n<path fill=\"none\" stroke=\"black\" d=\"M155.99,-358.37C161.53,-348.78 170.63,-333.05 177.71,-320.8\"/>\n<polygon fill=\"black\" stroke=\"black\" points=\"180.88,-322.31 182.85,-311.91 174.82,-318.81 180.88,-322.31\"/>\n</g>\n<!-- 139939445253504 -->\n<g id=\"node12\" class=\"node\">\n<title>139939445253504</title>\n<polygon fill=\"lightgrey\" stroke=\"black\" points=\"189,-443.5 99,-443.5 99,-424.5 189,-424.5 189,-443.5\"/>\n<text text-anchor=\"middle\" x=\"144\" y=\"-431.5\" font-family=\"monospace\" font-size=\"10.00\">AddmmBackward0</text>\n</g>\n<!-- 139939445253504&#45;&gt;139945552957792 -->\n<g id=\"edge10\" class=\"edge\">\n<title>139939445253504&#45;&gt;139945552957792</title>\n<path fill=\"none\" stroke=\"black\" d=\"M144.94,-424.37C145.96,-415.07 147.61,-399.98 148.93,-387.9\"/>\n<polygon fill=\"black\" stroke=\"black\" points=\"152.42,-388.23 150.03,-377.91 145.46,-387.47 152.42,-388.23\"/>\n</g>\n<!-- 139939445255472 -->\n<g id=\"node13\" class=\"node\">\n<title>139939445255472</title>\n<polygon fill=\"lightgrey\" stroke=\"black\" points=\"100,-509.5 10,-509.5 10,-490.5 100,-490.5 100,-509.5\"/>\n<text text-anchor=\"middle\" x=\"55\" y=\"-497.5\" font-family=\"monospace\" font-size=\"10.00\">AccumulateGrad</text>\n</g>\n<!-- 139939445255472&#45;&gt;139939445253504 -->\n<g id=\"edge11\" class=\"edge\">\n<title>139939445255472&#45;&gt;139939445253504</title>\n<path fill=\"none\" stroke=\"black\" d=\"M67,-490.37C81.47,-479.97 106.01,-462.32 123.49,-449.75\"/>\n<polygon fill=\"black\" stroke=\"black\" points=\"125.83,-452.38 131.9,-443.7 121.74,-446.7 125.83,-452.38\"/>\n</g>\n<!-- 139945552470320 -->\n<g id=\"node14\" class=\"node\">\n<title>139945552470320</title>\n<polygon fill=\"lightblue\" stroke=\"black\" points=\"82,-581 28,-581 28,-551 82,-551 82,-581\"/>\n<text text-anchor=\"middle\" x=\"55\" y=\"-569\" font-family=\"monospace\" font-size=\"10.00\">l1.bias</text>\n<text text-anchor=\"middle\" x=\"55\" y=\"-558\" font-family=\"monospace\" font-size=\"10.00\"> (128)</text>\n</g>\n<!-- 139945552470320&#45;&gt;139939445255472 -->\n<g id=\"edge12\" class=\"edge\">\n<title>139945552470320&#45;&gt;139939445255472</title>\n<path fill=\"none\" stroke=\"black\" d=\"M55,-550.8C55,-541.7 55,-529.79 55,-519.9\"/>\n<polygon fill=\"black\" stroke=\"black\" points=\"58.5,-519.84 55,-509.84 51.5,-519.84 58.5,-519.84\"/>\n</g>\n<!-- 139939445255520 -->\n<g id=\"node15\" class=\"node\">\n<title>139939445255520</title>\n<polygon fill=\"lightgrey\" stroke=\"black\" points=\"187.5,-509.5 118.5,-509.5 118.5,-490.5 187.5,-490.5 187.5,-509.5\"/>\n<text text-anchor=\"middle\" x=\"153\" y=\"-497.5\" font-family=\"monospace\" font-size=\"10.00\">TBackward0</text>\n</g>\n<!-- 139939445255520&#45;&gt;139939445253504 -->\n<g id=\"edge13\" class=\"edge\">\n<title>139939445255520&#45;&gt;139939445253504</title>\n<path fill=\"none\" stroke=\"black\" d=\"M151.79,-490.37C150.48,-481.07 148.36,-465.98 146.66,-453.9\"/>\n<polygon fill=\"black\" stroke=\"black\" points=\"150.11,-453.32 145.25,-443.91 143.18,-454.3 150.11,-453.32\"/>\n</g>\n<!-- 139939445255328 -->\n<g id=\"node16\" class=\"node\">\n<title>139939445255328</title>\n<polygon fill=\"lightgrey\" stroke=\"black\" points=\"198,-575.5 108,-575.5 108,-556.5 198,-556.5 198,-575.5\"/>\n<text text-anchor=\"middle\" x=\"153\" y=\"-563.5\" font-family=\"monospace\" font-size=\"10.00\">AccumulateGrad</text>\n</g>\n<!-- 139939445255328&#45;&gt;139939445255520 -->\n<g id=\"edge14\" class=\"edge\">\n<title>139939445255328&#45;&gt;139939445255520</title>\n<path fill=\"none\" stroke=\"black\" d=\"M153,-556.37C153,-547.16 153,-532.29 153,-520.27\"/>\n<polygon fill=\"black\" stroke=\"black\" points=\"156.5,-519.91 153,-509.91 149.5,-519.91 156.5,-519.91\"/>\n</g>\n<!-- 139945552471360 -->\n<g id=\"node17\" class=\"node\">\n<title>139945552471360</title>\n<polygon fill=\"lightblue\" stroke=\"black\" points=\"190,-647 116,-647 116,-617 190,-617 190,-647\"/>\n<text text-anchor=\"middle\" x=\"153\" y=\"-635\" font-family=\"monospace\" font-size=\"10.00\">l1.weight</text>\n<text text-anchor=\"middle\" x=\"153\" y=\"-624\" font-family=\"monospace\" font-size=\"10.00\"> (128, 784)</text>\n</g>\n<!-- 139945552471360&#45;&gt;139939445255328 -->\n<g id=\"edge15\" class=\"edge\">\n<title>139945552471360&#45;&gt;139939445255328</title>\n<path fill=\"none\" stroke=\"black\" d=\"M153,-616.8C153,-607.7 153,-595.79 153,-585.9\"/>\n<polygon fill=\"black\" stroke=\"black\" points=\"156.5,-585.84 153,-575.84 149.5,-585.84 156.5,-585.84\"/>\n</g>\n<!-- 139939445253696 -->\n<g id=\"node18\" class=\"node\">\n<title>139939445253696</title>\n<polygon fill=\"lightgrey\" stroke=\"black\" points=\"280.5,-377.5 211.5,-377.5 211.5,-358.5 280.5,-358.5 280.5,-377.5\"/>\n<text text-anchor=\"middle\" x=\"246\" y=\"-365.5\" font-family=\"monospace\" font-size=\"10.00\">TBackward0</text>\n</g>\n<!-- 139939445253696&#45;&gt;139945552957984 -->\n<g id=\"edge16\" class=\"edge\">\n<title>139939445253696&#45;&gt;139945552957984</title>\n<path fill=\"none\" stroke=\"black\" d=\"M238.18,-358.37C229.15,-348.4 214.09,-331.79 202.83,-319.36\"/>\n<polygon fill=\"black\" stroke=\"black\" points=\"205.38,-316.96 196.07,-311.91 200.19,-321.67 205.38,-316.96\"/>\n</g>\n<!-- 139939445255232 -->\n<g id=\"node19\" class=\"node\">\n<title>139939445255232</title>\n<polygon fill=\"lightgrey\" stroke=\"black\" points=\"297,-443.5 207,-443.5 207,-424.5 297,-424.5 297,-443.5\"/>\n<text text-anchor=\"middle\" x=\"252\" y=\"-431.5\" font-family=\"monospace\" font-size=\"10.00\">AccumulateGrad</text>\n</g>\n<!-- 139939445255232&#45;&gt;139939445253696 -->\n<g id=\"edge17\" class=\"edge\">\n<title>139939445255232&#45;&gt;139939445253696</title>\n<path fill=\"none\" stroke=\"black\" d=\"M251.19,-424.37C250.32,-415.07 248.9,-399.98 247.77,-387.9\"/>\n<polygon fill=\"black\" stroke=\"black\" points=\"251.25,-387.53 246.83,-377.91 244.28,-388.19 251.25,-387.53\"/>\n</g>\n<!-- 139940235233616 -->\n<g id=\"node20\" class=\"node\">\n<title>139940235233616</title>\n<polygon fill=\"lightblue\" stroke=\"black\" points=\"289,-515 215,-515 215,-485 289,-485 289,-515\"/>\n<text text-anchor=\"middle\" x=\"252\" y=\"-503\" font-family=\"monospace\" font-size=\"10.00\">l2.weight</text>\n<text text-anchor=\"middle\" x=\"252\" y=\"-492\" font-family=\"monospace\" font-size=\"10.00\"> (128, 128)</text>\n</g>\n<!-- 139940235233616&#45;&gt;139939445255232 -->\n<g id=\"edge18\" class=\"edge\">\n<title>139940235233616&#45;&gt;139939445255232</title>\n<path fill=\"none\" stroke=\"black\" d=\"M252,-484.8C252,-475.7 252,-463.79 252,-453.9\"/>\n<polygon fill=\"black\" stroke=\"black\" points=\"255.5,-453.84 252,-443.84 248.5,-453.84 255.5,-453.84\"/>\n</g>\n<!-- 139945552960576 -->\n<g id=\"node21\" class=\"node\">\n<title>139945552960576</title>\n<polygon fill=\"lightgrey\" stroke=\"black\" points=\"328.5,-251 259.5,-251 259.5,-232 328.5,-232 328.5,-251\"/>\n<text text-anchor=\"middle\" x=\"294\" y=\"-239\" font-family=\"monospace\" font-size=\"10.00\">TBackward0</text>\n</g>\n<!-- 139945552960576&#45;&gt;139945552960624 -->\n<g id=\"edge19\" class=\"edge\">\n<title>139945552960576&#45;&gt;139945552960624</title>\n<path fill=\"none\" stroke=\"black\" d=\"M277.61,-231.98C261.43,-223.57 236.43,-210.59 217.62,-200.81\"/>\n<polygon fill=\"black\" stroke=\"black\" points=\"219.17,-197.68 208.69,-196.17 215.95,-203.89 219.17,-197.68\"/>\n</g>\n<!-- 139945552958032 -->\n<g id=\"node22\" class=\"node\">\n<title>139945552958032</title>\n<polygon fill=\"lightgrey\" stroke=\"black\" points=\"342,-311.5 252,-311.5 252,-292.5 342,-292.5 342,-311.5\"/>\n<text text-anchor=\"middle\" x=\"297\" y=\"-299.5\" font-family=\"monospace\" font-size=\"10.00\">AccumulateGrad</text>\n</g>\n<!-- 139945552958032&#45;&gt;139945552960576 -->\n<g id=\"edge20\" class=\"edge\">\n<title>139945552958032&#45;&gt;139945552960576</title>\n<path fill=\"none\" stroke=\"black\" d=\"M296.56,-292.37C296.14,-284.25 295.5,-271.81 294.97,-261.39\"/>\n<polygon fill=\"black\" stroke=\"black\" points=\"298.45,-260.97 294.44,-251.17 291.46,-261.33 298.45,-260.97\"/>\n</g>\n<!-- 139945691224560 -->\n<g id=\"node23\" class=\"node\">\n<title>139945691224560</title>\n<polygon fill=\"lightblue\" stroke=\"black\" points=\"367.5,-383 298.5,-383 298.5,-353 367.5,-353 367.5,-383\"/>\n<text text-anchor=\"middle\" x=\"333\" y=\"-371\" font-family=\"monospace\" font-size=\"10.00\">l3.weight</text>\n<text text-anchor=\"middle\" x=\"333\" y=\"-360\" font-family=\"monospace\" font-size=\"10.00\"> (10, 128)</text>\n</g>\n<!-- 139945691224560&#45;&gt;139945552958032 -->\n<g id=\"edge21\" class=\"edge\">\n<title>139945691224560&#45;&gt;139945552958032</title>\n<path fill=\"none\" stroke=\"black\" d=\"M325.01,-352.8C319.67,-343.31 312.61,-330.76 306.92,-320.63\"/>\n<polygon fill=\"black\" stroke=\"black\" points=\"309.93,-318.84 301.97,-311.84 303.83,-322.28 309.93,-318.84\"/>\n</g>\n</g>\n</svg>\n",
            "text/plain": [
              "<graphviz.graphs.Digraph at 0x7f47a5376a60>"
            ]
          },
          "execution_count": 59,
          "metadata": {},
          "output_type": "execute_result"
        }
      ],
      "source": [
        "# 予測計算\n",
        "outputs = net(inputs)\n",
        "\n",
        "#  損失計算\n",
        "loss = criterion(outputs, labels)\n",
        "\n",
        "# 損失の計算グラフ可視化\n",
        "make_dot(loss, params=dict(net.named_parameters()))"
      ]
    },
    {
      "cell_type": "markdown",
      "metadata": {
        "id": "MSvDarxnQRbh"
      },
      "source": [
        "### 勾配計算"
      ]
    },
    {
      "cell_type": "code",
      "execution_count": null,
      "metadata": {
        "id": "fqzLuvQ3ix3t"
      },
      "outputs": [
        {
          "name": "stdout",
          "output_type": "stream",
          "text": [
            "[[-0.00071 -0.00071 -0.00071 ... -0.00071 -0.00071 -0.00071]\n",
            " [-0.0001  -0.0001  -0.0001  ... -0.0001  -0.0001  -0.0001 ]\n",
            " [-0.00052 -0.00052 -0.00052 ... -0.00052 -0.00052 -0.00052]\n",
            " ...\n",
            " [ 0.00147  0.00147  0.00147 ...  0.00147  0.00147  0.00147]\n",
            " [ 0.00023  0.00023  0.00023 ...  0.00023  0.00023  0.00023]\n",
            " [ 0.00028  0.00028  0.00028 ...  0.00028  0.00028  0.00028]]\n",
            "0.0008476961\n"
          ]
        }
      ],
      "source": [
        "# 勾配計算\n",
        "loss.backward()\n",
        "\n",
        "# 勾配計算結果の一部\n",
        "w = net.to('cpu').l1.weight.grad.numpy()\n",
        "print(w)\n",
        "\n",
        "# 各要素の絶対値の平均\n",
        "print(np.abs(w).mean())"
      ]
    },
    {
      "cell_type": "markdown",
      "metadata": {
        "id": "0d8Wavl7rehD"
      },
      "source": [
        "### 繰り返し計算"
      ]
    },
    {
      "cell_type": "code",
      "execution_count": null,
      "metadata": {
        "id": "3Y4-Y2KA602e"
      },
      "outputs": [],
      "source": [
        "# 乱数の固定化\n",
        "torch.manual_seed(123)\n",
        "torch.backends.cudnn.deterministic = True\n",
        "torch.use_deterministic_algorithms = True\n",
        "\n",
        "\n",
        "# モデルインスタンス生成\n",
        "net = Net2(n_input, n_output, n_hidden).to(device)\n",
        "\n",
        "# 損失関数： 交差エントロピー関数\n",
        "criterion = nn.CrossEntropyLoss()\n",
        "\n",
        "# 最適化関数: 勾配降下法\n",
        "optimizer = optim.SGD(net.parameters(), lr=lr)\n",
        "\n",
        "# 繰り返し回数\n",
        "num_epochs = 200\n",
        "\n",
        "# 評価結果記録用\n",
        "history2 = np.zeros((0,5))"
      ]
    },
    {
      "cell_type": "code",
      "execution_count": null,
      "metadata": {},
      "outputs": [
        {
          "name": "stdout",
          "output_type": "stream",
          "text": [
            "cuda:0\n"
          ]
        }
      ],
      "source": [
        "import torch\n",
        "\n",
        "# デバイスの割り当て\n",
        "device = torch.device(\"cuda:0\" if torch.cuda.is_available() else \"cpu\")\n",
        "print(device)\n"
      ]
    },
    {
      "cell_type": "code",
      "execution_count": null,
      "metadata": {
        "id": "3AeIhgM77EGp"
      },
      "outputs": [
        {
          "data": {
            "application/json": {
              "ascii": false,
              "bar_format": null,
              "colour": null,
              "elapsed": 0.00903940200805664,
              "initial": 0,
              "n": 0,
              "ncols": null,
              "nrows": null,
              "postfix": null,
              "prefix": "",
              "rate": null,
              "total": 120,
              "unit": "it",
              "unit_divisor": 1000,
              "unit_scale": false
            },
            "application/vnd.jupyter.widget-view+json": {
              "model_id": "e2f3eba39d114754bcf0c95a9ca306e4",
              "version_major": 2,
              "version_minor": 0
            },
            "text/plain": [
              "  0%|          | 0/120 [00:00<?, ?it/s]"
            ]
          },
          "metadata": {},
          "output_type": "display_data"
        },
        {
          "name": "stdout",
          "output_type": "stream",
          "text": [
            "Epoch [1/200], loss: 2.20163 acc: 0.25380 val_loss: 2.04578, val_acc: 0.49770\n"
          ]
        },
        {
          "data": {
            "application/json": {
              "ascii": false,
              "bar_format": null,
              "colour": null,
              "elapsed": 0.008147716522216797,
              "initial": 0,
              "n": 0,
              "ncols": null,
              "nrows": null,
              "postfix": null,
              "prefix": "",
              "rate": null,
              "total": 120,
              "unit": "it",
              "unit_divisor": 1000,
              "unit_scale": false
            },
            "application/vnd.jupyter.widget-view+json": {
              "model_id": "3a6db4da2bd04591b3cbd48a03640c79",
              "version_major": 2,
              "version_minor": 0
            },
            "text/plain": [
              "  0%|          | 0/120 [00:00<?, ?it/s]"
            ]
          },
          "metadata": {},
          "output_type": "display_data"
        },
        {
          "name": "stdout",
          "output_type": "stream",
          "text": [
            "Epoch [2/200], loss: 1.75824 acc: 0.60425 val_loss: 1.39275, val_acc: 0.68700\n"
          ]
        },
        {
          "data": {
            "application/json": {
              "ascii": false,
              "bar_format": null,
              "colour": null,
              "elapsed": 0.008611202239990234,
              "initial": 0,
              "n": 0,
              "ncols": null,
              "nrows": null,
              "postfix": null,
              "prefix": "",
              "rate": null,
              "total": 120,
              "unit": "it",
              "unit_divisor": 1000,
              "unit_scale": false
            },
            "application/vnd.jupyter.widget-view+json": {
              "model_id": "c61ffc915846461f99ce7828e0e97edd",
              "version_major": 2,
              "version_minor": 0
            },
            "text/plain": [
              "  0%|          | 0/120 [00:00<?, ?it/s]"
            ]
          },
          "metadata": {},
          "output_type": "display_data"
        },
        {
          "name": "stdout",
          "output_type": "stream",
          "text": [
            "Epoch [3/200], loss: 1.11288 acc: 0.75657 val_loss: 0.86513, val_acc: 0.80800\n"
          ]
        },
        {
          "data": {
            "application/json": {
              "ascii": false,
              "bar_format": null,
              "colour": null,
              "elapsed": 0.008528709411621094,
              "initial": 0,
              "n": 0,
              "ncols": null,
              "nrows": null,
              "postfix": null,
              "prefix": "",
              "rate": null,
              "total": 120,
              "unit": "it",
              "unit_divisor": 1000,
              "unit_scale": false
            },
            "application/vnd.jupyter.widget-view+json": {
              "model_id": "ece4436deed4452e85c3101a7a4d92a5",
              "version_major": 2,
              "version_minor": 0
            },
            "text/plain": [
              "  0%|          | 0/120 [00:00<?, ?it/s]"
            ]
          },
          "metadata": {},
          "output_type": "display_data"
        },
        {
          "name": "stdout",
          "output_type": "stream",
          "text": [
            "Epoch [4/200], loss: 0.75172 acc: 0.82288 val_loss: 0.63478, val_acc: 0.84390\n"
          ]
        },
        {
          "data": {
            "application/json": {
              "ascii": false,
              "bar_format": null,
              "colour": null,
              "elapsed": 0.008483648300170898,
              "initial": 0,
              "n": 0,
              "ncols": null,
              "nrows": null,
              "postfix": null,
              "prefix": "",
              "rate": null,
              "total": 120,
              "unit": "it",
              "unit_divisor": 1000,
              "unit_scale": false
            },
            "application/vnd.jupyter.widget-view+json": {
              "model_id": "bc0578304e3541bb96338fef187b09b8",
              "version_major": 2,
              "version_minor": 0
            },
            "text/plain": [
              "  0%|          | 0/120 [00:00<?, ?it/s]"
            ]
          },
          "metadata": {},
          "output_type": "display_data"
        },
        {
          "name": "stdout",
          "output_type": "stream",
          "text": [
            "Epoch [5/200], loss: 0.59029 acc: 0.84985 val_loss: 0.52461, val_acc: 0.86350\n"
          ]
        },
        {
          "data": {
            "application/json": {
              "ascii": false,
              "bar_format": null,
              "colour": null,
              "elapsed": 0.007877826690673828,
              "initial": 0,
              "n": 0,
              "ncols": null,
              "nrows": null,
              "postfix": null,
              "prefix": "",
              "rate": null,
              "total": 120,
              "unit": "it",
              "unit_divisor": 1000,
              "unit_scale": false
            },
            "application/vnd.jupyter.widget-view+json": {
              "model_id": "f875fa68b30d474e9975e243715e515e",
              "version_major": 2,
              "version_minor": 0
            },
            "text/plain": [
              "  0%|          | 0/120 [00:00<?, ?it/s]"
            ]
          },
          "metadata": {},
          "output_type": "display_data"
        },
        {
          "name": "stdout",
          "output_type": "stream",
          "text": [
            "Epoch [6/200], loss: 0.50672 acc: 0.86652 val_loss: 0.46399, val_acc: 0.87440\n"
          ]
        },
        {
          "data": {
            "application/json": {
              "ascii": false,
              "bar_format": null,
              "colour": null,
              "elapsed": 0.008404731750488281,
              "initial": 0,
              "n": 0,
              "ncols": null,
              "nrows": null,
              "postfix": null,
              "prefix": "",
              "rate": null,
              "total": 120,
              "unit": "it",
              "unit_divisor": 1000,
              "unit_scale": false
            },
            "application/vnd.jupyter.widget-view+json": {
              "model_id": "66935469a2f84d10b90c872a6352229b",
              "version_major": 2,
              "version_minor": 0
            },
            "text/plain": [
              "  0%|          | 0/120 [00:00<?, ?it/s]"
            ]
          },
          "metadata": {},
          "output_type": "display_data"
        },
        {
          "name": "stdout",
          "output_type": "stream",
          "text": [
            "Epoch [7/200], loss: 0.45681 acc: 0.87540 val_loss: 0.42148, val_acc: 0.88560\n"
          ]
        },
        {
          "data": {
            "application/json": {
              "ascii": false,
              "bar_format": null,
              "colour": null,
              "elapsed": 0.008905649185180664,
              "initial": 0,
              "n": 0,
              "ncols": null,
              "nrows": null,
              "postfix": null,
              "prefix": "",
              "rate": null,
              "total": 120,
              "unit": "it",
              "unit_divisor": 1000,
              "unit_scale": false
            },
            "application/vnd.jupyter.widget-view+json": {
              "model_id": "7e926e5b268f44388660376d1a84d9a2",
              "version_major": 2,
              "version_minor": 0
            },
            "text/plain": [
              "  0%|          | 0/120 [00:00<?, ?it/s]"
            ]
          },
          "metadata": {},
          "output_type": "display_data"
        },
        {
          "name": "stdout",
          "output_type": "stream",
          "text": [
            "Epoch [8/200], loss: 0.42335 acc: 0.88190 val_loss: 0.39551, val_acc: 0.89020\n"
          ]
        },
        {
          "data": {
            "application/json": {
              "ascii": false,
              "bar_format": null,
              "colour": null,
              "elapsed": 0.008229494094848633,
              "initial": 0,
              "n": 0,
              "ncols": null,
              "nrows": null,
              "postfix": null,
              "prefix": "",
              "rate": null,
              "total": 120,
              "unit": "it",
              "unit_divisor": 1000,
              "unit_scale": false
            },
            "application/vnd.jupyter.widget-view+json": {
              "model_id": "dde12093927c470e834f5263d65d09ff",
              "version_major": 2,
              "version_minor": 0
            },
            "text/plain": [
              "  0%|          | 0/120 [00:00<?, ?it/s]"
            ]
          },
          "metadata": {},
          "output_type": "display_data"
        },
        {
          "name": "stdout",
          "output_type": "stream",
          "text": [
            "Epoch [9/200], loss: 0.39965 acc: 0.88767 val_loss: 0.37600, val_acc: 0.89350\n"
          ]
        },
        {
          "data": {
            "application/json": {
              "ascii": false,
              "bar_format": null,
              "colour": null,
              "elapsed": 0.008911609649658203,
              "initial": 0,
              "n": 0,
              "ncols": null,
              "nrows": null,
              "postfix": null,
              "prefix": "",
              "rate": null,
              "total": 120,
              "unit": "it",
              "unit_divisor": 1000,
              "unit_scale": false
            },
            "application/vnd.jupyter.widget-view+json": {
              "model_id": "2947b8c3530d4e45b4715368f0daa73c",
              "version_major": 2,
              "version_minor": 0
            },
            "text/plain": [
              "  0%|          | 0/120 [00:00<?, ?it/s]"
            ]
          },
          "metadata": {},
          "output_type": "display_data"
        },
        {
          "name": "stdout",
          "output_type": "stream",
          "text": [
            "Epoch [10/200], loss: 0.38195 acc: 0.89187 val_loss: 0.35886, val_acc: 0.89880\n"
          ]
        },
        {
          "data": {
            "application/json": {
              "ascii": false,
              "bar_format": null,
              "colour": null,
              "elapsed": 0.007801055908203125,
              "initial": 0,
              "n": 0,
              "ncols": null,
              "nrows": null,
              "postfix": null,
              "prefix": "",
              "rate": null,
              "total": 120,
              "unit": "it",
              "unit_divisor": 1000,
              "unit_scale": false
            },
            "application/vnd.jupyter.widget-view+json": {
              "model_id": "c0cdad28de524f6a88fd34965af8bad0",
              "version_major": 2,
              "version_minor": 0
            },
            "text/plain": [
              "  0%|          | 0/120 [00:00<?, ?it/s]"
            ]
          },
          "metadata": {},
          "output_type": "display_data"
        },
        {
          "name": "stdout",
          "output_type": "stream",
          "text": [
            "Epoch [11/200], loss: 0.36793 acc: 0.89478 val_loss: 0.34926, val_acc: 0.90330\n"
          ]
        },
        {
          "data": {
            "application/json": {
              "ascii": false,
              "bar_format": null,
              "colour": null,
              "elapsed": 0.007937908172607422,
              "initial": 0,
              "n": 0,
              "ncols": null,
              "nrows": null,
              "postfix": null,
              "prefix": "",
              "rate": null,
              "total": 120,
              "unit": "it",
              "unit_divisor": 1000,
              "unit_scale": false
            },
            "application/vnd.jupyter.widget-view+json": {
              "model_id": "df882bf9a8f24147b492097d48b3c85b",
              "version_major": 2,
              "version_minor": 0
            },
            "text/plain": [
              "  0%|          | 0/120 [00:00<?, ?it/s]"
            ]
          },
          "metadata": {},
          "output_type": "display_data"
        },
        {
          "name": "stdout",
          "output_type": "stream",
          "text": [
            "Epoch [12/200], loss: 0.35633 acc: 0.89803 val_loss: 0.33760, val_acc: 0.90390\n"
          ]
        },
        {
          "data": {
            "application/json": {
              "ascii": false,
              "bar_format": null,
              "colour": null,
              "elapsed": 0.00824117660522461,
              "initial": 0,
              "n": 0,
              "ncols": null,
              "nrows": null,
              "postfix": null,
              "prefix": "",
              "rate": null,
              "total": 120,
              "unit": "it",
              "unit_divisor": 1000,
              "unit_scale": false
            },
            "application/vnd.jupyter.widget-view+json": {
              "model_id": "ae875ee0c5b940aa9dd1bac0f85404e8",
              "version_major": 2,
              "version_minor": 0
            },
            "text/plain": [
              "  0%|          | 0/120 [00:00<?, ?it/s]"
            ]
          },
          "metadata": {},
          "output_type": "display_data"
        },
        {
          "name": "stdout",
          "output_type": "stream",
          "text": [
            "Epoch [13/200], loss: 0.34649 acc: 0.89965 val_loss: 0.32775, val_acc: 0.90590\n"
          ]
        },
        {
          "data": {
            "application/json": {
              "ascii": false,
              "bar_format": null,
              "colour": null,
              "elapsed": 0.008041858673095703,
              "initial": 0,
              "n": 0,
              "ncols": null,
              "nrows": null,
              "postfix": null,
              "prefix": "",
              "rate": null,
              "total": 120,
              "unit": "it",
              "unit_divisor": 1000,
              "unit_scale": false
            },
            "application/vnd.jupyter.widget-view+json": {
              "model_id": "58a6e1ecfac2465aa004031e1bad8e2b",
              "version_major": 2,
              "version_minor": 0
            },
            "text/plain": [
              "  0%|          | 0/120 [00:00<?, ?it/s]"
            ]
          },
          "metadata": {},
          "output_type": "display_data"
        },
        {
          "name": "stdout",
          "output_type": "stream",
          "text": [
            "Epoch [14/200], loss: 0.33814 acc: 0.90205 val_loss: 0.32063, val_acc: 0.90760\n"
          ]
        },
        {
          "data": {
            "application/json": {
              "ascii": false,
              "bar_format": null,
              "colour": null,
              "elapsed": 0.00817728042602539,
              "initial": 0,
              "n": 0,
              "ncols": null,
              "nrows": null,
              "postfix": null,
              "prefix": "",
              "rate": null,
              "total": 120,
              "unit": "it",
              "unit_divisor": 1000,
              "unit_scale": false
            },
            "application/vnd.jupyter.widget-view+json": {
              "model_id": "47be463a95c74482bdf96018c85c0265",
              "version_major": 2,
              "version_minor": 0
            },
            "text/plain": [
              "  0%|          | 0/120 [00:00<?, ?it/s]"
            ]
          },
          "metadata": {},
          "output_type": "display_data"
        },
        {
          "name": "stdout",
          "output_type": "stream",
          "text": [
            "Epoch [15/200], loss: 0.33042 acc: 0.90460 val_loss: 0.31808, val_acc: 0.90750\n"
          ]
        },
        {
          "data": {
            "application/json": {
              "ascii": false,
              "bar_format": null,
              "colour": null,
              "elapsed": 0.008762598037719727,
              "initial": 0,
              "n": 0,
              "ncols": null,
              "nrows": null,
              "postfix": null,
              "prefix": "",
              "rate": null,
              "total": 120,
              "unit": "it",
              "unit_divisor": 1000,
              "unit_scale": false
            },
            "application/vnd.jupyter.widget-view+json": {
              "model_id": "fe5b63512e0749b09d1a772dc5a93416",
              "version_major": 2,
              "version_minor": 0
            },
            "text/plain": [
              "  0%|          | 0/120 [00:00<?, ?it/s]"
            ]
          },
          "metadata": {},
          "output_type": "display_data"
        },
        {
          "name": "stdout",
          "output_type": "stream",
          "text": [
            "Epoch [16/200], loss: 0.32382 acc: 0.90600 val_loss: 0.31015, val_acc: 0.91130\n"
          ]
        },
        {
          "data": {
            "application/json": {
              "ascii": false,
              "bar_format": null,
              "colour": null,
              "elapsed": 0.00874471664428711,
              "initial": 0,
              "n": 0,
              "ncols": null,
              "nrows": null,
              "postfix": null,
              "prefix": "",
              "rate": null,
              "total": 120,
              "unit": "it",
              "unit_divisor": 1000,
              "unit_scale": false
            },
            "application/vnd.jupyter.widget-view+json": {
              "model_id": "e18ce0df9f8a423e925448000cec532c",
              "version_major": 2,
              "version_minor": 0
            },
            "text/plain": [
              "  0%|          | 0/120 [00:00<?, ?it/s]"
            ]
          },
          "metadata": {},
          "output_type": "display_data"
        },
        {
          "ename": "KeyboardInterrupt",
          "evalue": "",
          "output_type": "error",
          "traceback": [
            "\u001b[0;31m---------------------------------------------------------------------------\u001b[0m",
            "\u001b[0;31mKeyboardInterrupt\u001b[0m                         Traceback (most recent call last)",
            "\u001b[1;32mセル88 を /workspaces/pytorch_deeplearning_programming/notebook/ch08_dl.ipynb\u001b[0m in \u001b[0;36m<cell line: 3>\u001b[0;34m()\u001b[0m\n\u001b[1;32m      <a href='vscode-notebook-cell://dev-container%2B2f686f6d652f72656e79612f446576656c6f702f7079746f7263682f7079746f7263685f646565706c6561726e696e675f70726f6772616d6d696e67/workspaces/pytorch_deeplearning_programming/notebook/ch08_dl.ipynb#Y153sdnNjb2RlLXJlbW90ZQ%3D%3D?line=8'>9</a>\u001b[0m n_test \u001b[39m=\u001b[39m \u001b[39m0\u001b[39m\n\u001b[1;32m     <a href='vscode-notebook-cell://dev-container%2B2f686f6d652f72656e79612f446576656c6f702f7079746f7263682f7079746f7263685f646565706c6561726e696e675f70726f6772616d6d696e67/workspaces/pytorch_deeplearning_programming/notebook/ch08_dl.ipynb#Y153sdnNjb2RlLXJlbW90ZQ%3D%3D?line=10'>11</a>\u001b[0m \u001b[39m# 訓練フェーズ\u001b[39;00m\n\u001b[0;32m---> <a href='vscode-notebook-cell://dev-container%2B2f686f6d652f72656e79612f446576656c6f702f7079746f7263682f7079746f7263685f646565706c6561726e696e675f70726f6772616d6d696e67/workspaces/pytorch_deeplearning_programming/notebook/ch08_dl.ipynb#Y153sdnNjb2RlLXJlbW90ZQ%3D%3D?line=11'>12</a>\u001b[0m \u001b[39mfor\u001b[39;00m inputs, labels \u001b[39min\u001b[39;00m tqdm(train_loader):\n\u001b[1;32m     <a href='vscode-notebook-cell://dev-container%2B2f686f6d652f72656e79612f446576656c6f702f7079746f7263682f7079746f7263685f646565706c6561726e696e675f70726f6772616d6d696e67/workspaces/pytorch_deeplearning_programming/notebook/ch08_dl.ipynb#Y153sdnNjb2RlLXJlbW90ZQ%3D%3D?line=12'>13</a>\u001b[0m     n_train \u001b[39m+\u001b[39m\u001b[39m=\u001b[39m \u001b[39mlen\u001b[39m(labels)\n\u001b[1;32m     <a href='vscode-notebook-cell://dev-container%2B2f686f6d652f72656e79612f446576656c6f702f7079746f7263682f7079746f7263685f646565706c6561726e696e675f70726f6772616d6d696e67/workspaces/pytorch_deeplearning_programming/notebook/ch08_dl.ipynb#Y153sdnNjb2RlLXJlbW90ZQ%3D%3D?line=14'>15</a>\u001b[0m     \u001b[39m# GPUヘ転送\u001b[39;00m\n",
            "File \u001b[0;32m/opt/conda/lib/python3.8/site-packages/tqdm/notebook.py:258\u001b[0m, in \u001b[0;36mtqdm_notebook.__iter__\u001b[0;34m(self)\u001b[0m\n\u001b[1;32m    256\u001b[0m \u001b[39mtry\u001b[39;00m:\n\u001b[1;32m    257\u001b[0m     it \u001b[39m=\u001b[39m \u001b[39msuper\u001b[39m(tqdm_notebook, \u001b[39mself\u001b[39m)\u001b[39m.\u001b[39m\u001b[39m__iter__\u001b[39m()\n\u001b[0;32m--> 258\u001b[0m     \u001b[39mfor\u001b[39;00m obj \u001b[39min\u001b[39;00m it:\n\u001b[1;32m    259\u001b[0m         \u001b[39m# return super(tqdm...) will not catch exception\u001b[39;00m\n\u001b[1;32m    260\u001b[0m         \u001b[39myield\u001b[39;00m obj\n\u001b[1;32m    261\u001b[0m \u001b[39m# NB: except ... [ as ...] breaks IPython async KeyboardInterrupt\u001b[39;00m\n",
            "File \u001b[0;32m/opt/conda/lib/python3.8/site-packages/tqdm/std.py:1195\u001b[0m, in \u001b[0;36mtqdm.__iter__\u001b[0;34m(self)\u001b[0m\n\u001b[1;32m   1192\u001b[0m time \u001b[39m=\u001b[39m \u001b[39mself\u001b[39m\u001b[39m.\u001b[39m_time\n\u001b[1;32m   1194\u001b[0m \u001b[39mtry\u001b[39;00m:\n\u001b[0;32m-> 1195\u001b[0m     \u001b[39mfor\u001b[39;00m obj \u001b[39min\u001b[39;00m iterable:\n\u001b[1;32m   1196\u001b[0m         \u001b[39myield\u001b[39;00m obj\n\u001b[1;32m   1197\u001b[0m         \u001b[39m# Update and possibly print the progressbar.\u001b[39;00m\n\u001b[1;32m   1198\u001b[0m         \u001b[39m# Note: does not call self.update(1) for speed optimisation.\u001b[39;00m\n",
            "File \u001b[0;32m/opt/conda/lib/python3.8/site-packages/torch/utils/data/dataloader.py:668\u001b[0m, in \u001b[0;36m_BaseDataLoaderIter.__next__\u001b[0;34m(self)\u001b[0m\n\u001b[1;32m    665\u001b[0m \u001b[39mif\u001b[39;00m \u001b[39mself\u001b[39m\u001b[39m.\u001b[39m_sampler_iter \u001b[39mis\u001b[39;00m \u001b[39mNone\u001b[39;00m:\n\u001b[1;32m    666\u001b[0m     \u001b[39m# TODO(https://github.com/pytorch/pytorch/issues/76750)\u001b[39;00m\n\u001b[1;32m    667\u001b[0m     \u001b[39mself\u001b[39m\u001b[39m.\u001b[39m_reset()  \u001b[39m# type: ignore[call-arg]\u001b[39;00m\n\u001b[0;32m--> 668\u001b[0m data \u001b[39m=\u001b[39m \u001b[39mself\u001b[39;49m\u001b[39m.\u001b[39;49m_next_data()\n\u001b[1;32m    669\u001b[0m \u001b[39mself\u001b[39m\u001b[39m.\u001b[39m_num_yielded \u001b[39m+\u001b[39m\u001b[39m=\u001b[39m \u001b[39m1\u001b[39m\n\u001b[1;32m    670\u001b[0m \u001b[39mif\u001b[39;00m \u001b[39mself\u001b[39m\u001b[39m.\u001b[39m_dataset_kind \u001b[39m==\u001b[39m _DatasetKind\u001b[39m.\u001b[39mIterable \u001b[39mand\u001b[39;00m \\\n\u001b[1;32m    671\u001b[0m         \u001b[39mself\u001b[39m\u001b[39m.\u001b[39m_IterableDataset_len_called \u001b[39mis\u001b[39;00m \u001b[39mnot\u001b[39;00m \u001b[39mNone\u001b[39;00m \u001b[39mand\u001b[39;00m \\\n\u001b[1;32m    672\u001b[0m         \u001b[39mself\u001b[39m\u001b[39m.\u001b[39m_num_yielded \u001b[39m>\u001b[39m \u001b[39mself\u001b[39m\u001b[39m.\u001b[39m_IterableDataset_len_called:\n",
            "File \u001b[0;32m/opt/conda/lib/python3.8/site-packages/torch/utils/data/dataloader.py:706\u001b[0m, in \u001b[0;36m_SingleProcessDataLoaderIter._next_data\u001b[0;34m(self)\u001b[0m\n\u001b[1;32m    704\u001b[0m \u001b[39mdef\u001b[39;00m \u001b[39m_next_data\u001b[39m(\u001b[39mself\u001b[39m):\n\u001b[1;32m    705\u001b[0m     index \u001b[39m=\u001b[39m \u001b[39mself\u001b[39m\u001b[39m.\u001b[39m_next_index()  \u001b[39m# may raise StopIteration\u001b[39;00m\n\u001b[0;32m--> 706\u001b[0m     data \u001b[39m=\u001b[39m \u001b[39mself\u001b[39;49m\u001b[39m.\u001b[39;49m_dataset_fetcher\u001b[39m.\u001b[39;49mfetch(index)  \u001b[39m# may raise StopIteration\u001b[39;00m\n\u001b[1;32m    707\u001b[0m     \u001b[39mif\u001b[39;00m \u001b[39mself\u001b[39m\u001b[39m.\u001b[39m_pin_memory:\n\u001b[1;32m    708\u001b[0m         data \u001b[39m=\u001b[39m _utils\u001b[39m.\u001b[39mpin_memory\u001b[39m.\u001b[39mpin_memory(data, \u001b[39mself\u001b[39m\u001b[39m.\u001b[39m_pin_memory_device)\n",
            "File \u001b[0;32m/opt/conda/lib/python3.8/site-packages/torch/utils/data/_utils/fetch.py:49\u001b[0m, in \u001b[0;36m_MapDatasetFetcher.fetch\u001b[0;34m(self, possibly_batched_index)\u001b[0m\n\u001b[1;32m     47\u001b[0m \u001b[39mdef\u001b[39;00m \u001b[39mfetch\u001b[39m(\u001b[39mself\u001b[39m, possibly_batched_index):\n\u001b[1;32m     48\u001b[0m     \u001b[39mif\u001b[39;00m \u001b[39mself\u001b[39m\u001b[39m.\u001b[39mauto_collation:\n\u001b[0;32m---> 49\u001b[0m         data \u001b[39m=\u001b[39m [\u001b[39mself\u001b[39m\u001b[39m.\u001b[39mdataset[idx] \u001b[39mfor\u001b[39;00m idx \u001b[39min\u001b[39;00m possibly_batched_index]\n\u001b[1;32m     50\u001b[0m     \u001b[39melse\u001b[39;00m:\n\u001b[1;32m     51\u001b[0m         data \u001b[39m=\u001b[39m \u001b[39mself\u001b[39m\u001b[39m.\u001b[39mdataset[possibly_batched_index]\n",
            "File \u001b[0;32m/opt/conda/lib/python3.8/site-packages/torch/utils/data/_utils/fetch.py:49\u001b[0m, in \u001b[0;36m<listcomp>\u001b[0;34m(.0)\u001b[0m\n\u001b[1;32m     47\u001b[0m \u001b[39mdef\u001b[39;00m \u001b[39mfetch\u001b[39m(\u001b[39mself\u001b[39m, possibly_batched_index):\n\u001b[1;32m     48\u001b[0m     \u001b[39mif\u001b[39;00m \u001b[39mself\u001b[39m\u001b[39m.\u001b[39mauto_collation:\n\u001b[0;32m---> 49\u001b[0m         data \u001b[39m=\u001b[39m [\u001b[39mself\u001b[39;49m\u001b[39m.\u001b[39;49mdataset[idx] \u001b[39mfor\u001b[39;00m idx \u001b[39min\u001b[39;00m possibly_batched_index]\n\u001b[1;32m     50\u001b[0m     \u001b[39melse\u001b[39;00m:\n\u001b[1;32m     51\u001b[0m         data \u001b[39m=\u001b[39m \u001b[39mself\u001b[39m\u001b[39m.\u001b[39mdataset[possibly_batched_index]\n",
            "File \u001b[0;32m/opt/conda/lib/python3.8/site-packages/torchvision/datasets/mnist.py:145\u001b[0m, in \u001b[0;36mMNIST.__getitem__\u001b[0;34m(self, index)\u001b[0m\n\u001b[1;32m    142\u001b[0m img \u001b[39m=\u001b[39m Image\u001b[39m.\u001b[39mfromarray(img\u001b[39m.\u001b[39mnumpy(), mode\u001b[39m=\u001b[39m\u001b[39m\"\u001b[39m\u001b[39mL\u001b[39m\u001b[39m\"\u001b[39m)\n\u001b[1;32m    144\u001b[0m \u001b[39mif\u001b[39;00m \u001b[39mself\u001b[39m\u001b[39m.\u001b[39mtransform \u001b[39mis\u001b[39;00m \u001b[39mnot\u001b[39;00m \u001b[39mNone\u001b[39;00m:\n\u001b[0;32m--> 145\u001b[0m     img \u001b[39m=\u001b[39m \u001b[39mself\u001b[39;49m\u001b[39m.\u001b[39;49mtransform(img)\n\u001b[1;32m    147\u001b[0m \u001b[39mif\u001b[39;00m \u001b[39mself\u001b[39m\u001b[39m.\u001b[39mtarget_transform \u001b[39mis\u001b[39;00m \u001b[39mnot\u001b[39;00m \u001b[39mNone\u001b[39;00m:\n\u001b[1;32m    148\u001b[0m     target \u001b[39m=\u001b[39m \u001b[39mself\u001b[39m\u001b[39m.\u001b[39mtarget_transform(target)\n",
            "File \u001b[0;32m/opt/conda/lib/python3.8/site-packages/torchvision/transforms/transforms.py:95\u001b[0m, in \u001b[0;36mCompose.__call__\u001b[0;34m(self, img)\u001b[0m\n\u001b[1;32m     93\u001b[0m \u001b[39mdef\u001b[39;00m \u001b[39m__call__\u001b[39m(\u001b[39mself\u001b[39m, img):\n\u001b[1;32m     94\u001b[0m     \u001b[39mfor\u001b[39;00m t \u001b[39min\u001b[39;00m \u001b[39mself\u001b[39m\u001b[39m.\u001b[39mtransforms:\n\u001b[0;32m---> 95\u001b[0m         img \u001b[39m=\u001b[39m t(img)\n\u001b[1;32m     96\u001b[0m     \u001b[39mreturn\u001b[39;00m img\n",
            "File \u001b[0;32m/opt/conda/lib/python3.8/site-packages/torch/nn/modules/module.py:1186\u001b[0m, in \u001b[0;36mModule._call_impl\u001b[0;34m(self, *input, **kwargs)\u001b[0m\n\u001b[1;32m   1182\u001b[0m \u001b[39m# If we don't have any hooks, we want to skip the rest of the logic in\u001b[39;00m\n\u001b[1;32m   1183\u001b[0m \u001b[39m# this function, and just call forward.\u001b[39;00m\n\u001b[1;32m   1184\u001b[0m \u001b[39mif\u001b[39;00m \u001b[39mnot\u001b[39;00m (\u001b[39mself\u001b[39m\u001b[39m.\u001b[39m_backward_hooks \u001b[39mor\u001b[39;00m \u001b[39mself\u001b[39m\u001b[39m.\u001b[39m_forward_hooks \u001b[39mor\u001b[39;00m \u001b[39mself\u001b[39m\u001b[39m.\u001b[39m_forward_pre_hooks \u001b[39mor\u001b[39;00m _global_backward_hooks\n\u001b[1;32m   1185\u001b[0m         \u001b[39mor\u001b[39;00m _global_forward_hooks \u001b[39mor\u001b[39;00m _global_forward_pre_hooks):\n\u001b[0;32m-> 1186\u001b[0m     \u001b[39mreturn\u001b[39;00m forward_call(\u001b[39m*\u001b[39;49m\u001b[39minput\u001b[39;49m, \u001b[39m*\u001b[39;49m\u001b[39m*\u001b[39;49mkwargs)\n\u001b[1;32m   1187\u001b[0m \u001b[39m# Do not call functions when jit is used\u001b[39;00m\n\u001b[1;32m   1188\u001b[0m full_backward_hooks, non_full_backward_hooks \u001b[39m=\u001b[39m [], []\n",
            "File \u001b[0;32m/opt/conda/lib/python3.8/site-packages/torchvision/transforms/transforms.py:270\u001b[0m, in \u001b[0;36mNormalize.forward\u001b[0;34m(self, tensor)\u001b[0m\n\u001b[1;32m    262\u001b[0m \u001b[39mdef\u001b[39;00m \u001b[39mforward\u001b[39m(\u001b[39mself\u001b[39m, tensor: Tensor) \u001b[39m-\u001b[39m\u001b[39m>\u001b[39m Tensor:\n\u001b[1;32m    263\u001b[0m     \u001b[39m\"\"\"\u001b[39;00m\n\u001b[1;32m    264\u001b[0m \u001b[39m    Args:\u001b[39;00m\n\u001b[1;32m    265\u001b[0m \u001b[39m        tensor (Tensor): Tensor image to be normalized.\u001b[39;00m\n\u001b[0;32m   (...)\u001b[0m\n\u001b[1;32m    268\u001b[0m \u001b[39m        Tensor: Normalized Tensor image.\u001b[39;00m\n\u001b[1;32m    269\u001b[0m \u001b[39m    \"\"\"\u001b[39;00m\n\u001b[0;32m--> 270\u001b[0m     \u001b[39mreturn\u001b[39;00m F\u001b[39m.\u001b[39;49mnormalize(tensor, \u001b[39mself\u001b[39;49m\u001b[39m.\u001b[39;49mmean, \u001b[39mself\u001b[39;49m\u001b[39m.\u001b[39;49mstd, \u001b[39mself\u001b[39;49m\u001b[39m.\u001b[39;49minplace)\n",
            "File \u001b[0;32m/opt/conda/lib/python3.8/site-packages/torchvision/transforms/functional.py:359\u001b[0m, in \u001b[0;36mnormalize\u001b[0;34m(tensor, mean, std, inplace)\u001b[0m\n\u001b[1;32m    356\u001b[0m \u001b[39mif\u001b[39;00m \u001b[39mnot\u001b[39;00m \u001b[39misinstance\u001b[39m(tensor, torch\u001b[39m.\u001b[39mTensor):\n\u001b[1;32m    357\u001b[0m     \u001b[39mraise\u001b[39;00m \u001b[39mTypeError\u001b[39;00m(\u001b[39mf\u001b[39m\u001b[39m\"\u001b[39m\u001b[39mimg should be Tensor Image. Got \u001b[39m\u001b[39m{\u001b[39;00m\u001b[39mtype\u001b[39m(tensor)\u001b[39m}\u001b[39;00m\u001b[39m\"\u001b[39m)\n\u001b[0;32m--> 359\u001b[0m \u001b[39mreturn\u001b[39;00m F_t\u001b[39m.\u001b[39;49mnormalize(tensor, mean\u001b[39m=\u001b[39;49mmean, std\u001b[39m=\u001b[39;49mstd, inplace\u001b[39m=\u001b[39;49minplace)\n",
            "File \u001b[0;32m/opt/conda/lib/python3.8/site-packages/torchvision/transforms/functional_tensor.py:913\u001b[0m, in \u001b[0;36mnormalize\u001b[0;34m(tensor, mean, std, inplace)\u001b[0m\n\u001b[1;32m    910\u001b[0m     tensor \u001b[39m=\u001b[39m tensor\u001b[39m.\u001b[39mclone()\n\u001b[1;32m    912\u001b[0m dtype \u001b[39m=\u001b[39m tensor\u001b[39m.\u001b[39mdtype\n\u001b[0;32m--> 913\u001b[0m mean \u001b[39m=\u001b[39m torch\u001b[39m.\u001b[39;49mas_tensor(mean, dtype\u001b[39m=\u001b[39;49mdtype, device\u001b[39m=\u001b[39;49mtensor\u001b[39m.\u001b[39;49mdevice)\n\u001b[1;32m    914\u001b[0m std \u001b[39m=\u001b[39m torch\u001b[39m.\u001b[39mas_tensor(std, dtype\u001b[39m=\u001b[39mdtype, device\u001b[39m=\u001b[39mtensor\u001b[39m.\u001b[39mdevice)\n\u001b[1;32m    915\u001b[0m \u001b[39mif\u001b[39;00m (std \u001b[39m==\u001b[39m \u001b[39m0\u001b[39m)\u001b[39m.\u001b[39many():\n",
            "\u001b[0;31mKeyboardInterrupt\u001b[0m: "
          ]
        }
      ],
      "source": [
        "# 繰り返し計算メインループ\n",
        "\n",
        "for epoch in range(num_epochs):\n",
        "    train_acc = 0\n",
        "    train_loss = 0\n",
        "    val_acc = 0\n",
        "    val_loss = 0\n",
        "    n_train = 0\n",
        "    n_test = 0\n",
        "\n",
        "    # 訓練フェーズ\n",
        "    for inputs, labels in tqdm(train_loader):\n",
        "        n_train += len(labels)\n",
        "\n",
        "        # GPUヘ転送\n",
        "        inputs = inputs.to(device)\n",
        "        labels = labels.to(device)\n",
        "    \n",
        "        #勾配の初期化\n",
        "        optimizer.zero_grad()\n",
        "\n",
        "        # 予測計算\n",
        "        outputs = net(inputs)\n",
        "\n",
        "        # 損失計算\n",
        "        loss = criterion(outputs, labels)\n",
        "\n",
        "        # 勾配計算\n",
        "        loss.backward()\n",
        "    \n",
        "        # パラメータ修正\n",
        "        optimizer.step()\n",
        "\n",
        "        # 予測ラベル導出\n",
        "        predicted = torch.max(outputs, 1)[1]\n",
        "\n",
        "        # 損失と精度の計算\n",
        "        train_loss += loss.item()\n",
        "        train_acc += (predicted == labels).sum().item() \n",
        "\n",
        "    #予測フェーズ\n",
        "    for inputs_test, labels_test in test_loader:\n",
        "        n_test += len(labels_test)\n",
        "\n",
        "        inputs_test = inputs_test.to(device)\n",
        "        labels_test = labels_test.to(device)\n",
        "\n",
        "        # 予測計算\n",
        "        outputs_test = net(inputs_test)\n",
        "\n",
        "        # 損失計算\n",
        "        loss_test = criterion(outputs_test, labels_test)\n",
        "\n",
        "        #予測ラベル導出\n",
        "        predicted_test = torch.max(outputs_test, 1)[1]\n",
        "\n",
        "        # 損失と精度の計算\n",
        "        val_loss +=  loss_test.item()\n",
        "        val_acc +=  (predicted_test == labels_test).sum().item()\n",
        "\n",
        "    # 評価値の算出・記録\n",
        "    train_acc = train_acc / n_train\n",
        "    val_acc = val_acc / n_test\n",
        "    train_loss = train_loss * batch_size / n_train\n",
        "    val_loss = val_loss * batch_size / n_test\n",
        "    print (f'Epoch [{epoch+1}/{num_epochs}], loss: {train_loss:.5f} acc: {train_acc:.5f} val_loss: {val_loss:.5f}, val_acc: {val_acc:.5f}')\n",
        "    item = np.array([epoch+1 , train_loss, train_acc, val_loss, val_acc])\n",
        "    history2 = np.vstack((history2, item))"
      ]
    },
    {
      "cell_type": "code",
      "execution_count": null,
      "metadata": {
        "id": "Ypvzwuju7Imp"
      },
      "outputs": [],
      "source": [
        "#損失と精度の確認\n",
        "\n",
        "print(f'初期状態: 損失: {history2[0,3]:.5f} 精度: {history2[0,4]:.5f}' )\n",
        "print(f'最終状態: 損失: {history2[-1,3]:.5f} 精度: {history2[-1,4]:.5f}' )"
      ]
    },
    {
      "cell_type": "code",
      "execution_count": null,
      "metadata": {
        "id": "ZTvso0I27I2a"
      },
      "outputs": [],
      "source": [
        "# 学習曲線の表示 (損失)\n",
        "plt.plot(history2[:,0], history2[:,1], 'b', label='訓練')\n",
        "plt.plot(history2[:,0], history2[:,3], 'k', label='検証')\n",
        "plt.xlabel('繰り返し回数')\n",
        "plt.ylabel('損失')\n",
        "plt.title('学習曲線(損失)')\n",
        "plt.legend()\n",
        "plt.show()"
      ]
    },
    {
      "cell_type": "code",
      "execution_count": null,
      "metadata": {
        "id": "S5qoasEA7JEa"
      },
      "outputs": [],
      "source": [
        "# 学習曲線の表示 (精度)\n",
        "\n",
        "plt.plot(history2[:,0], history2[:,2], 'b', label='訓練')\n",
        "plt.plot(history2[:,0], history2[:,4], 'k', label='検証')\n",
        "plt.xlabel('繰り返し回数')\n",
        "plt.ylabel('精度')\n",
        "plt.title('学習曲線(精度)')\n",
        "plt.legend()\n",
        "plt.show()"
      ]
    },
    {
      "cell_type": "markdown",
      "metadata": {
        "id": "pW9O1YawQRbq"
      },
      "source": [
        "## コラム　勾配消失とReLU関数"
      ]
    },
    {
      "cell_type": "code",
      "execution_count": null,
      "metadata": {
        "id": "eAyrUWNFQRbq"
      },
      "outputs": [],
      "source": [
        "# モデルの定義　シグモイド関数バージョン\n",
        "# 784入力10出力2隠れ層のニューラルネットワークモデル\n",
        "\n",
        "class Net3(nn.Module):\n",
        "    def __init__(self, n_input, n_output, n_hidden):\n",
        "        super().__init__()\n",
        "        \n",
        "        # 隠れ層1の定義 (隠れ層のノード数: n_hidden)\n",
        "        self.l1 = nn.Linear(n_input, n_hidden)\n",
        "\n",
        "        # 隠れ層2の定義 (隠れ層のノード数: n_hidden)\n",
        "        self.l2 = nn.Linear(n_hidden, n_hidden)\n",
        "\n",
        "        # 出力層の定義\n",
        "        self.l3 = nn.Linear(n_hidden, n_output)\n",
        "\n",
        "        # シグモイド関数の定義\n",
        "        self.sigmoid = nn.Sigmoid()\n",
        "\n",
        "    def forward(self, x):\n",
        "        x1 = self.l1(x)\n",
        "        x2 = self.sigmoid(x1)\n",
        "        x3 = self.l2(x2)\n",
        "        x4 = self.sigmoid(x3)\n",
        "        x5 = self.l3(x4)\n",
        "        return x5"
      ]
    },
    {
      "cell_type": "code",
      "execution_count": null,
      "metadata": {
        "id": "6Eh3LoaBQRbr"
      },
      "outputs": [],
      "source": [
        "# 乱数の固定化\n",
        "torch.manual_seed(123)\n",
        "torch.cuda.manual_seed(123)\n",
        "\n",
        "# モデルインスタンス生成\n",
        "net = Net3(n_input, n_output, n_hidden).to(device)\n",
        "\n",
        "# 損失関数： 交差エントロピー関数\n",
        "criterion = nn.CrossEntropyLoss()\n",
        "\n",
        "# 最適化関数: 勾配降下法\n",
        "optimizer = torch.optim.SGD(net.parameters(), lr=lr)"
      ]
    },
    {
      "cell_type": "code",
      "execution_count": null,
      "metadata": {
        "id": "9jZIRBRSfsov"
      },
      "outputs": [],
      "source": [
        "# DataLoaderから最初の1セットを取得する\n",
        "for images, labels in test_loader:\n",
        "    break\n",
        "\n",
        "# 予測結果の取得\n",
        "inputs = images.to(device)\n",
        "labels = labels.to(device)"
      ]
    },
    {
      "cell_type": "code",
      "execution_count": null,
      "metadata": {
        "id": "z1OMhGtkmkR5"
      },
      "outputs": [],
      "source": [
        "# 予測計算\n",
        "outputs = net(inputs)\n",
        "\n",
        "# 損失計算\n",
        "loss = criterion(outputs, labels)\n",
        "\n",
        "# 損失の計算グラフ可視化\n",
        "make_dot(loss, params=dict(net.named_parameters()))"
      ]
    },
    {
      "cell_type": "code",
      "execution_count": null,
      "metadata": {
        "id": "hxF0mwu8HTuK"
      },
      "outputs": [],
      "source": [
        "# 勾配計算\n",
        "loss.backward()\n",
        "\n",
        "# 勾配計算結果の一部\n",
        "w = net.to('cpu').l1.weight.grad.numpy()\n",
        "print(w)\n",
        "\n",
        "# 各要素の絶対値の平均\n",
        "print(np.abs(w).mean())"
      ]
    },
    {
      "cell_type": "markdown",
      "metadata": {
        "id": "l27mdkndXTYK"
      },
      "source": [
        "## コラム　lambda式による関数定義"
      ]
    },
    {
      "cell_type": "code",
      "execution_count": null,
      "metadata": {
        "id": "uHF-e5roXToO"
      },
      "outputs": [],
      "source": [
        "# 通常の関数定義\n",
        "\n",
        "def f(x):\n",
        "    return (2 * x**2 + 2)"
      ]
    },
    {
      "cell_type": "code",
      "execution_count": null,
      "metadata": {
        "id": "fV8-PErUztA0"
      },
      "outputs": [],
      "source": [
        "x = np.arange(-2, 2.1, 0.25)\n",
        "y = f(x)\n",
        "print(y)"
      ]
    },
    {
      "cell_type": "code",
      "execution_count": null,
      "metadata": {
        "id": "6G78qvPjztA0"
      },
      "outputs": [],
      "source": [
        "# lambda式による関数定義\n",
        "\n",
        "g = lambda x: 2 * x**2 + 2"
      ]
    },
    {
      "cell_type": "code",
      "execution_count": null,
      "metadata": {
        "id": "6G6B3TKkztA0"
      },
      "outputs": [],
      "source": [
        "y = g(x)\n",
        "print(y)"
      ]
    },
    {
      "cell_type": "markdown",
      "metadata": {
        "id": "lcZ6_XudTXJe"
      },
      "source": [
        "## コラム バッチサイズと精度"
      ]
    },
    {
      "cell_type": "markdown",
      "metadata": {
        "id": "Oj1K95OlGa2I"
      },
      "source": [
        "### fit関数の定義"
      ]
    },
    {
      "cell_type": "code",
      "execution_count": null,
      "metadata": {
        "id": "jO6IAydbGlFm"
      },
      "outputs": [],
      "source": [
        "# 学習用関数\n",
        "def fit(net, optimizer, criterion, num_epochs, train_loader, test_loader, device, history):\n",
        "    base_epochs = len(history)\n",
        "    for epoch in range(base_epochs, num_epochs+base_epochs):\n",
        "        train_loss = 0\n",
        "        train_acc = 0\n",
        "        val_loss = 0\n",
        "        val_acc = 0\n",
        "\n",
        "        #訓練フェーズ\n",
        "        count = 0\n",
        "\n",
        "        for inputs, labels in tqdm(train_loader):\n",
        "            count += len(labels)\n",
        "            inputs = inputs.to(device)\n",
        "            labels = labels.to(device)\n",
        "\n",
        "            # 勾配の初期化\n",
        "            optimizer.zero_grad()\n",
        "\n",
        "            # 予測計算\n",
        "            outputs = net(inputs)\n",
        "\n",
        "            # 損失計算\n",
        "            loss = criterion(outputs, labels)\n",
        "            train_loss += loss.item()\n",
        "\n",
        "            # 勾配計算\n",
        "            loss.backward()\n",
        "\n",
        "            # パラメータ修正\n",
        "            optimizer.step()\n",
        "\n",
        "            #予測ラベル算出\n",
        "            predicted = torch.max(outputs, 1)[1]\n",
        "\n",
        "            #正解件数算出\n",
        "            train_acc += (predicted == labels).sum().item()\n",
        "\n",
        "            # 訓練データに対する損失と精度の計算\n",
        "            avg_train_loss = train_loss / count\n",
        "            avg_train_acc = train_acc / count\n",
        "\n",
        "        #予測フェーズ\n",
        "        count = 0\n",
        "\n",
        "        for inputs, labels in test_loader:\n",
        "            count += len(labels)\n",
        "\n",
        "            inputs = inputs.to(device)\n",
        "            labels = labels.to(device)\n",
        "\n",
        "            # 予測計算\n",
        "            outputs = net(inputs)\n",
        "\n",
        "            # 損失計算\n",
        "            loss = criterion(outputs, labels)\n",
        "            val_loss += loss.item()\n",
        "\n",
        "            #予測ラベル算出\n",
        "            predicted = torch.max(outputs, 1)[1]\n",
        "\n",
        "            #正解件数算出\n",
        "            val_acc += (predicted == labels).sum().item()\n",
        "\n",
        "            # 検証データに対する損失と精度の計算\n",
        "            avg_val_loss = val_loss / count\n",
        "            avg_val_acc = val_acc / count\n",
        "    \n",
        "        print (f'Epoch [{(epoch+1)}/{num_epochs+base_epochs}], loss: {avg_train_loss:.5f} acc: {avg_train_acc:.5f} val_loss: {avg_val_loss:.5f}, val_acc: {avg_val_acc:.5f}')\n",
        "        item = np.array([epoch+1, avg_train_loss, avg_train_acc, avg_val_loss, avg_val_acc])\n",
        "        history = np.vstack((history, item))\n",
        "    return history"
      ]
    },
    {
      "cell_type": "code",
      "execution_count": null,
      "metadata": {
        "id": "IzdXGNUYM_sk"
      },
      "outputs": [],
      "source": [
        "# PyTorch乱数固定用\n",
        "\n",
        "def torch_seed(seed=123):\n",
        "    torch.manual_seed(seed)\n",
        "    torch.cuda.manual_seed(seed)"
      ]
    },
    {
      "cell_type": "code",
      "execution_count": null,
      "metadata": {
        "id": "0rq82O2Ti87J"
      },
      "outputs": [],
      "source": [
        "# ミニバッチのサイズ指定\n",
        "batch_size_train = 500\n",
        "\n",
        "# 訓練用データローダー\n",
        "# 訓練用なので、シャッフルをかける\n",
        "train_loader = DataLoader(\n",
        "    train_set, batch_size = batch_size_train, \n",
        "    shuffle = True)\n",
        "\n",
        "# 乱数の固定化\n",
        "torch_seed()\n",
        "\n",
        "# 学習率\n",
        "lr = 0.01\n",
        "\n",
        "# モデルインスタンス生成\n",
        "net = Net(n_input, n_output, n_hidden).to(device)\n",
        "\n",
        "# 最適化アルゴリズム: 勾配降下法\n",
        "optimizer = optim.SGD(net.parameters(), lr=lr)\n",
        "\n",
        "# 損失関数： 交差エントロピー関数\n",
        "criterion = nn.CrossEntropyLoss()\n",
        "\n",
        "# 繰り返し回数\n",
        "num_epochs = 100\n",
        "\n",
        "# 評価結果記録用\n",
        "history6 = np.zeros((0,5))"
      ]
    },
    {
      "cell_type": "code",
      "execution_count": null,
      "metadata": {
        "id": "Pr8JBupxjOaj"
      },
      "outputs": [],
      "source": [
        "history6 = fit(net, optimizer, criterion, num_epochs, train_loader, test_loader, device, history6)"
      ]
    },
    {
      "cell_type": "markdown",
      "metadata": {
        "id": "nt295NtfX_HK"
      },
      "source": [
        "### batch_size=200"
      ]
    },
    {
      "cell_type": "code",
      "execution_count": null,
      "metadata": {
        "id": "fSDG1UhbTuk4"
      },
      "outputs": [],
      "source": [
        "# ミニバッチのサイズ指定\n",
        "batch_size_train = 200\n",
        "\n",
        "# 訓練用データローダー\n",
        "# 訓練用なので、シャッフルをかける\n",
        "train_loader = DataLoader(\n",
        "    train_set, batch_size = batch_size_train, \n",
        "    shuffle = True)\n",
        "\n",
        "# 乱数の固定化\n",
        "torch_seed()\n",
        "\n",
        "# 学習率\n",
        "lr = 0.01\n",
        "\n",
        "# モデルインスタンス生成\n",
        "net = Net(n_input, n_output, n_hidden).to(device)\n",
        "\n",
        "# 最適化アルゴリズム: 勾配降下法\n",
        "optimizer = optim.SGD(net.parameters(), lr=lr)\n",
        "\n",
        "# 損失関数： 交差エントロピー関数\n",
        "criterion = nn.CrossEntropyLoss()\n",
        "\n",
        "# 繰り返し回数\n",
        "num_epochs = 100\n",
        "\n",
        "# 評価結果記録用\n",
        "history3 = np.zeros((0,5))"
      ]
    },
    {
      "cell_type": "code",
      "execution_count": null,
      "metadata": {
        "id": "4a4ozAKcH7v2"
      },
      "outputs": [],
      "source": [
        "history3 = fit(net, optimizer, criterion, num_epochs, train_loader, test_loader, device, history3)"
      ]
    },
    {
      "cell_type": "markdown",
      "metadata": {
        "id": "whmV7NaLIyJE"
      },
      "source": [
        "### batch_size=100"
      ]
    },
    {
      "cell_type": "code",
      "execution_count": null,
      "metadata": {
        "id": "90I9xU_SIu_v"
      },
      "outputs": [],
      "source": [
        "# ミニバッチのサイズ指定\n",
        "batch_size_train = 100\n",
        "\n",
        "# 訓練用データローダー\n",
        "# 訓練用なので、シャッフルをかける\n",
        "train_loader = DataLoader(\n",
        "    train_set, batch_size = batch_size_train, \n",
        "    shuffle = True)\n",
        "\n",
        "# 乱数の固定化\n",
        "torch_seed()\n",
        "\n",
        "# 学習率\n",
        "lr = 0.01\n",
        "\n",
        "# モデル初期化\n",
        "net = Net(n_input, n_output, n_hidden).to(device)\n",
        "\n",
        "# 最適化アルゴリズム: 勾配降下法\n",
        "optimizer = optim.SGD(net.parameters(), lr=lr)\n",
        "\n",
        "# 損失関数： 交差エントロピー関数\n",
        "criterion = nn.CrossEntropyLoss()\n",
        "\n",
        "# 繰り返し回数\n",
        "num_epochs = 100\n",
        "\n",
        "# 評価結果記録用\n",
        "history4 = np.zeros((0,5))"
      ]
    },
    {
      "cell_type": "code",
      "execution_count": null,
      "metadata": {
        "id": "0FVIZ5U9IvF0"
      },
      "outputs": [],
      "source": [
        "history4 = fit(net, optimizer, criterion, num_epochs, train_loader, test_loader, device, history4)"
      ]
    },
    {
      "cell_type": "markdown",
      "metadata": {
        "id": "yY58TdCuJBrR"
      },
      "source": [
        "### batch_size=50"
      ]
    },
    {
      "cell_type": "code",
      "execution_count": null,
      "metadata": {
        "id": "PsDDyUh7IvNb"
      },
      "outputs": [],
      "source": [
        "# ミニバッチのサイズ指定\n",
        "batch_size_train = 50\n",
        "\n",
        "# 訓練用データローダー\n",
        "# 訓練用なので、シャッフルをかける\n",
        "train_loader = DataLoader(\n",
        "    train_set, batch_size = batch_size_train, \n",
        "    shuffle = True)\n",
        "\n",
        "# 乱数の固定化\n",
        "torch_seed()\n",
        "\n",
        "# 学習率\n",
        "lr = 0.01\n",
        "\n",
        "# モデル初期化\n",
        "net = Net(n_input, n_output, n_hidden).to(device)\n",
        "\n",
        "# 最適化アルゴリズム: 勾配降下法\n",
        "optimizer = optim.SGD(net.parameters(), lr=lr)\n",
        "\n",
        "# 損失関数： 交差エントロピー関数\n",
        "criterion = nn.CrossEntropyLoss()\n",
        "\n",
        "# 繰り返し回数\n",
        "num_epochs = 100\n",
        "\n",
        "# 評価結果記録用\n",
        "history5 = np.zeros((0,5))"
      ]
    },
    {
      "cell_type": "code",
      "execution_count": null,
      "metadata": {
        "id": "3BEa8fHvIvoZ"
      },
      "outputs": [],
      "source": [
        "history5 = fit(net, optimizer, criterion, num_epochs, train_loader, test_loader, device, history5)"
      ]
    },
    {
      "cell_type": "markdown",
      "metadata": {
        "id": "4bJR1IpmJpGh"
      },
      "source": [
        "### 学習曲線の比較"
      ]
    },
    {
      "cell_type": "code",
      "execution_count": null,
      "metadata": {
        "id": "U6wENwdCorRu"
      },
      "outputs": [],
      "source": [
        "# 学習曲線の表示 (精度)\n",
        "\n",
        "plt.plot(history[:,0], history[:,4], label='batch_size=500', c='k', linestyle='-.')\n",
        "plt.plot(history3[:,0], history3[:,4], label='batch_size=200', c='b', linestyle='-.')\n",
        "plt.plot(history4[:,0], history4[:,4], label='batch_size=100', c='k')\n",
        "plt.plot(history5[:,0], history5[:,4], label='batch_size=50', c='b')\n",
        "plt.xlabel('繰り返し回数')\n",
        "plt.ylabel('精度')\n",
        "plt.title('学習曲線(精度)')\n",
        "plt.legend()\n",
        "plt.show()"
      ]
    },
    {
      "cell_type": "code",
      "execution_count": null,
      "metadata": {
        "id": "jCLl1jfqcjVQ"
      },
      "outputs": [],
      "source": []
    }
  ],
  "metadata": {
    "accelerator": "GPU",
    "colab": {
      "collapsed_sections": [],
      "name": "ch08_dl.ipynb",
      "provenance": [],
      "toc_visible": true
    },
    "kernelspec": {
      "display_name": "Python 3.8.13 ('base')",
      "language": "python",
      "name": "python3"
    },
    "language_info": {
      "codemirror_mode": {
        "name": "ipython",
        "version": 3
      },
      "file_extension": ".py",
      "mimetype": "text/x-python",
      "name": "python",
      "nbconvert_exporter": "python",
      "pygments_lexer": "ipython3",
      "version": "3.8.13"
    },
    "vscode": {
      "interpreter": {
        "hash": "d4d1e4263499bec80672ea0156c357c1ee493ec2b1c70f0acce89fc37c4a6abe"
      }
    }
  },
  "nbformat": 4,
  "nbformat_minor": 0
}
