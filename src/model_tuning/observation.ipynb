{
 "cells": [
  {
   "cell_type": "markdown",
   "metadata": {},
   "source": [
    "# 学習済みモデルの観察"
   ]
  },
  {
   "cell_type": "code",
   "execution_count": 69,
   "metadata": {},
   "outputs": [
    {
     "data": {
      "text/plain": [
       "'/workspaces/pytorch_deeplearning_programming/src/model_tuning'"
      ]
     },
     "execution_count": 69,
     "metadata": {},
     "output_type": "execute_result"
    }
   ],
   "source": [
    "pwd"
   ]
  },
  {
   "cell_type": "code",
   "execution_count": 70,
   "metadata": {},
   "outputs": [],
   "source": [
    "import torch\n",
    "import matplotlib.pyplot as plt\n",
    "import numpy as np\n",
    "from torch.utils.data import DataLoader\n",
    "from preprocess import Preprocess"
   ]
  },
  {
   "cell_type": "code",
   "execution_count": 71,
   "metadata": {},
   "outputs": [
    {
     "name": "stdout",
     "output_type": "stream",
     "text": [
      "Files already downloaded and verified\n",
      "Files already downloaded and verified\n"
     ]
    },
    {
     "data": {
      "image/png": "[encoded data removed]",
      "text/plain": [
       "<Figure size 216x216 with 1 Axes>"
      ]
     },
     "metadata": {
      "needs_background": "light"
     },
     "output_type": "display_data"
    }
   ],
   "source": [
    "# hyper param\n",
    "dataset_path = \"./data\"\n",
    "model_path = \"./result_Adam_with_Dropout_BatchNorm_DataAugmentation\"\n",
    "seed = 123\n",
    "mu = 0.5\n",
    "sigma = 0.5\n",
    "batch_size = 100\n",
    "classes = ('plane', 'car', 'bird', 'cat',\n",
    "           'deer', 'dog', 'frog', 'horse', 'ship', 'truck')\n",
    "\n",
    "preprocess = Preprocess(mu, sigma, dataset_path)\n",
    "_, test_set = preprocess.prepare_dataset()\n",
    "test_loader = DataLoader(test_set, batch_size=batch_size, shuffle=False)\n",
    "preprocess.torch_seed(seed)\n",
    "\n",
    "# get 38th image\n",
    "for images, labels in test_loader:\n",
    "    break\n",
    "image = images[37]\n",
    "label = labels[37]\n",
    "\n",
    "# show image\n",
    "plt.figure(figsize=(3, 3))\n",
    "w = image.numpy().copy()\n",
    "w2 = np.transpose(w, (1, 2, 0))\n",
    "w3 = (w2 + 1) / 2\n",
    "plt.title(classes[label])\n",
    "plt.imshow(w3)\n",
    "plt.show()"
   ]
  },
  {
   "cell_type": "code",
   "execution_count": 72,
   "metadata": {},
   "outputs": [
    {
     "name": "stdout",
     "output_type": "stream",
     "text": [
      "[['plane' '0.0000']\n",
      " ['car' '0.0377']\n",
      " ['bird' '0.0000']\n",
      " ['cat' '0.0000']\n",
      " ['deer' '0.0000']\n",
      " ['dog' '0.0000']\n",
      " ['frog' '0.0000']\n",
      " ['horse' '0.0000']\n",
      " ['ship' '0.0001']\n",
      " ['truck' '0.9623']]\n"
     ]
    }
   ],
   "source": [
    "# load trained model\n",
    "from collections import OrderedDict\n",
    "from model import CNN_with_Dropout_BatchNorm\n",
    "\n",
    "n_output = 10\n",
    "device = torch.device(\"cuda:0\" if torch.cuda.is_available() else \"cpu\")\n",
    "net = CNN_with_Dropout_BatchNorm(n_output).to(device)\n",
    "net.load_state_dict(torch.load(f\"{model_path}/model.pth\", map_location=device))\n",
    "net.eval()\n",
    "\n",
    "# get predicted value\n",
    "image = image.view(1, 3, 32, 32) # print(images.shape) -> torch.Size([100, 3, 32, 32])\n",
    "image = image.to(device)\n",
    "output = net(image)\n",
    "\n",
    "# show probability\n",
    "probs = torch.softmax(output, dim=1)\n",
    "probs_np = probs.data.to(device).numpy()[0]\n",
    "values = np.frompyfunc(lambda x: f\"{x:.04f}\", 1, 1)(probs_np)\n",
    "names = np.array(classes)\n",
    "tbl = np.array([names, values]).T\n",
    "print(tbl)"
   ]
  },
  {
   "cell_type": "markdown",
   "metadata": {},
   "source": [
    "トラックだと誤認識していることがわかる（第2候補が車）"
   ]
  }
 ],
 "metadata": {
  "kernelspec": {
   "display_name": "Python 3.8.13 ('base')",
   "language": "python",
   "name": "python3"
  },
  "language_info": {
   "codemirror_mode": {
    "name": "ipython",
    "version": 3
   },
   "file_extension": ".py",
   "mimetype": "text/x-python",
   "name": "python",
   "nbconvert_exporter": "python",
   "pygments_lexer": "ipython3",
   "version": "3.8.13"
  },
  "orig_nbformat": 4,
  "vscode": {
   "interpreter": {
    "hash": "d4d1e4263499bec80672ea0156c357c1ee493ec2b1c70f0acce89fc37c4a6abe"
   }
  }
 },
 "nbformat": 4,
 "nbformat_minor": 2
}
